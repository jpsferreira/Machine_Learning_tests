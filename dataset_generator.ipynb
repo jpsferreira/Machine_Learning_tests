{
 "cells": [
  {
   "cell_type": "code",
   "execution_count": 11,
   "metadata": {},
   "outputs": [],
   "source": [
    "from matplotlib import pyplot as plt\n",
    "import numpy as np\n",
    "import pandas as pd\n",
    "import ast\n",
    "from sklearn.model_selection import train_test_split\n",
    "import seaborn as sns"
   ]
  },
  {
   "cell_type": "code",
   "execution_count": 12,
   "metadata": {},
   "outputs": [],
   "source": [
    "l_min = 1\n",
    "l_max = 5\n",
    "\n",
    "n_l = 3  # number of values for l\n",
    "\n",
    "q_min = 10 * 10 ** 4\n",
    "q_max = 100 * 10 ** 4\n",
    "\n",
    "n_q = 3\n",
    "\n",
    "E_min = 210 * 10 ** 9\n",
    "E_max = 300 * 10 ** 9\n",
    "n_E = 3\n",
    "\n",
    "I_min = 1 * 10 ** (-5)\n",
    "I_max = 10 * 10 ** (-5)\n",
    "\n",
    "n_I = 3\n",
    "\n",
    "# Will make the vectors linearly spaced, but it's not necessary\n",
    "l_vec = np.linspace(l_min, l_max, n_l)  # in this case, l_vec = [1, 3, 5]\n",
    "q_vec = np.linspace(q_min, q_max, n_q)\n",
    "E_vec = np.linspace(E_min, E_max, n_E)\n",
    "I_vec = np.linspace(I_min, I_max, n_I)"
   ]
  },
  {
   "cell_type": "code",
   "execution_count": null,
   "metadata": {},
   "outputs": [],
   "source": []
  },
  {
   "cell_type": "code",
   "execution_count": 13,
   "metadata": {},
   "outputs": [],
   "source": [
    "# Compute all possible permutations and arrange them in a matrix (in this case [81,4])\n",
    "\n",
    "per_list = []\n",
    "for i in range(len(l_vec)):\n",
    "    for j in range(len(q_vec)):\n",
    "        for k in range(len(E_vec)):\n",
    "            for l in range(len(I_vec)):\n",
    "                per_list = np.append(per_list, np.array([[l_vec[i], q_vec[j], E_vec[k], I_vec[l]]]))\n",
    "\n",
    "per_list = per_list.reshape(-1, 4)\n",
    "\n",
    "# Shuffle the permutations\n",
    "np.random.shuffle(per_list)\n",
    "\n",
    "np.save('81_combinations', per_list)  # saved as an .npy file to use later using np.load('81_combinations')"
   ]
  },
  {
   "cell_type": "code",
   "execution_count": null,
   "metadata": {},
   "outputs": [],
   "source": []
  },
  {
   "cell_type": "code",
   "execution_count": 14,
   "metadata": {},
   "outputs": [],
   "source": [
    "# analytical solution for the beam bending problem\n",
    "\n",
    "def ana_sol(n, l, q, E, I):\n",
    "    x_min = 0\n",
    "    x_max = l\n",
    "    x = np.linspace(x_min, x_max, n)\n",
    "    y = np.zeros(len(x))\n",
    "    c_1 = -(q * l ** 3) / (24 * E * I)\n",
    "    y = (1 / (E * I)) * (((q * l) / 12) * x ** 3 - (q / 24) * x ** 4) + c_1 * x\n",
    "\n",
    "    return [x, y]\n",
    "\n",
    "def ana_sol_with_noise(n, param_list,noise):\n",
    "    l=param_list[0]\n",
    "    q=param_list[1]\n",
    "    E=param_list[2]\n",
    "    I=param_list[3]\n",
    "    x_min = 0\n",
    "    x_max = l\n",
    "    x = np.linspace(x_min, x_max, n)\n",
    "    y = np.zeros(len(x))\n",
    "    c_1 = -(q * l ** 3) / (24 * E * I)\n",
    "    y = (1 / (E * I)) * (((q * l) / 12) * x ** 3 - (q / 24) * x ** 4) + c_1 * x\n",
    "    y = y + noise * (np.random.random(len(y)) - 0.5) * (np.max(y) - np.min(y))\n",
    "\n",
    "    return [x, y]"
   ]
  },
  {
   "cell_type": "code",
   "execution_count": null,
   "metadata": {},
   "outputs": [],
   "source": []
  },
  {
   "cell_type": "code",
   "execution_count": null,
   "metadata": {},
   "outputs": [],
   "source": []
  },
  {
   "cell_type": "code",
   "execution_count": 15,
   "metadata": {},
   "outputs": [],
   "source": [
    "#alternative way to generate fake data with noise\n",
    "# Add noise\n",
    "noise_factor = 0.2\n",
    "#create dictionary with generated data\n",
    "fake_data = {}\n",
    "#dict keys: list of parameters values\n",
    "#dict values: (x,y) array \n",
    "for i in per_list:\n",
    "    fake_data[repr(i.tolist())] = ana_sol_with_noise(n, i, noise_factor)"
   ]
  },
  {
   "cell_type": "code",
   "execution_count": 16,
   "metadata": {},
   "outputs": [
    {
     "data": {
      "text/html": [
       "<div>\n",
       "<style scoped>\n",
       "    .dataframe tbody tr th:only-of-type {\n",
       "        vertical-align: middle;\n",
       "    }\n",
       "\n",
       "    .dataframe tbody tr th {\n",
       "        vertical-align: top;\n",
       "    }\n",
       "\n",
       "    .dataframe thead th {\n",
       "        text-align: right;\n",
       "    }\n",
       "</style>\n",
       "<table border=\"1\" class=\"dataframe\">\n",
       "  <thead>\n",
       "    <tr style=\"text-align: right;\">\n",
       "      <th></th>\n",
       "      <th>x</th>\n",
       "      <th>y</th>\n",
       "      <th>l</th>\n",
       "      <th>q</th>\n",
       "      <th>E</th>\n",
       "      <th>I</th>\n",
       "    </tr>\n",
       "  </thead>\n",
       "  <tbody>\n",
       "    <tr>\n",
       "      <th>0</th>\n",
       "      <td>[0.0, 0.003003003003003003, 0.0060060060060060...</td>\n",
       "      <td>[0.0028424720160092434, 0.0005091915830651112,...</td>\n",
       "      <td>3.0</td>\n",
       "      <td>100000.0</td>\n",
       "      <td>2.550000e+11</td>\n",
       "      <td>0.000010</td>\n",
       "    </tr>\n",
       "    <tr>\n",
       "      <th>1</th>\n",
       "      <td>[0.0, 0.001001001001001001, 0.0020020020020020...</td>\n",
       "      <td>[-0.0001077209468009789, 0.0001339226671078907...</td>\n",
       "      <td>1.0</td>\n",
       "      <td>550000.0</td>\n",
       "      <td>2.550000e+11</td>\n",
       "      <td>0.000010</td>\n",
       "    </tr>\n",
       "    <tr>\n",
       "      <th>2</th>\n",
       "      <td>[0.0, 0.001001001001001001, 0.0020020020020020...</td>\n",
       "      <td>[-0.00013042760791415734, -0.00018409554796804...</td>\n",
       "      <td>1.0</td>\n",
       "      <td>550000.0</td>\n",
       "      <td>3.000000e+11</td>\n",
       "      <td>0.000010</td>\n",
       "    </tr>\n",
       "    <tr>\n",
       "      <th>3</th>\n",
       "      <td>[0.0, 0.005005005005005005, 0.0100100100100100...</td>\n",
       "      <td>[-0.020343938941133385, -0.012306949640714871,...</td>\n",
       "      <td>5.0</td>\n",
       "      <td>1000000.0</td>\n",
       "      <td>2.550000e+11</td>\n",
       "      <td>0.000055</td>\n",
       "    </tr>\n",
       "    <tr>\n",
       "      <th>4</th>\n",
       "      <td>[0.0, 0.005005005005005005, 0.0100100100100100...</td>\n",
       "      <td>[-0.0009079174620958071, -0.036163860385459094...</td>\n",
       "      <td>5.0</td>\n",
       "      <td>100000.0</td>\n",
       "      <td>2.100000e+11</td>\n",
       "      <td>0.000010</td>\n",
       "    </tr>\n",
       "    <tr>\n",
       "      <th>...</th>\n",
       "      <td>...</td>\n",
       "      <td>...</td>\n",
       "      <td>...</td>\n",
       "      <td>...</td>\n",
       "      <td>...</td>\n",
       "      <td>...</td>\n",
       "    </tr>\n",
       "    <tr>\n",
       "      <th>76</th>\n",
       "      <td>[0.0, 0.005005005005005005, 0.0100100100100100...</td>\n",
       "      <td>[-0.00516533002339894, -0.0037550629001785038,...</td>\n",
       "      <td>5.0</td>\n",
       "      <td>550000.0</td>\n",
       "      <td>2.550000e+11</td>\n",
       "      <td>0.000100</td>\n",
       "    </tr>\n",
       "    <tr>\n",
       "      <th>77</th>\n",
       "      <td>[0.0, 0.001001001001001001, 0.0020020020020020...</td>\n",
       "      <td>[-3.0550159048923997e-06, -1.5854070947985634e...</td>\n",
       "      <td>1.0</td>\n",
       "      <td>100000.0</td>\n",
       "      <td>3.000000e+11</td>\n",
       "      <td>0.000055</td>\n",
       "    </tr>\n",
       "    <tr>\n",
       "      <th>78</th>\n",
       "      <td>[0.0, 0.003003003003003003, 0.0060060060060060...</td>\n",
       "      <td>[-0.0010174119941323665, -0.000184234321737287...</td>\n",
       "      <td>3.0</td>\n",
       "      <td>1000000.0</td>\n",
       "      <td>3.000000e+11</td>\n",
       "      <td>0.000055</td>\n",
       "    </tr>\n",
       "    <tr>\n",
       "      <th>79</th>\n",
       "      <td>[0.0, 0.001001001001001001, 0.0020020020020020...</td>\n",
       "      <td>[2.9506423124517743e-06, -6.498163203006106e-0...</td>\n",
       "      <td>1.0</td>\n",
       "      <td>100000.0</td>\n",
       "      <td>2.550000e+11</td>\n",
       "      <td>0.000055</td>\n",
       "    </tr>\n",
       "    <tr>\n",
       "      <th>80</th>\n",
       "      <td>[0.0, 0.003003003003003003, 0.0060060060060060...</td>\n",
       "      <td>[0.00011442622628463, -0.0002581323093357806, ...</td>\n",
       "      <td>3.0</td>\n",
       "      <td>100000.0</td>\n",
       "      <td>3.000000e+11</td>\n",
       "      <td>0.000055</td>\n",
       "    </tr>\n",
       "  </tbody>\n",
       "</table>\n",
       "<p>81 rows × 6 columns</p>\n",
       "</div>"
      ],
      "text/plain": [
       "                                                    x  \\\n",
       "0   [0.0, 0.003003003003003003, 0.0060060060060060...   \n",
       "1   [0.0, 0.001001001001001001, 0.0020020020020020...   \n",
       "2   [0.0, 0.001001001001001001, 0.0020020020020020...   \n",
       "3   [0.0, 0.005005005005005005, 0.0100100100100100...   \n",
       "4   [0.0, 0.005005005005005005, 0.0100100100100100...   \n",
       "..                                                ...   \n",
       "76  [0.0, 0.005005005005005005, 0.0100100100100100...   \n",
       "77  [0.0, 0.001001001001001001, 0.0020020020020020...   \n",
       "78  [0.0, 0.003003003003003003, 0.0060060060060060...   \n",
       "79  [0.0, 0.001001001001001001, 0.0020020020020020...   \n",
       "80  [0.0, 0.003003003003003003, 0.0060060060060060...   \n",
       "\n",
       "                                                    y    l          q  \\\n",
       "0   [0.0028424720160092434, 0.0005091915830651112,...  3.0   100000.0   \n",
       "1   [-0.0001077209468009789, 0.0001339226671078907...  1.0   550000.0   \n",
       "2   [-0.00013042760791415734, -0.00018409554796804...  1.0   550000.0   \n",
       "3   [-0.020343938941133385, -0.012306949640714871,...  5.0  1000000.0   \n",
       "4   [-0.0009079174620958071, -0.036163860385459094...  5.0   100000.0   \n",
       "..                                                ...  ...        ...   \n",
       "76  [-0.00516533002339894, -0.0037550629001785038,...  5.0   550000.0   \n",
       "77  [-3.0550159048923997e-06, -1.5854070947985634e...  1.0   100000.0   \n",
       "78  [-0.0010174119941323665, -0.000184234321737287...  3.0  1000000.0   \n",
       "79  [2.9506423124517743e-06, -6.498163203006106e-0...  1.0   100000.0   \n",
       "80  [0.00011442622628463, -0.0002581323093357806, ...  3.0   100000.0   \n",
       "\n",
       "               E         I  \n",
       "0   2.550000e+11  0.000010  \n",
       "1   2.550000e+11  0.000010  \n",
       "2   3.000000e+11  0.000010  \n",
       "3   2.550000e+11  0.000055  \n",
       "4   2.100000e+11  0.000010  \n",
       "..           ...       ...  \n",
       "76  2.550000e+11  0.000100  \n",
       "77  3.000000e+11  0.000055  \n",
       "78  3.000000e+11  0.000055  \n",
       "79  2.550000e+11  0.000055  \n",
       "80  3.000000e+11  0.000055  \n",
       "\n",
       "[81 rows x 6 columns]"
      ]
     },
     "execution_count": 16,
     "metadata": {},
     "output_type": "execute_result"
    }
   ],
   "source": [
    "#for each entry combination of (l,q,E,I) we have two columns of fake data: both x and noisy y \n",
    "fake_dataframe=pd.DataFrame.from_dict(fake_data,orient='index',columns=['x', 'y'])\n",
    "#I will now dstructure the data in such a way that we are able to immediatly assess \n",
    "# which entry combination of (l,q,E,I) gives a specific (x,Y)\n",
    "#let's clean a little\n",
    "fake_dataframe=fake_dataframe.rename_axis('parameters').reset_index()\n",
    "fake_dataframe.parameters=[eval(fake_dataframe.parameters[i]) for i in range(len(fake_dataframe))]\n",
    "fake_dataframe[['l','q','E','I']] = pd.DataFrame(fake_dataframe.parameters.tolist(), index= fake_dataframe.index)\n",
    "fake_dataframe=fake_dataframe.drop(columns='parameters')\n",
    "#let's seean example of structured data\n",
    "fake_dataframe"
   ]
  },
  {
   "cell_type": "code",
   "execution_count": 17,
   "metadata": {},
   "outputs": [
    {
     "data": {
      "image/png": "[encoded data removed]",
      "text/plain": [
       "<Figure size 432x288 with 1 Axes>"
      ]
     },
     "metadata": {
      "needs_background": "light"
     },
     "output_type": "display_data"
    }
   ],
   "source": [
    "#plot the 1st entry of the dataframe\n",
    "plt.scatter(fake_dataframe['x'][1],fake_dataframe['y'][1],label=str(fake_dataframe.index[1]))\n",
    "plt.show()"
   ]
  },
  {
   "cell_type": "code",
   "execution_count": null,
   "metadata": {},
   "outputs": [],
   "source": []
  },
  {
   "cell_type": "code",
   "execution_count": 20,
   "metadata": {},
   "outputs": [],
   "source": [
    "#with the dataset organized is much easier to split the data.\n",
    "#https://stackoverflow.com/questions/38250710/how-to-split-data-into-3-sets-train-validation-and-test\n",
    "#let's take a look at an example \n",
    "test_split=0.1 #we will use 10% of the data for testing. \n",
    "df = fake_dataframe\n",
    "train_dataset, test_dataset = train_test_split(df, test_size = test_split)"
   ]
  },
  {
   "cell_type": "code",
   "execution_count": 21,
   "metadata": {},
   "outputs": [
    {
     "name": "stdout",
     "output_type": "stream",
     "text": [
      "Training set:  (72, 6)\n",
      "Test set:  (9, 6)\n"
     ]
    }
   ],
   "source": [
    "#the training data will be spllited automatically by 80/20 during training using keras framework. \n",
    "# no need to split at this stage.\n",
    "#let's check the array shapes: \n",
    "print('Training set: ',train.shape)\n",
    "print('Test set: ',test.shape)"
   ]
  },
  {
   "cell_type": "code",
   "execution_count": 22,
   "metadata": {},
   "outputs": [
    {
     "data": {
      "text/plain": [
       "<seaborn.axisgrid.PairGrid at 0x7f9edad77b10>"
      ]
     },
     "execution_count": 22,
     "metadata": {},
     "output_type": "execute_result"
    },
    {
     "data": {
      "image/png": "[encoded data removed]",
      "text/plain": [
       "<Figure size 720x720 with 20 Axes>"
      ]
     },
     "metadata": {
      "needs_background": "light"
     },
     "output_type": "display_data"
    }
   ],
   "source": [
    "#inspect the training dataset\n",
    "sns.pairplot(train_dataset[['l', 'q', 'E', 'I']], diag_kind='kde')"
   ]
  },
  {
   "cell_type": "code",
   "execution_count": 23,
   "metadata": {},
   "outputs": [
    {
     "data": {
      "text/html": [
       "<div>\n",
       "<style scoped>\n",
       "    .dataframe tbody tr th:only-of-type {\n",
       "        vertical-align: middle;\n",
       "    }\n",
       "\n",
       "    .dataframe tbody tr th {\n",
       "        vertical-align: top;\n",
       "    }\n",
       "\n",
       "    .dataframe thead th {\n",
       "        text-align: right;\n",
       "    }\n",
       "</style>\n",
       "<table border=\"1\" class=\"dataframe\">\n",
       "  <thead>\n",
       "    <tr style=\"text-align: right;\">\n",
       "      <th></th>\n",
       "      <th>count</th>\n",
       "      <th>mean</th>\n",
       "      <th>std</th>\n",
       "      <th>min</th>\n",
       "      <th>25%</th>\n",
       "      <th>50%</th>\n",
       "      <th>75%</th>\n",
       "      <th>max</th>\n",
       "    </tr>\n",
       "  </thead>\n",
       "  <tbody>\n",
       "    <tr>\n",
       "      <th>l</th>\n",
       "      <td>72.0</td>\n",
       "      <td>2.972222e+00</td>\n",
       "      <td>1.661259e+00</td>\n",
       "      <td>1.000000e+00</td>\n",
       "      <td>1.000000e+00</td>\n",
       "      <td>3.000000e+00</td>\n",
       "      <td>5.000000e+00</td>\n",
       "      <td>5.000000e+00</td>\n",
       "    </tr>\n",
       "    <tr>\n",
       "      <th>q</th>\n",
       "      <td>72.0</td>\n",
       "      <td>5.500000e+05</td>\n",
       "      <td>3.700019e+05</td>\n",
       "      <td>1.000000e+05</td>\n",
       "      <td>1.000000e+05</td>\n",
       "      <td>5.500000e+05</td>\n",
       "      <td>1.000000e+06</td>\n",
       "      <td>1.000000e+06</td>\n",
       "    </tr>\n",
       "    <tr>\n",
       "      <th>E</th>\n",
       "      <td>72.0</td>\n",
       "      <td>2.568750e+11</td>\n",
       "      <td>3.656402e+10</td>\n",
       "      <td>2.100000e+11</td>\n",
       "      <td>2.100000e+11</td>\n",
       "      <td>2.550000e+11</td>\n",
       "      <td>3.000000e+11</td>\n",
       "      <td>3.000000e+11</td>\n",
       "    </tr>\n",
       "    <tr>\n",
       "      <th>I</th>\n",
       "      <td>72.0</td>\n",
       "      <td>5.375000e-05</td>\n",
       "      <td>3.774218e-05</td>\n",
       "      <td>1.000000e-05</td>\n",
       "      <td>1.000000e-05</td>\n",
       "      <td>5.500000e-05</td>\n",
       "      <td>1.000000e-04</td>\n",
       "      <td>1.000000e-04</td>\n",
       "    </tr>\n",
       "  </tbody>\n",
       "</table>\n",
       "</div>"
      ],
      "text/plain": [
       "   count          mean           std           min           25%  \\\n",
       "l   72.0  2.972222e+00  1.661259e+00  1.000000e+00  1.000000e+00   \n",
       "q   72.0  5.500000e+05  3.700019e+05  1.000000e+05  1.000000e+05   \n",
       "E   72.0  2.568750e+11  3.656402e+10  2.100000e+11  2.100000e+11   \n",
       "I   72.0  5.375000e-05  3.774218e-05  1.000000e-05  1.000000e-05   \n",
       "\n",
       "            50%           75%           max  \n",
       "l  3.000000e+00  5.000000e+00  5.000000e+00  \n",
       "q  5.500000e+05  1.000000e+06  1.000000e+06  \n",
       "E  2.550000e+11  3.000000e+11  3.000000e+11  \n",
       "I  5.500000e-05  1.000000e-04  1.000000e-04  "
      ]
     },
     "execution_count": 23,
     "metadata": {},
     "output_type": "execute_result"
    }
   ],
   "source": [
    "train_dataset.describe().transpose()"
   ]
  },
  {
   "cell_type": "code",
   "execution_count": 24,
   "metadata": {},
   "outputs": [],
   "source": [
    "#follow this tutorial for our data \n",
    "# https://www.tensorflow.org/tutorials/keras/regression\n",
    "#whenever possible, add comments and discussion"
   ]
  },
  {
   "cell_type": "code",
   "execution_count": null,
   "metadata": {},
   "outputs": [],
   "source": []
  },
  {
   "cell_type": "code",
   "execution_count": null,
   "metadata": {},
   "outputs": [],
   "source": [
    "#get the max \"y\" for each entry\n",
    "fake_dataframe.y.apply(max)\n",
    "#at this point we could plot very interesting stuff such as ymax distributions on the vars (q,l,E,I)..\n",
    "# but let's think about that later"
   ]
  },
  {
   "cell_type": "code",
   "execution_count": 188,
   "metadata": {},
   "outputs": [],
   "source": [
    "# Split the data\n",
    "test_split = 0.1\n",
    "\n",
    "n_test = int(0.1 * per_list.shape[0])  # number of l_q_E_I combinations for testing\n",
    "\n",
    "x_mat_test = np.zeros([n, n_test])\n",
    "x_mat_test = x_mat[:, (per_list.shape[0] - n_test):(per_list.shape[0])]\n",
    "\n",
    "x_mat_train = np.delete(x_mat, np.s_[(per_list.shape[0] - n_test):(per_list.shape[0])], 1)\n",
    "\n",
    "y_mat_test = np.zeros([n, n_test])\n",
    "y_mat_test = y_mat[:, (per_list.shape[0] - n_test):(per_list.shape[0])]\n",
    "\n",
    "y_mat_train = np.delete(y_mat, np.s_[(per_list.shape[0] - n_test):(per_list.shape[0])], 1)"
   ]
  },
  {
   "cell_type": "code",
   "execution_count": null,
   "metadata": {},
   "outputs": [],
   "source": [
    "print(x_mat_train.shape)\n",
    "print(x_mat_test.shape)"
   ]
  },
  {
   "cell_type": "code",
   "execution_count": null,
   "metadata": {},
   "outputs": [],
   "source": [
    "print(y_mat_train.shape)\n",
    "print(y_mat_test.shape)"
   ]
  },
  {
   "cell_type": "code",
   "execution_count": null,
   "metadata": {},
   "outputs": [],
   "source": [
    "np.save('81_x_vectors', x_mat)\n",
    "np.save('81_y_vectors', y_mat)\n",
    "\n",
    "np.save('x_mat_train', x_mat_train)\n",
    "np.save('y_mat_train', y_mat_train)\n",
    "\n",
    "np.save('x_mat_test', x_mat_test)\n",
    "np.save('y_mat_test', y_mat_test)"
   ]
  },
  {
   "cell_type": "code",
   "execution_count": null,
   "metadata": {},
   "outputs": [],
   "source": [
    "# Maybe a better way to have the data\n",
    "# Arranging the points in 3 dimensional np.arrays with shape [number_of_points_per_combination, number_of_x_y_combinations, 2]\n",
    "xy_points_train = np.zeros([x_mat_train.shape[0], x_mat_train.shape[1],2])\n",
    "for i in range(x_mat_train.shape[1]):\n",
    "    for j in range(x_mat_train.shape[0]):\n",
    "        xy_points_train[j, i, :] = [x_mat_train[j, i], y_mat_train[j, i]]\n",
    "        \n",
    "xy_points_test = np.zeros([x_mat_test.shape[0], x_mat_test.shape[1],2])\n",
    "for i in range(x_mat_test.shape[1]):\n",
    "    for j in range(x_mat_test.shape[0]):\n",
    "        xy_points_test[j, i, :] = [x_mat_test[j, i], y_mat_test[j, i]]"
   ]
  },
  {
   "cell_type": "code",
   "execution_count": null,
   "metadata": {
    "scrolled": true
   },
   "outputs": [],
   "source": [
    "print(xy_points_test[:,0,:])\n",
    "print('\\n')\n",
    "print(xy_points_test[:,7,:])"
   ]
  },
  {
   "cell_type": "code",
   "execution_count": null,
   "metadata": {},
   "outputs": [],
   "source": [
    "np.save('xy_points_train', xy_points_train)\n",
    "\n",
    "np.save('xy_points_test', xy_points_test)"
   ]
  }
 ],
 "metadata": {
  "kernelspec": {
   "display_name": "tf",
   "language": "python",
   "name": "tf"
  },
  "language_info": {
   "codemirror_mode": {
    "name": "ipython",
    "version": 3
   },
   "file_extension": ".py",
   "mimetype": "text/x-python",
   "name": "python",
   "nbconvert_exporter": "python",
   "pygments_lexer": "ipython3",
   "version": "3.7.9"
  }
 },
 "nbformat": 4,
 "nbformat_minor": 5
}

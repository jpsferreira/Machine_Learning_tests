{
 "cells": [
  {
   "cell_type": "code",
   "execution_count": 2,
   "metadata": {},
   "outputs": [],
   "source": [
    "from matplotlib import pyplot as plt\n",
    "import numpy as np"
   ]
  },
  {
   "cell_type": "code",
   "execution_count": 3,
   "metadata": {},
   "outputs": [],
   "source": [
    "l_min = 1\n",
    "l_max = 5\n",
    "\n",
    "n_l = 3  # number of values for l\n",
    "\n",
    "q_min = 10 * 10 ** 4\n",
    "q_max = 100 * 10 ** 4\n",
    "\n",
    "n_q = 3\n",
    "\n",
    "E_min = 210 * 10 ** 9\n",
    "E_max = 300 * 10 ** 9\n",
    "n_E = 3\n",
    "\n",
    "I_min = 1 * 10 ** (-5)\n",
    "I_max = 5 * 10 ** (-5)\n",
    "\n",
    "n_I = 3\n",
    "\n",
    "# Will make the vectors linearly spaced, but it's not necessary\n",
    "l_vec = np.linspace(l_min, l_max, n_l)  # in this case, l_vec = [1, 3, 5]\n",
    "q_vec = np.linspace(q_min, q_max, n_q)\n",
    "E_vec = np.linspace(E_min, E_max, n_E)\n",
    "I_vec = np.linspace(I_min, I_max, n_I)"
   ]
  },
  {
   "cell_type": "code",
   "execution_count": 4,
   "metadata": {},
   "outputs": [],
   "source": [
    "# Compute all possible permutations and arrange them in a matrix (in this case [81,4])\n",
    "\n",
    "per_list = []\n",
    "for i in range(len(l_vec)):\n",
    "    for j in range(len(q_vec)):\n",
    "        for k in range(len(E_vec)):\n",
    "            for l in range(len(I_vec)):\n",
    "                per_list = np.append(per_list, np.array([[l_vec[i], q_vec[j], E_vec[k], I_vec[l]]]))\n",
    "\n",
    "per_list = per_list.reshape(-1, 4)\n",
    "\n",
    "# Shuffle the permutations\n",
    "np.random.shuffle(per_list)\n",
    "\n",
    "np.save('81_combinations', per_list)  # saved as an .npy file to use later using np.load('81_combinations')"
   ]
  },
  {
   "cell_type": "code",
   "execution_count": 5,
   "metadata": {},
   "outputs": [],
   "source": [
    "# analytical solution for the beam bending problem\n",
    "\n",
    "def ana_sol(n, l, q, E, I):\n",
    "    x_min = 0\n",
    "    x_max = l\n",
    "    x = np.linspace(x_min, x_max, n)\n",
    "    y = np.zeros(len(x))\n",
    "    c_1 = -(q * l ** 3) / (24 * E * I)\n",
    "    y = (1 / (E * I)) * (((q * l) / 12) * x ** 3 - (q / 24) * x ** 4) + c_1 * x\n",
    "\n",
    "    return [x, y]"
   ]
  },
  {
   "cell_type": "code",
   "execution_count": 6,
   "metadata": {},
   "outputs": [],
   "source": [
    "# Create the ficticious points for each permutation\n",
    "\n",
    "n = 1000  # number of points for each permutation\n",
    "\n",
    "x_mat = np.zeros((n, per_list.shape[0]))\n",
    "y_mat = np.zeros((n, per_list.shape[0]))\n",
    "for i in range(per_list.shape[0]):\n",
    "    x_mat[:, i] = ana_sol(n, per_list[i, 0], per_list[i, 1], per_list[i, 2], per_list[i, 3])[0]\n",
    "    y_mat[:, i] = ana_sol(n, per_list[i, 0], per_list[i, 1], per_list[i, 2], per_list[i, 3])[1]"
   ]
  },
  {
   "cell_type": "code",
   "execution_count": 7,
   "metadata": {},
   "outputs": [
    {
     "name": "stdout",
     "output_type": "stream",
     "text": [
      "(81, 4)\n",
      "\n",
      "\n",
      "[[3.00e+00 5.50e+05 3.00e+11 5.00e-05]\n",
      " [1.00e+00 5.50e+05 3.00e+11 5.00e-05]\n",
      " [3.00e+00 1.00e+05 2.55e+11 5.00e-05]\n",
      " [3.00e+00 1.00e+06 3.00e+11 3.00e-05]\n",
      " [1.00e+00 1.00e+05 2.10e+11 5.00e-05]\n",
      " [1.00e+00 1.00e+06 2.10e+11 5.00e-05]\n",
      " [1.00e+00 5.50e+05 3.00e+11 3.00e-05]\n",
      " [1.00e+00 1.00e+06 3.00e+11 5.00e-05]\n",
      " [3.00e+00 1.00e+05 2.55e+11 1.00e-05]\n",
      " [3.00e+00 1.00e+05 2.10e+11 1.00e-05]\n",
      " [5.00e+00 1.00e+05 2.55e+11 1.00e-05]\n",
      " [1.00e+00 1.00e+06 3.00e+11 3.00e-05]\n",
      " [5.00e+00 5.50e+05 2.10e+11 3.00e-05]\n",
      " [1.00e+00 1.00e+05 3.00e+11 3.00e-05]\n",
      " [1.00e+00 1.00e+06 2.10e+11 1.00e-05]]\n"
     ]
    }
   ],
   "source": [
    "print(per_list.shape)\n",
    "print('\\n')\n",
    "print(per_list[0:15])"
   ]
  },
  {
   "cell_type": "code",
   "execution_count": 8,
   "metadata": {},
   "outputs": [
    {
     "name": "stdout",
     "output_type": "stream",
     "text": [
      "(1000, 81)\n"
     ]
    }
   ],
   "source": [
    "print(x_mat.shape)"
   ]
  },
  {
   "cell_type": "code",
   "execution_count": 9,
   "metadata": {},
   "outputs": [
    {
     "name": "stdout",
     "output_type": "stream",
     "text": [
      "(1000, 81)\n"
     ]
    }
   ],
   "source": [
    "print(y_mat.shape)"
   ]
  },
  {
   "cell_type": "code",
   "execution_count": 10,
   "metadata": {},
   "outputs": [
    {
     "name": "stdout",
     "output_type": "stream",
     "text": [
      "[5.00e+00 1.00e+06 2.55e+11 5.00e-05]\n"
     ]
    }
   ],
   "source": [
    "print(per_list[80])  # [l, q, E, I]"
   ]
  },
  {
   "cell_type": "code",
   "execution_count": 11,
   "metadata": {},
   "outputs": [
    {
     "data": {
      "image/png": "[encoded data removed]",
      "text/plain": [
       "<Figure size 432x288 with 1 Axes>"
      ]
     },
     "metadata": {
      "needs_background": "light"
     },
     "output_type": "display_data"
    }
   ],
   "source": [
    "plt.scatter(x_mat[:, 80], y_mat[:, 80])\n",
    "plt.show()"
   ]
  },
  {
   "cell_type": "code",
   "execution_count": 12,
   "metadata": {},
   "outputs": [
    {
     "name": "stdout",
     "output_type": "stream",
     "text": [
      "[1.0e+00 1.0e+06 2.1e+11 5.0e-05]\n"
     ]
    }
   ],
   "source": [
    "print(per_list[5])  # [l, q, E, I]"
   ]
  },
  {
   "cell_type": "code",
   "execution_count": 13,
   "metadata": {},
   "outputs": [
    {
     "data": {
      "image/png": "[encoded data removed]",
      "text/plain": [
       "<Figure size 432x288 with 1 Axes>"
      ]
     },
     "metadata": {
      "needs_background": "light"
     },
     "output_type": "display_data"
    }
   ],
   "source": [
    "plt.scatter(x_mat[:, 5], y_mat[:, 5])\n",
    "plt.show()"
   ]
  },
  {
   "cell_type": "code",
   "execution_count": 14,
   "metadata": {},
   "outputs": [],
   "source": [
    "# Next we will add some noise to the data.\n",
    "\n",
    "# 90% of this data will be our trainig/validation data and the remaining 10% will be our test data.\n",
    "\n",
    "# We will need to decide if the matrices x_mat and y_mat are a convenient way to\n",
    "# store our points (x and y are in seperate matrices)"
   ]
  },
  {
   "cell_type": "code",
   "execution_count": 15,
   "metadata": {},
   "outputs": [],
   "source": [
    "# Add noise\n",
    "noise_factor = 0.2\n",
    "for i in range(y_mat.shape[1]):\n",
    "    y_mat[:, i] = y_mat[:, i] + noise_factor * (np.random.random(len(y_mat[:, i])) - 0.5) * (np.max(y_mat[:, i]) - np.min(y_mat[:, i]))"
   ]
  },
  {
   "cell_type": "code",
   "execution_count": 16,
   "metadata": {},
   "outputs": [
    {
     "data": {
      "image/png": "[encoded data removed]",
      "text/plain": [
       "<Figure size 432x288 with 1 Axes>"
      ]
     },
     "metadata": {
      "needs_background": "light"
     },
     "output_type": "display_data"
    }
   ],
   "source": [
    "plt.scatter(x_mat[:, 5], y_mat[:, 5])\n",
    "plt.show()"
   ]
  },
  {
   "cell_type": "code",
   "execution_count": 17,
   "metadata": {},
   "outputs": [
    {
     "data": {
      "image/png": "[encoded data removed]",
      "text/plain": [
       "<Figure size 432x288 with 1 Axes>"
      ]
     },
     "metadata": {
      "needs_background": "light"
     },
     "output_type": "display_data"
    }
   ],
   "source": [
    "plt.scatter(x_mat[:, 80], y_mat[:, 80])\n",
    "plt.show()"
   ]
  },
  {
   "cell_type": "code",
   "execution_count": 18,
   "metadata": {},
   "outputs": [],
   "source": [
    "# Split the data\n",
    "test_split = 0.1\n",
    "\n",
    "n_test = int(0.1 * per_list.shape[0])  # number of l_q_E_I combinations for testing\n",
    "\n",
    "x_mat_test = np.zeros([n, n_test])\n",
    "x_mat_test = x_mat[:, (per_list.shape[0] - n_test):(per_list.shape[0])]\n",
    "\n",
    "x_mat_train = np.delete(x_mat, np.s_[(per_list.shape[0] - n_test):(per_list.shape[0])], 1)\n",
    "\n",
    "y_mat_test = np.zeros([n, n_test])\n",
    "y_mat_test = y_mat[:, (per_list.shape[0] - n_test):(per_list.shape[0])]\n",
    "\n",
    "y_mat_train = np.delete(y_mat, np.s_[(per_list.shape[0] - n_test):(per_list.shape[0])], 1)"
   ]
  },
  {
   "cell_type": "code",
   "execution_count": 19,
   "metadata": {},
   "outputs": [
    {
     "name": "stdout",
     "output_type": "stream",
     "text": [
      "(1000, 73)\n",
      "(1000, 8)\n"
     ]
    }
   ],
   "source": [
    "print(x_mat_train.shape)\n",
    "print(x_mat_test.shape)"
   ]
  },
  {
   "cell_type": "code",
   "execution_count": 20,
   "metadata": {},
   "outputs": [
    {
     "name": "stdout",
     "output_type": "stream",
     "text": [
      "(1000, 73)\n",
      "(1000, 8)\n"
     ]
    }
   ],
   "source": [
    "print(y_mat_train.shape)\n",
    "print(y_mat_test.shape)"
   ]
  },
  {
   "cell_type": "code",
   "execution_count": 21,
   "metadata": {},
   "outputs": [],
   "source": [
    "np.save('81_x_vectors', x_mat)\n",
    "np.save('81_y_vectors', y_mat)\n",
    "\n",
    "np.save('81_x_vectors', x_mat)\n",
    "np.save('81_y_vectors', y_mat)\n",
    "\n",
    "np.save('x_vectors_train', x_mat_train)\n",
    "np.save('x_vectors_test', x_mat)"
   ]
  }
 ],
 "metadata": {
  "kernelspec": {
   "display_name": "Python 3",
   "language": "python",
   "name": "python3"
  },
  "language_info": {
   "codemirror_mode": {
    "name": "ipython",
    "version": 3
   },
   "file_extension": ".py",
   "mimetype": "text/x-python",
   "name": "python",
   "nbconvert_exporter": "python",
   "pygments_lexer": "ipython3",
   "version": "3.8.5"
  }
 },
 "nbformat": 4,
 "nbformat_minor": 5
}

{
 "cells": [
  {
   "cell_type": "code",
   "execution_count": 1,
   "id": "eb75dba5",
   "metadata": {},
   "outputs": [],
   "source": [
    "from matplotlib import pyplot as plt\n",
    "import numpy as np\n",
    "import pandas as pd\n",
    "import ast\n",
    "from sklearn.model_selection import train_test_split\n",
    "import seaborn as sns"
   ]
  },
  {
   "cell_type": "code",
   "execution_count": 2,
   "id": "e9738020",
   "metadata": {},
   "outputs": [],
   "source": [
    "import tensorflow as tf\n",
    "\n",
    "from tensorflow import keras\n",
    "from tensorflow.keras import layers\n",
    "from tensorflow.keras.layers.experimental import preprocessing"
   ]
  },
  {
   "cell_type": "code",
   "execution_count": 3,
   "id": "1cd2e762",
   "metadata": {},
   "outputs": [],
   "source": [
    "def plot_the_loss_curve(epochs, mae_training, mae_validation):\n",
    "\n",
    "  plt.figure()\n",
    "  plt.xlabel(\"Epoch\")\n",
    "  plt.ylabel(\"Loss\")\n",
    "\n",
    "  plt.plot(epochs[3:], mae_training[3:], label=\"Training Loss\")\n",
    "  plt.plot(epochs[3:], mae_validation[3:], label=\"Validation Loss\")\n",
    "  plt.legend()\n",
    "  \n",
    "  # We're not going to plot the first epoch, since the loss on the first epoch\n",
    "  # is often substantially greater than the loss for other epochs.\n",
    "  merged_mae_lists = mae_training[1:] + mae_validation[1:]\n",
    "  highest_loss = max(merged_mae_lists)\n",
    "  lowest_loss = min(merged_mae_lists)\n",
    "  delta = highest_loss - lowest_loss\n",
    "  print(delta)\n",
    "\n",
    "  top_of_y_axis = highest_loss + (delta * 0.05)\n",
    "  bottom_of_y_axis = lowest_loss - (delta * 0.05)\n",
    "   \n",
    "  plt.ylim([bottom_of_y_axis, top_of_y_axis])\n",
    "  plt.show() "
   ]
  },
  {
   "cell_type": "code",
   "execution_count": 4,
   "id": "25134d06",
   "metadata": {},
   "outputs": [],
   "source": [
    "l_min = 1\n",
    "l_max = 1\n",
    "\n",
    "n_l = 1  # defined only one value for L, for now.\n",
    "\n",
    "q_min = 10 * 10 ** 4\n",
    "q_max = 100 * 10 ** 4\n",
    "\n",
    "n_q = 5\n",
    "\n",
    "E_min = 210 * 10 ** 9\n",
    "E_max = 300 * 10 ** 9\n",
    "\n",
    "n_E = 5\n",
    "\n",
    "I_min = 1 * 10 ** (-5)\n",
    "I_max = 10 * 10 ** (-5)\n",
    "\n",
    "n_I = 5\n",
    "\n",
    "# Will make the vectors linearly spaced, but it's not necessary\n",
    "l_vec = np.linspace(l_min, l_max, n_l)\n",
    "q_vec = np.linspace(q_min, q_max, n_q)\n",
    "E_vec = np.linspace(E_min, E_max, n_E)\n",
    "I_vec = np.linspace(I_min, I_max, n_I)"
   ]
  },
  {
   "cell_type": "code",
   "execution_count": 5,
   "id": "0d62b2b4",
   "metadata": {},
   "outputs": [],
   "source": [
    "# Compute all possible permutations and arrange them in a matrix\n",
    "\n",
    "per_list = []\n",
    "for i in range(len(l_vec)):\n",
    "    for j in range(len(q_vec)):\n",
    "        for k in range(len(E_vec)):\n",
    "            for l in range(len(I_vec)):\n",
    "                per_list = np.append(per_list, np.array([[l_vec[i], q_vec[j], E_vec[k], I_vec[l]]]))\n",
    "\n",
    "per_list = per_list.reshape(-1, 4)\n",
    "\n",
    "# Shuffle the permutations\n",
    "np.random.shuffle(per_list)\n",
    "\n",
    "np.save('125_combinations', per_list)  # saved as an .npy file to use later using np.load('125_combinations')"
   ]
  },
  {
   "cell_type": "code",
   "execution_count": 6,
   "id": "5c263575",
   "metadata": {},
   "outputs": [],
   "source": [
    "# analytical solution for the beam bending problem\n",
    "\n",
    "def ana_sol(n, l, q, E, I):\n",
    "    x_min = 0\n",
    "    x_max = l\n",
    "    x = np.linspace(x_min, x_max, n)\n",
    "    y = np.zeros(len(x))\n",
    "    c_1 = -(q * l ** 3) / (24 * E * I)\n",
    "    y = (1 / (E * I)) * (((q * l) / 12) * x ** 3 - (q / 24) * x ** 4) + c_1 * x\n",
    "\n",
    "    return [x, y]\n",
    "\n",
    "def ana_sol_with_noise(n, param_list,noise):\n",
    "    l=param_list[0]\n",
    "    q=param_list[1]\n",
    "    E=param_list[2]\n",
    "    I=param_list[3]\n",
    "    x_min = 0\n",
    "    x_max = l\n",
    "    x = np.linspace(x_min, x_max, n)\n",
    "    y = np.zeros(len(x))\n",
    "    c_1 = -(q * l ** 3) / (24 * E * I)\n",
    "    y = (1 / (E * I)) * (((q * l) / 12) * x ** 3 - (q / 24) * x ** 4) + c_1 * x\n",
    "    y = y + noise * (np.random.random(len(y)) - 0.5) * (np.max(y) - np.min(y))\n",
    "\n",
    "    return [x, y]"
   ]
  },
  {
   "cell_type": "code",
   "execution_count": null,
   "id": "6225b71c",
   "metadata": {},
   "outputs": [],
   "source": []
  },
  {
   "cell_type": "code",
   "execution_count": null,
   "id": "1a8d1b85",
   "metadata": {},
   "outputs": [],
   "source": []
  },
  {
   "cell_type": "code",
   "execution_count": 7,
   "id": "428f74a0",
   "metadata": {},
   "outputs": [],
   "source": [
    "#alternative way to generate fake data with noise\n",
    "n = 1000\n",
    "# Add noise\n",
    "noise_factor = 0.2\n",
    "#create dictionary with generated data\n",
    "fake_data = {}\n",
    "#dict keys: list of parameters values\n",
    "#dict values: (x,y) array \n",
    "for i in per_list:\n",
    "    fake_data[repr(i.tolist())] = ana_sol_with_noise(n, i, noise_factor)"
   ]
  },
  {
   "cell_type": "code",
   "execution_count": 8,
   "id": "fb0b2ecd",
   "metadata": {},
   "outputs": [
    {
     "data": {
      "text/html": [
       "<div>\n",
       "<style scoped>\n",
       "    .dataframe tbody tr th:only-of-type {\n",
       "        vertical-align: middle;\n",
       "    }\n",
       "\n",
       "    .dataframe tbody tr th {\n",
       "        vertical-align: top;\n",
       "    }\n",
       "\n",
       "    .dataframe thead th {\n",
       "        text-align: right;\n",
       "    }\n",
       "</style>\n",
       "<table border=\"1\" class=\"dataframe\">\n",
       "  <thead>\n",
       "    <tr style=\"text-align: right;\">\n",
       "      <th></th>\n",
       "      <th>x</th>\n",
       "      <th>y</th>\n",
       "      <th>l</th>\n",
       "      <th>q</th>\n",
       "      <th>E</th>\n",
       "      <th>I</th>\n",
       "    </tr>\n",
       "  </thead>\n",
       "  <tbody>\n",
       "    <tr>\n",
       "      <th>0</th>\n",
       "      <td>[0.0, 0.001001001001001001, 0.0020020020020020...</td>\n",
       "      <td>[-5.104886035428613e-06, -1.5684787997750715e-...</td>\n",
       "      <td>1.0</td>\n",
       "      <td>100000.0</td>\n",
       "      <td>2.100000e+11</td>\n",
       "      <td>0.000055</td>\n",
       "    </tr>\n",
       "    <tr>\n",
       "      <th>1</th>\n",
       "      <td>[0.0, 0.001001001001001001, 0.0020020020020020...</td>\n",
       "      <td>[-5.155464902533458e-06, -1.3036164017051031e-...</td>\n",
       "      <td>1.0</td>\n",
       "      <td>100000.0</td>\n",
       "      <td>2.100000e+11</td>\n",
       "      <td>0.000033</td>\n",
       "    </tr>\n",
       "    <tr>\n",
       "      <th>2</th>\n",
       "      <td>[0.0, 0.001001001001001001, 0.0020020020020020...</td>\n",
       "      <td>[-1.1254871115342848e-05, -2.0510084154195275e...</td>\n",
       "      <td>1.0</td>\n",
       "      <td>775000.0</td>\n",
       "      <td>2.775000e+11</td>\n",
       "      <td>0.000077</td>\n",
       "    </tr>\n",
       "    <tr>\n",
       "      <th>3</th>\n",
       "      <td>[0.0, 0.001001001001001001, 0.0020020020020020...</td>\n",
       "      <td>[-8.238853887837966e-05, 3.0218287938296756e-0...</td>\n",
       "      <td>1.0</td>\n",
       "      <td>1000000.0</td>\n",
       "      <td>2.775000e+11</td>\n",
       "      <td>0.000055</td>\n",
       "    </tr>\n",
       "    <tr>\n",
       "      <th>4</th>\n",
       "      <td>[0.0, 0.001001001001001001, 0.0020020020020020...</td>\n",
       "      <td>[-3.109386098166265e-06, 2.8653208083856782e-0...</td>\n",
       "      <td>1.0</td>\n",
       "      <td>100000.0</td>\n",
       "      <td>2.325000e+11</td>\n",
       "      <td>0.000100</td>\n",
       "    </tr>\n",
       "    <tr>\n",
       "      <th>...</th>\n",
       "      <td>...</td>\n",
       "      <td>...</td>\n",
       "      <td>...</td>\n",
       "      <td>...</td>\n",
       "      <td>...</td>\n",
       "      <td>...</td>\n",
       "    </tr>\n",
       "    <tr>\n",
       "      <th>120</th>\n",
       "      <td>[0.0, 0.001001001001001001, 0.0020020020020020...</td>\n",
       "      <td>[8.447946277425857e-06, -8.417439115279671e-06...</td>\n",
       "      <td>1.0</td>\n",
       "      <td>325000.0</td>\n",
       "      <td>3.000000e+11</td>\n",
       "      <td>0.000077</td>\n",
       "    </tr>\n",
       "    <tr>\n",
       "      <th>121</th>\n",
       "      <td>[0.0, 0.001001001001001001, 0.0020020020020020...</td>\n",
       "      <td>[-2.1632759811644223e-06, 1.6872758234764994e-...</td>\n",
       "      <td>1.0</td>\n",
       "      <td>100000.0</td>\n",
       "      <td>3.000000e+11</td>\n",
       "      <td>0.000077</td>\n",
       "    </tr>\n",
       "    <tr>\n",
       "      <th>122</th>\n",
       "      <td>[0.0, 0.001001001001001001, 0.0020020020020020...</td>\n",
       "      <td>[-0.0002350287549071638, 0.0002552624247505479...</td>\n",
       "      <td>1.0</td>\n",
       "      <td>775000.0</td>\n",
       "      <td>2.775000e+11</td>\n",
       "      <td>0.000010</td>\n",
       "    </tr>\n",
       "    <tr>\n",
       "      <th>123</th>\n",
       "      <td>[0.0, 0.001001001001001001, 0.0020020020020020...</td>\n",
       "      <td>[8.530340350475091e-06, 0.00014480802848578525...</td>\n",
       "      <td>1.0</td>\n",
       "      <td>550000.0</td>\n",
       "      <td>3.000000e+11</td>\n",
       "      <td>0.000010</td>\n",
       "    </tr>\n",
       "    <tr>\n",
       "      <th>124</th>\n",
       "      <td>[0.0, 0.001001001001001001, 0.0020020020020020...</td>\n",
       "      <td>[1.876961069341555e-05, 2.584422297499096e-05,...</td>\n",
       "      <td>1.0</td>\n",
       "      <td>775000.0</td>\n",
       "      <td>2.550000e+11</td>\n",
       "      <td>0.000077</td>\n",
       "    </tr>\n",
       "  </tbody>\n",
       "</table>\n",
       "<p>125 rows × 6 columns</p>\n",
       "</div>"
      ],
      "text/plain": [
       "                                                     x  \\\n",
       "0    [0.0, 0.001001001001001001, 0.0020020020020020...   \n",
       "1    [0.0, 0.001001001001001001, 0.0020020020020020...   \n",
       "2    [0.0, 0.001001001001001001, 0.0020020020020020...   \n",
       "3    [0.0, 0.001001001001001001, 0.0020020020020020...   \n",
       "4    [0.0, 0.001001001001001001, 0.0020020020020020...   \n",
       "..                                                 ...   \n",
       "120  [0.0, 0.001001001001001001, 0.0020020020020020...   \n",
       "121  [0.0, 0.001001001001001001, 0.0020020020020020...   \n",
       "122  [0.0, 0.001001001001001001, 0.0020020020020020...   \n",
       "123  [0.0, 0.001001001001001001, 0.0020020020020020...   \n",
       "124  [0.0, 0.001001001001001001, 0.0020020020020020...   \n",
       "\n",
       "                                                     y    l          q  \\\n",
       "0    [-5.104886035428613e-06, -1.5684787997750715e-...  1.0   100000.0   \n",
       "1    [-5.155464902533458e-06, -1.3036164017051031e-...  1.0   100000.0   \n",
       "2    [-1.1254871115342848e-05, -2.0510084154195275e...  1.0   775000.0   \n",
       "3    [-8.238853887837966e-05, 3.0218287938296756e-0...  1.0  1000000.0   \n",
       "4    [-3.109386098166265e-06, 2.8653208083856782e-0...  1.0   100000.0   \n",
       "..                                                 ...  ...        ...   \n",
       "120  [8.447946277425857e-06, -8.417439115279671e-06...  1.0   325000.0   \n",
       "121  [-2.1632759811644223e-06, 1.6872758234764994e-...  1.0   100000.0   \n",
       "122  [-0.0002350287549071638, 0.0002552624247505479...  1.0   775000.0   \n",
       "123  [8.530340350475091e-06, 0.00014480802848578525...  1.0   550000.0   \n",
       "124  [1.876961069341555e-05, 2.584422297499096e-05,...  1.0   775000.0   \n",
       "\n",
       "                E         I  \n",
       "0    2.100000e+11  0.000055  \n",
       "1    2.100000e+11  0.000033  \n",
       "2    2.775000e+11  0.000077  \n",
       "3    2.775000e+11  0.000055  \n",
       "4    2.325000e+11  0.000100  \n",
       "..            ...       ...  \n",
       "120  3.000000e+11  0.000077  \n",
       "121  3.000000e+11  0.000077  \n",
       "122  2.775000e+11  0.000010  \n",
       "123  3.000000e+11  0.000010  \n",
       "124  2.550000e+11  0.000077  \n",
       "\n",
       "[125 rows x 6 columns]"
      ]
     },
     "execution_count": 8,
     "metadata": {},
     "output_type": "execute_result"
    }
   ],
   "source": [
    "#for each entry combination of (l,q,E,I) we have two columns of fake data: both x and noisy y \n",
    "fake_dataframe=pd.DataFrame.from_dict(fake_data,orient='index',columns=['x', 'y'])\n",
    "#I will now dstructure the data in such a way that we are able to immediatly assess \n",
    "# which entry combination of (l,q,E,I) gives a specific (x,Y)\n",
    "#let's clean a little\n",
    "fake_dataframe=fake_dataframe.rename_axis('parameters').reset_index()\n",
    "fake_dataframe.parameters=[eval(fake_dataframe.parameters[i]) for i in range(len(fake_dataframe))]\n",
    "fake_dataframe[['l','q','E','I']] = pd.DataFrame(fake_dataframe.parameters.tolist(), index= fake_dataframe.index)\n",
    "fake_dataframe=fake_dataframe.drop(columns='parameters')\n",
    "#let's see an example of structured data\n",
    "fake_dataframe"
   ]
  },
  {
   "cell_type": "code",
   "execution_count": 9,
   "id": "4d65beeb",
   "metadata": {},
   "outputs": [
    {
     "data": {
      "image/png": "[encoded data removed]",
      "text/plain": [
       "<Figure size 432x288 with 1 Axes>"
      ]
     },
     "metadata": {
      "needs_background": "light"
     },
     "output_type": "display_data"
    }
   ],
   "source": [
    "#plot the 1st entry of the dataframe\n",
    "plt.scatter(fake_dataframe['x'][1],fake_dataframe['y'][1],label=str(fake_dataframe.index[1]))\n",
    "plt.show()"
   ]
  },
  {
   "cell_type": "code",
   "execution_count": null,
   "id": "192bc709",
   "metadata": {},
   "outputs": [],
   "source": []
  },
  {
   "cell_type": "code",
   "execution_count": 10,
   "id": "feca0f09",
   "metadata": {},
   "outputs": [],
   "source": [
    "#with the dataset organized is much easier to split the data.\n",
    "#https://stackoverflow.com/questions/38250710/how-to-split-data-into-3-sets-train-validation-and-test\n",
    "#let's take a look at an example \n",
    "test_split=0.1 #we will use 10% of the data for testing. \n",
    "df = fake_dataframe\n",
    "train_df, test_df = train_test_split(df, test_size = test_split)"
   ]
  },
  {
   "cell_type": "code",
   "execution_count": 11,
   "id": "7a096150",
   "metadata": {},
   "outputs": [
    {
     "name": "stdout",
     "output_type": "stream",
     "text": [
      "Training set:  (112, 6)\n",
      "Test set:  (13, 6)\n"
     ]
    }
   ],
   "source": [
    "#the training data will be spllited automatically by 80/20 during training using keras framework. \n",
    "# no need to split at this stage.\n",
    "#let's check the array shapes: \n",
    "print('Training set: ',train_df.shape)\n",
    "print('Test set: ',test_df.shape)\n",
    "\n",
    "train_size = train_df.shape[0]\n",
    "test_size = test_df.shape[0]"
   ]
  },
  {
   "cell_type": "code",
   "execution_count": 12,
   "id": "1ed9443c",
   "metadata": {},
   "outputs": [
    {
     "name": "stderr",
     "output_type": "stream",
     "text": [
      "C:\\Users\\luisf\\.conda\\envs\\tf\\lib\\site-packages\\seaborn\\distributions.py:306: UserWarning: Dataset has 0 variance; skipping density estimate.\n",
      "  warnings.warn(msg, UserWarning)\n"
     ]
    },
    {
     "data": {
      "text/plain": [
       "<seaborn.axisgrid.PairGrid at 0x221c7c85c10>"
      ]
     },
     "execution_count": 12,
     "metadata": {},
     "output_type": "execute_result"
    },
    {
     "data": {
      "image/png": "[encoded data removed]",
      "text/plain": [
       "<Figure size 720x720 with 20 Axes>"
      ]
     },
     "metadata": {
      "needs_background": "light"
     },
     "output_type": "display_data"
    }
   ],
   "source": [
    "#inspect the training dataset\n",
    "sns.pairplot(train_df[['l', 'q', 'E', 'I']], diag_kind='kde')"
   ]
  },
  {
   "cell_type": "code",
   "execution_count": 13,
   "id": "ebe60d1f",
   "metadata": {},
   "outputs": [
    {
     "data": {
      "text/html": [
       "<div>\n",
       "<style scoped>\n",
       "    .dataframe tbody tr th:only-of-type {\n",
       "        vertical-align: middle;\n",
       "    }\n",
       "\n",
       "    .dataframe tbody tr th {\n",
       "        vertical-align: top;\n",
       "    }\n",
       "\n",
       "    .dataframe thead th {\n",
       "        text-align: right;\n",
       "    }\n",
       "</style>\n",
       "<table border=\"1\" class=\"dataframe\">\n",
       "  <thead>\n",
       "    <tr style=\"text-align: right;\">\n",
       "      <th></th>\n",
       "      <th>count</th>\n",
       "      <th>mean</th>\n",
       "      <th>std</th>\n",
       "      <th>min</th>\n",
       "      <th>25%</th>\n",
       "      <th>50%</th>\n",
       "      <th>75%</th>\n",
       "      <th>max</th>\n",
       "    </tr>\n",
       "  </thead>\n",
       "  <tbody>\n",
       "    <tr>\n",
       "      <th>l</th>\n",
       "      <td>112.0</td>\n",
       "      <td>1.000000e+00</td>\n",
       "      <td>0.000000e+00</td>\n",
       "      <td>1.000000e+00</td>\n",
       "      <td>1.000000e+00</td>\n",
       "      <td>1.000000e+00</td>\n",
       "      <td>1.000000e+00</td>\n",
       "      <td>1.000000e+00</td>\n",
       "    </tr>\n",
       "    <tr>\n",
       "      <th>q</th>\n",
       "      <td>112.0</td>\n",
       "      <td>5.580357e+05</td>\n",
       "      <td>3.195262e+05</td>\n",
       "      <td>1.000000e+05</td>\n",
       "      <td>3.250000e+05</td>\n",
       "      <td>5.500000e+05</td>\n",
       "      <td>7.750000e+05</td>\n",
       "      <td>1.000000e+06</td>\n",
       "    </tr>\n",
       "    <tr>\n",
       "      <th>E</th>\n",
       "      <td>112.0</td>\n",
       "      <td>2.545982e+11</td>\n",
       "      <td>3.152925e+10</td>\n",
       "      <td>2.100000e+11</td>\n",
       "      <td>2.325000e+11</td>\n",
       "      <td>2.550000e+11</td>\n",
       "      <td>2.775000e+11</td>\n",
       "      <td>3.000000e+11</td>\n",
       "    </tr>\n",
       "    <tr>\n",
       "      <th>I</th>\n",
       "      <td>112.0</td>\n",
       "      <td>5.640625e-05</td>\n",
       "      <td>3.157249e-05</td>\n",
       "      <td>1.000000e-05</td>\n",
       "      <td>3.250000e-05</td>\n",
       "      <td>5.500000e-05</td>\n",
       "      <td>7.750000e-05</td>\n",
       "      <td>1.000000e-04</td>\n",
       "    </tr>\n",
       "  </tbody>\n",
       "</table>\n",
       "</div>"
      ],
      "text/plain": [
       "   count          mean           std           min           25%  \\\n",
       "l  112.0  1.000000e+00  0.000000e+00  1.000000e+00  1.000000e+00   \n",
       "q  112.0  5.580357e+05  3.195262e+05  1.000000e+05  3.250000e+05   \n",
       "E  112.0  2.545982e+11  3.152925e+10  2.100000e+11  2.325000e+11   \n",
       "I  112.0  5.640625e-05  3.157249e-05  1.000000e-05  3.250000e-05   \n",
       "\n",
       "            50%           75%           max  \n",
       "l  1.000000e+00  1.000000e+00  1.000000e+00  \n",
       "q  5.500000e+05  7.750000e+05  1.000000e+06  \n",
       "E  2.550000e+11  2.775000e+11  3.000000e+11  \n",
       "I  5.500000e-05  7.750000e-05  1.000000e-04  "
      ]
     },
     "execution_count": 13,
     "metadata": {},
     "output_type": "execute_result"
    }
   ],
   "source": [
    "train_df.describe().transpose()"
   ]
  },
  {
   "cell_type": "code",
   "execution_count": 14,
   "id": "c1f36898",
   "metadata": {},
   "outputs": [],
   "source": [
    "# follow this tutorial for our data \n",
    "# https://www.tensorflow.org/tutorials/keras/regression\n",
    "# whenever possible, add comments and discussion"
   ]
  },
  {
   "cell_type": "code",
   "execution_count": null,
   "id": "fb9ed742",
   "metadata": {},
   "outputs": [],
   "source": []
  },
  {
   "cell_type": "code",
   "execution_count": 15,
   "id": "ebc012d2",
   "metadata": {},
   "outputs": [
    {
     "data": {
      "text/plain": [
       "0     -0.000123\n",
       "1     -0.000210\n",
       "2     -0.000515\n",
       "3     -0.000934\n",
       "4     -0.000062\n",
       "         ...   \n",
       "120   -0.000200\n",
       "121   -0.000061\n",
       "122   -0.003974\n",
       "123   -0.002624\n",
       "124   -0.000559\n",
       "Name: y, Length: 125, dtype: float64"
      ]
     },
     "execution_count": 15,
     "metadata": {},
     "output_type": "execute_result"
    }
   ],
   "source": [
    "# get the max \"y\" for each entry\n",
    "df.y.apply(min)\n",
    "# at this point we could plot very interesting stuff such as ymax distributions on the vars (q,l,E,I)...\n",
    "# but let's think about that later"
   ]
  },
  {
   "cell_type": "code",
   "execution_count": 16,
   "id": "27a529e5",
   "metadata": {},
   "outputs": [],
   "source": [
    "# I have fixed the value of L as 1.0 for now, so I am not using the values of [x,y] as inputs, only the values of y."
   ]
  },
  {
   "cell_type": "code",
   "execution_count": 17,
   "id": "ee5a9503",
   "metadata": {},
   "outputs": [],
   "source": [
    "# Allocate the features and the labels in different DataFrames.\n",
    "\n",
    "train_features = train_df.copy()\n",
    "test_features = test_df.copy()\n",
    "\n",
    "# train_labels = pd.DataFrame([train_features.pop('l'), train_features.pop('q'), train_features.pop('E'), train_features.pop('I')])\n",
    "# train_labels = train_labels.T\n",
    "# test_labels = pd.DataFrame([test_features.pop('l'), test_features.pop('q'), test_features.pop('E'), test_features.pop('I')])\n",
    "# test_labels = test_labels.T\n",
    "\n",
    "train_labels = pd.DataFrame([train_features.pop('q'), train_features.pop('E'), train_features.pop('I')])\n",
    "train_labels = train_labels.T\n",
    "test_labels = pd.DataFrame([test_features.pop('q'), test_features.pop('E'), test_features.pop('I')])\n",
    "test_labels = test_labels.T"
   ]
  },
  {
   "cell_type": "code",
   "execution_count": null,
   "id": "43496047",
   "metadata": {},
   "outputs": [],
   "source": [
    "# I'm not yet sure what would be the correct way to normalize the values of y, as they are in the shape of vectors."
   ]
  },
  {
   "cell_type": "code",
   "execution_count": 18,
   "id": "c6e6a2fd",
   "metadata": {},
   "outputs": [],
   "source": [
    "feature_columns = []\n",
    "\n",
    "# Will not include the values of x\n",
    "# x_col = tf.feature_column.numeric_column(\"x\")\n",
    "# feature_columns.append(x_col)\n",
    "y_col = tf.feature_column.numeric_column(\"y\")\n",
    "feature_columns.append(y_col)\n",
    "\n",
    "my_feature_layer = tf.keras.layers.DenseFeatures(feature_columns)"
   ]
  },
  {
   "cell_type": "code",
   "execution_count": 19,
   "id": "9fbf1696",
   "metadata": {},
   "outputs": [],
   "source": [
    "# Build the model and define its architecture."
   ]
  },
  {
   "cell_type": "code",
   "execution_count": 20,
   "id": "0c863d30",
   "metadata": {},
   "outputs": [],
   "source": [
    "inputs = keras.Input(shape=(n))"
   ]
  },
  {
   "cell_type": "code",
   "execution_count": 21,
   "id": "a610a710",
   "metadata": {},
   "outputs": [],
   "source": [
    "dense = layers.Dense(512, activation=\"relu\")\n",
    "x = dense(inputs)"
   ]
  },
  {
   "cell_type": "code",
   "execution_count": 22,
   "id": "936026cb",
   "metadata": {},
   "outputs": [],
   "source": [
    "x = layers.Dense(512, activation=\"relu\")(x)\n",
    "outputs = layers.Dense(3)(x)"
   ]
  },
  {
   "cell_type": "code",
   "execution_count": 23,
   "id": "1b34651d",
   "metadata": {},
   "outputs": [],
   "source": [
    "model = keras.Model(inputs=inputs, outputs=outputs, name=\"model\")"
   ]
  },
  {
   "cell_type": "code",
   "execution_count": 24,
   "id": "179c192f",
   "metadata": {},
   "outputs": [
    {
     "name": "stdout",
     "output_type": "stream",
     "text": [
      "Model: \"model\"\n",
      "_________________________________________________________________\n",
      "Layer (type)                 Output Shape              Param #   \n",
      "=================================================================\n",
      "input_1 (InputLayer)         [(None, 1000)]            0         \n",
      "_________________________________________________________________\n",
      "dense (Dense)                (None, 512)               512512    \n",
      "_________________________________________________________________\n",
      "dense_1 (Dense)              (None, 512)               262656    \n",
      "_________________________________________________________________\n",
      "dense_2 (Dense)              (None, 3)                 1539      \n",
      "=================================================================\n",
      "Total params: 776,707\n",
      "Trainable params: 776,707\n",
      "Non-trainable params: 0\n",
      "_________________________________________________________________\n"
     ]
    }
   ],
   "source": [
    "model.summary()"
   ]
  },
  {
   "cell_type": "code",
   "execution_count": 25,
   "id": "8aebd143",
   "metadata": {},
   "outputs": [],
   "source": [
    "# Set the hyperparameters\n",
    "\n",
    "validation_split=0.2\n",
    "learning_rate = 0.2\n",
    "batch_size = 20\n",
    "epochs = 150"
   ]
  },
  {
   "cell_type": "code",
   "execution_count": 26,
   "id": "99ec666d",
   "metadata": {},
   "outputs": [],
   "source": [
    "model.compile(\n",
    "    loss=\"mean_squared_error\",\n",
    "    optimizer=tf.keras.optimizers.Adam(learning_rate=learning_rate),\n",
    ")\n",
    "\n",
    "# Still need to find what's the best loss function for our model."
   ]
  },
  {
   "cell_type": "code",
   "execution_count": 27,
   "id": "39776b9c",
   "metadata": {},
   "outputs": [],
   "source": [
    "# For some reason I had to manually convert the data into tensors.\n",
    "\n",
    "tf_train_features = tf.constant([train_features['y']], shape=(train_size,n))\n",
    "\n",
    "tf_train_labels = tf.constant([np.array(train_labels)], shape=(train_size,3))\n",
    "\n",
    "tf_test_features = tf.constant([test_features['y']], shape=(test_size,n))\n",
    "\n",
    "tf_test_labels = tf.constant([np.array(test_labels)], shape=(test_size,3))"
   ]
  },
  {
   "cell_type": "code",
   "execution_count": 28,
   "id": "8addf91f",
   "metadata": {},
   "outputs": [
    {
     "name": "stdout",
     "output_type": "stream",
     "text": [
      "Epoch 1/150\n",
      "5/5 [==============================] - 1s 70ms/step - loss: 22008706321191473774592.0000 - val_loss: 21650537294626511912960.0000\n",
      "Epoch 2/150\n",
      "5/5 [==============================] - 0s 25ms/step - loss: 22008695062192405348352.0000 - val_loss: 21650503517629306634240.0000\n",
      "Epoch 3/150\n",
      "5/5 [==============================] - 0s 21ms/step - loss: 22008641018996876902400.0000 - val_loss: 21650399934837877112832.0000\n",
      "Epoch 4/150\n",
      "5/5 [==============================] - 0s 28ms/step - loss: 22008501407408428417024.0000 - val_loss: 21650149985058558050304.0000\n",
      "Epoch 5/150\n",
      "5/5 [==============================] - 0s 28ms/step - loss: 22008181651834885111808.0000 - val_loss: 21649650085499919925248.0000\n",
      "Epoch 6/150\n",
      "5/5 [==============================] - 0s 26ms/step - loss: 22007562406886121668608.0000 - val_loss: 21648774135372396363776.0000\n",
      "Epoch 7/150\n",
      "5/5 [==============================] - 0s 27ms/step - loss: 22006522075372199084032.0000 - val_loss: 21647355501489774657536.0000\n",
      "Epoch 8/150\n",
      "5/5 [==============================] - 0s 23ms/step - loss: 22004891772307090964480.0000 - val_loss: 21645202780867891560448.0000\n",
      "Epoch 9/150\n",
      "5/5 [==============================] - 0s 24ms/step - loss: 22002468835707565637632.0000 - val_loss: 21642059268327986954240.0000\n",
      "Epoch 10/150\n",
      "5/5 [==============================] - 0s 28ms/step - loss: 21998960531597844021248.0000 - val_loss: 21637672762290928091136.0000\n",
      "Epoch 11/150\n",
      "5/5 [==============================] - 0s 23ms/step - loss: 21994166449794508128256.0000 - val_loss: 21631768543179445370880.0000\n",
      "Epoch 12/150\n",
      "5/5 [==============================] - 0s 24ms/step - loss: 21987847899517307322368.0000 - val_loss: 21624029107219809173504.0000\n",
      "Epoch 13/150\n",
      "5/5 [==============================] - 0s 27ms/step - loss: 21979527499205740331008.0000 - val_loss: 21614085159242575118336.0000\n",
      "Epoch 14/150\n",
      "5/5 [==============================] - 0s 25ms/step - loss: 21969025104874712334336.0000 - val_loss: 21601583166676994621440.0000\n",
      "Epoch 15/150\n",
      "5/5 [==============================] - 0s 25ms/step - loss: 21955467018196513456128.0000 - val_loss: 21586293445942071787520.0000\n",
      "Epoch 16/150\n",
      "5/5 [==============================] - 0s 21ms/step - loss: 21939458973321025028096.0000 - val_loss: 21567596752089043173376.0000\n",
      "Epoch 17/150\n",
      "5/5 [==============================] - 0s 24ms/step - loss: 21919604854363762196480.0000 - val_loss: 21545267905136540254208.0000\n",
      "Epoch 18/150\n",
      "5/5 [==============================] - 0s 24ms/step - loss: 21897028309431753900032.0000 - val_loss: 21518788991127415422976.0000\n",
      "Epoch 19/150\n",
      "5/5 [==============================] - 0s 24ms/step - loss: 21869193811934790549504.0000 - val_loss: 21488024902072847564800.0000\n",
      "Epoch 20/150\n",
      "5/5 [==============================] - 0s 21ms/step - loss: 21837589801549718093824.0000 - val_loss: 21452394673620905885696.0000\n",
      "Epoch 21/150\n",
      "5/5 [==============================] - 0s 24ms/step - loss: 21801229989958142394368.0000 - val_loss: 21411594312796742877184.0000\n",
      "Epoch 22/150\n",
      "5/5 [==============================] - 0s 25ms/step - loss: 21759308232826764132352.0000 - val_loss: 21365461690013773201408.0000\n",
      "Epoch 23/150\n",
      "5/5 [==============================] - 0s 20ms/step - loss: 21712281645517761413120.0000 - val_loss: 21313080322747826962432.0000\n",
      "Epoch 24/150\n",
      "5/5 [==============================] - 0s 24ms/step - loss: 21656936909697005387776.0000 - val_loss: 21254923088959778062336.0000\n",
      "Epoch 25/150\n",
      "5/5 [==============================] - 0s 29ms/step - loss: 21599612841840020029440.0000 - val_loss: 21189159275401100394496.0000\n",
      "Epoch 26/150\n",
      "5/5 [==============================] - 0s 26ms/step - loss: 21532205214417352130560.0000 - val_loss: 21116903522979568156672.0000\n",
      "Epoch 27/150\n",
      "5/5 [==============================] - 0s 21ms/step - loss: 21460113843382218915840.0000 - val_loss: 21036471485434544783360.0000\n",
      "Epoch 28/150\n",
      "5/5 [==============================] - 0s 28ms/step - loss: 21377709229200407265280.0000 - val_loss: 20948727853894485409792.0000\n",
      "Epoch 29/150\n",
      "5/5 [==============================] - 0s 24ms/step - loss: 21288992820140835864576.0000 - val_loss: 20853042124411558166528.0000\n",
      "Epoch 30/150\n",
      "5/5 [==============================] - 0s 27ms/step - loss: 21192768910502437847040.0000 - val_loss: 20749265678198059827200.0000\n",
      "Epoch 31/150\n",
      "5/5 [==============================] - 0s 25ms/step - loss: 21086443426899847806976.0000 - val_loss: 20636833313500755394560.0000\n",
      "Epoch 32/150\n",
      "5/5 [==============================] - 0s 24ms/step - loss: 20972279428145819418624.0000 - val_loss: 20513986374665156689920.0000\n",
      "Epoch 33/150\n",
      "5/5 [==============================] - 0s 26ms/step - loss: 20851432087544773214208.0000 - val_loss: 20380859969680084828160.0000\n",
      "Epoch 34/150\n",
      "5/5 [==============================] - 0s 25ms/step - loss: 20719037517499149058048.0000 - val_loss: 20239717157358293483520.0000\n",
      "Epoch 35/150\n",
      "5/5 [==============================] - 0s 28ms/step - loss: 20575111480607642746880.0000 - val_loss: 20090623239894379528192.0000\n",
      "Epoch 36/150\n",
      "5/5 [==============================] - 0s 28ms/step - loss: 20423396468160599162880.0000 - val_loss: 19930445963747506782208.0000\n",
      "Epoch 37/150\n",
      "5/5 [==============================] - 0s 26ms/step - loss: 20266506819741706878976.0000 - val_loss: 19758588601967048654848.0000\n",
      "Epoch 38/150\n",
      "5/5 [==============================] - 0s 22ms/step - loss: 20090427333310588911616.0000 - val_loss: 19577782587727005351936.0000\n",
      "Epoch 39/150\n",
      "5/5 [==============================] - 0s 26ms/step - loss: 19911906895881436135424.0000 - val_loss: 19384848379690453303296.0000\n",
      "Epoch 40/150\n",
      "5/5 [==============================] - 0s 23ms/step - loss: 19718033687322577338368.0000 - val_loss: 19182157123061203075072.0000\n",
      "Epoch 41/150\n",
      "5/5 [==============================] - 0s 24ms/step - loss: 19517315007330115387392.0000 - val_loss: 18969091824690304909312.0000\n",
      "Epoch 42/150\n",
      "5/5 [==============================] - 0s 23ms/step - loss: 19300104145502222680064.0000 - val_loss: 18746568967101928701952.0000\n",
      "Epoch 43/150\n",
      "5/5 [==============================] - 0s 22ms/step - loss: 19079062972191251365888.0000 - val_loss: 18511132037582067597312.0000\n",
      "Epoch 44/150\n",
      "5/5 [==============================] - 0s 24ms/step - loss: 18845684187701098577920.0000 - val_loss: 18265085753240028446720.0000\n",
      "Epoch 45/150\n",
      "5/5 [==============================] - 0s 24ms/step - loss: 18599856327940986896384.0000 - val_loss: 18009906168853681930240.0000\n",
      "Epoch 46/150\n",
      "5/5 [==============================] - 0s 20ms/step - loss: 18341779803094334308352.0000 - val_loss: 17747176299692048777216.0000\n",
      "Epoch 47/150\n",
      "5/5 [==============================] - 0s 26ms/step - loss: 18084779638558623268864.0000 - val_loss: 17472524276416859078656.0000\n",
      "Epoch 48/150\n",
      "5/5 [==============================] - 0s 22ms/step - loss: 17811393126778724679680.0000 - val_loss: 17188767100595033079808.0000\n",
      "Epoch 49/150\n",
      "5/5 [==============================] - 0s 22ms/step - loss: 17529135649632813056000.0000 - val_loss: 16898189223137554464768.0000\n",
      "Epoch 50/150\n",
      "5/5 [==============================] - 0s 26ms/step - loss: 17235448036632635113472.0000 - val_loss: 16600224316391281393664.0000\n",
      "Epoch 51/150\n",
      "5/5 [==============================] - 0s 22ms/step - loss: 16939137076849513857024.0000 - val_loss: 16291180554561676902400.0000\n",
      "Epoch 52/150\n",
      "5/5 [==============================] - 0s 24ms/step - loss: 16631248488324329897984.0000 - val_loss: 15975424177487476686848.0000\n",
      "Epoch 53/150\n",
      "5/5 [==============================] - 0s 27ms/step - loss: 16322069618505904291840.0000 - val_loss: 15651044533026768814080.0000\n",
      "Epoch 54/150\n",
      "5/5 [==============================] - 0s 24ms/step - loss: 15996694678527547539456.0000 - val_loss: 15322919019575995531264.0000\n",
      "Epoch 55/150\n",
      "5/5 [==============================] - 0s 26ms/step - loss: 15673938581732506730496.0000 - val_loss: 14984571460870998065152.0000\n",
      "Epoch 56/150\n",
      "5/5 [==============================] - 0s 26ms/step - loss: 15333360615312054026240.0000 - val_loss: 14643223378914265006080.0000\n",
      "Epoch 57/150\n",
      "5/5 [==============================] - 0s 24ms/step - loss: 14994022264689035051008.0000 - val_loss: 14295766164063003869184.0000\n",
      "Epoch 58/150\n"
     ]
    },
    {
     "name": "stdout",
     "output_type": "stream",
     "text": [
      "5/5 [==============================] - 0s 25ms/step - loss: 14649043155532734529536.0000 - val_loss: 13943832371182136459264.0000\n",
      "Epoch 59/150\n",
      "5/5 [==============================] - 0s 24ms/step - loss: 14294634634656627032064.0000 - val_loss: 13590187210442868260864.0000\n",
      "Epoch 60/150\n",
      "5/5 [==============================] - 0s 26ms/step - loss: 13948682747980814483456.0000 - val_loss: 13231607230411908841472.0000\n",
      "Epoch 61/150\n",
      "5/5 [==============================] - 0s 26ms/step - loss: 13587570619059366002688.0000 - val_loss: 12875159704804509351936.0000\n",
      "Epoch 62/150\n",
      "5/5 [==============================] - 0s 27ms/step - loss: 13235561390884740136960.0000 - val_loss: 12517121282628741234688.0000\n",
      "Epoch 63/150\n",
      "5/5 [==============================] - 0s 25ms/step - loss: 12878797487403517870080.0000 - val_loss: 12159023187757910458368.0000\n",
      "Epoch 64/150\n",
      "5/5 [==============================] - 0s 25ms/step - loss: 12523150476629883486208.0000 - val_loss: 11800331743636173619200.0000\n",
      "Epoch 65/150\n",
      "5/5 [==============================] - 0s 26ms/step - loss: 12164662820391285161984.0000 - val_loss: 11444961704239622520832.0000\n",
      "Epoch 66/150\n",
      "5/5 [==============================] - 0s 26ms/step - loss: 11810415303201856159744.0000 - val_loss: 11091936914349024608256.0000\n",
      "Epoch 67/150\n",
      "5/5 [==============================] - 0s 25ms/step - loss: 11458513035518380343296.0000 - val_loss: 10741958809606342836224.0000\n",
      "Epoch 68/150\n",
      "5/5 [==============================] - 0s 24ms/step - loss: 11110535654910157914112.0000 - val_loss: 10395822275345808097280.0000\n",
      "Epoch 69/150\n",
      "5/5 [==============================] - 0s 25ms/step - loss: 10763452238827968528384.0000 - val_loss: 10056666320507697627136.0000\n",
      "Epoch 70/150\n",
      "5/5 [==============================] - 0s 26ms/step - loss: 10420184497530068795392.0000 - val_loss: 9723823286447253749760.0000\n",
      "Epoch 71/150\n",
      "5/5 [==============================] - 0s 27ms/step - loss: 10092929304707284860928.0000 - val_loss: 9394923716810526162944.0000\n",
      "Epoch 72/150\n",
      "5/5 [==============================] - 0s 26ms/step - loss: 9762689351231461130240.0000 - val_loss: 9075587540982519824384.0000\n",
      "Epoch 73/150\n",
      "5/5 [==============================] - 0s 24ms/step - loss: 9444217303581956505600.0000 - val_loss: 8762920633252695769088.0000\n",
      "Epoch 74/150\n",
      "5/5 [==============================] - 0s 19ms/step - loss: 9129362772333137231872.0000 - val_loss: 8459315530923094573056.0000\n",
      "Epoch 75/150\n",
      "5/5 [==============================] - 0s 24ms/step - loss: 8827883369027654909952.0000 - val_loss: 8166591125293220495360.0000\n",
      "Epoch 76/150\n",
      "5/5 [==============================] - 0s 26ms/step - loss: 8526512615063182901248.0000 - val_loss: 7885400438309042257920.0000\n",
      "Epoch 77/150\n",
      "5/5 [==============================] - 0s 22ms/step - loss: 8246075718066635800576.0000 - val_loss: 7610298055071115509760.0000\n",
      "Epoch 78/150\n",
      "5/5 [==============================] - 0s 18ms/step - loss: 7970981216128056950784.0000 - val_loss: 7346969770108995502080.0000\n",
      "Epoch 79/150\n",
      "5/5 [==============================] - 0s 20ms/step - loss: 7711202893572211736576.0000 - val_loss: 7098703774100616118272.0000\n",
      "Epoch 80/150\n",
      "5/5 [==============================] - 0s 26ms/step - loss: 7458924190295845240832.0000 - val_loss: 6867875152899461873664.0000\n",
      "Epoch 81/150\n",
      "5/5 [==============================] - 0s 19ms/step - loss: 7222402456215741267968.0000 - val_loss: 6648282449818643595264.0000\n",
      "Epoch 82/150\n",
      "5/5 [==============================] - 0s 21ms/step - loss: 6989503868035856859136.0000 - val_loss: 6438986101385901113344.0000\n",
      "Epoch 83/150\n",
      "5/5 [==============================] - 0s 20ms/step - loss: 6776391844818824724480.0000 - val_loss: 6236396175748266721280.0000\n",
      "Epoch 84/150\n",
      "5/5 [==============================] - 0s 22ms/step - loss: 6574083957107854409728.0000 - val_loss: 6040136059386901561344.0000\n",
      "Epoch 85/150\n",
      "5/5 [==============================] - 0s 20ms/step - loss: 6372681855871938985984.0000 - val_loss: 5860126056380995993600.0000\n",
      "Epoch 86/150\n",
      "5/5 [==============================] - 0s 26ms/step - loss: 6188508837960482816000.0000 - val_loss: 5691567018377633333248.0000\n",
      "Epoch 87/150\n",
      "5/5 [==============================] - 0s 19ms/step - loss: 6014570813152179519488.0000 - val_loss: 5532423881295195537408.0000\n",
      "Epoch 88/150\n",
      "5/5 [==============================] - 0s 22ms/step - loss: 5842247328810288545792.0000 - val_loss: 5388621693393441914880.0000\n",
      "Epoch 89/150\n",
      "5/5 [==============================] - 0s 22ms/step - loss: 5683261254764855296000.0000 - val_loss: 5254143645570205483008.0000\n",
      "Epoch 90/150\n",
      "5/5 [==============================] - 0s 26ms/step - loss: 5541601654385823186944.0000 - val_loss: 5122627840401871994880.0000\n",
      "Epoch 91/150\n",
      "5/5 [==============================] - 0s 22ms/step - loss: 5401413042235080966144.0000 - val_loss: 4999910380055560192000.0000\n",
      "Epoch 92/150\n",
      "5/5 [==============================] - 0s 20ms/step - loss: 5270396010725478760448.0000 - val_loss: 4882236951291903344640.0000\n",
      "Epoch 93/150\n",
      "5/5 [==============================] - 0s 23ms/step - loss: 5144862111762200133632.0000 - val_loss: 4767786411011583508480.0000\n",
      "Epoch 94/150\n",
      "5/5 [==============================] - 0s 24ms/step - loss: 5026504135855182970880.0000 - val_loss: 4659774610823519928320.0000\n",
      "Epoch 95/150\n",
      "5/5 [==============================] - 0s 22ms/step - loss: 4902988975424873168896.0000 - val_loss: 4562052128409114378240.0000\n",
      "Epoch 96/150\n",
      "5/5 [==============================] - 0s 24ms/step - loss: 4801897237539241066496.0000 - val_loss: 4467584904100367564800.0000\n",
      "Epoch 97/150\n",
      "5/5 [==============================] - 0s 26ms/step - loss: 4696690616969075884032.0000 - val_loss: 4378735638851788734464.0000\n",
      "Epoch 98/150\n",
      "5/5 [==============================] - 0s 26ms/step - loss: 4595575798135353507840.0000 - val_loss: 4293712181486661140480.0000\n",
      "Epoch 99/150\n",
      "5/5 [==============================] - 0s 25ms/step - loss: 4507050229109991931904.0000 - val_loss: 4212781088807929774080.0000\n",
      "Epoch 100/150\n",
      "5/5 [==============================] - 0s 16ms/step - loss: 4417951858507024171008.0000 - val_loss: 4136696432278202482688.0000\n",
      "Epoch 101/150\n",
      "5/5 [==============================] - 0s 23ms/step - loss: 4331094591668626653184.0000 - val_loss: 4065943756232305147904.0000\n",
      "Epoch 102/150\n",
      "5/5 [==============================] - 0s 19ms/step - loss: 4250591622429472194560.0000 - val_loss: 3997538300017197973504.0000\n",
      "Epoch 103/150\n",
      "5/5 [==============================] - 0s 26ms/step - loss: 4175501135517486940160.0000 - val_loss: 3930881929307370815488.0000\n",
      "Epoch 104/150\n",
      "5/5 [==============================] - 0s 26ms/step - loss: 4098885617181683351552.0000 - val_loss: 3867071833562041810944.0000\n",
      "Epoch 105/150\n",
      "5/5 [==============================] - 0s 23ms/step - loss: 4030129443145594699776.0000 - val_loss: 3804837434736339058688.0000\n",
      "Epoch 106/150\n",
      "5/5 [==============================] - 0s 27ms/step - loss: 3959643042427665645568.0000 - val_loss: 3744600663820351832064.0000\n",
      "Epoch 107/150\n",
      "5/5 [==============================] - 0s 24ms/step - loss: 3893465179178246602752.0000 - val_loss: 3686165614230289514496.0000\n",
      "Epoch 108/150\n",
      "5/5 [==============================] - 0s 26ms/step - loss: 3826944479407193980928.0000 - val_loss: 3629533693341035659264.0000\n",
      "Epoch 109/150\n",
      "5/5 [==============================] - 0s 24ms/step - loss: 3764417065130735435776.0000 - val_loss: 3573517921175801430016.0000\n",
      "Epoch 110/150\n",
      "5/5 [==============================] - 0s 26ms/step - loss: 3706364821508999610368.0000 - val_loss: 3517578710204232499200.0000\n",
      "Epoch 111/150\n",
      "5/5 [==============================] - 0s 24ms/step - loss: 3639965437452909281280.0000 - val_loss: 3464130834251529584640.0000\n",
      "Epoch 112/150\n",
      "5/5 [==============================] - 0s 20ms/step - loss: 3580800523248236232704.0000 - val_loss: 3411060416242595659776.0000\n",
      "Epoch 113/150\n",
      "5/5 [==============================] - 0s 20ms/step - loss: 3523756804468054687744.0000 - val_loss: 3357917940639623806976.0000\n",
      "Epoch 114/150\n",
      "5/5 [==============================] - 0s 24ms/step - loss: 3466328590869686386688.0000 - val_loss: 3307151676790043312128.0000\n",
      "Epoch 115/150\n",
      "5/5 [==============================] - 0s 25ms/step - loss: 3408456209758068670464.0000 - val_loss: 3258813697564545646592.0000\n"
     ]
    },
    {
     "name": "stdout",
     "output_type": "stream",
     "text": [
      "Epoch 116/150\n",
      "5/5 [==============================] - 0s 23ms/step - loss: 3352380483422795071488.0000 - val_loss: 3209296619661607043072.0000\n",
      "Epoch 117/150\n",
      "5/5 [==============================] - 0s 22ms/step - loss: 3297978407299043033088.0000 - val_loss: 3160583152817177362432.0000\n",
      "Epoch 118/150\n",
      "5/5 [==============================] - 0s 19ms/step - loss: 3246728850914450341888.0000 - val_loss: 3113051036450002305024.0000\n",
      "Epoch 119/150\n",
      "5/5 [==============================] - 0s 19ms/step - loss: 3190615406932297515008.0000 - val_loss: 3066757972930307555328.0000\n",
      "Epoch 120/150\n",
      "5/5 [==============================] - 0s 20ms/step - loss: 3138733939224989401088.0000 - val_loss: 3019782332592089464832.0000\n",
      "Epoch 121/150\n",
      "5/5 [==============================] - 0s 22ms/step - loss: 3090165150518588997632.0000 - val_loss: 2974542266960269279232.0000\n",
      "Epoch 122/150\n",
      "5/5 [==============================] - 0s 24ms/step - loss: 3036193449634227552256.0000 - val_loss: 2927432363058160205824.0000\n",
      "Epoch 123/150\n",
      "5/5 [==============================] - 0s 16ms/step - loss: 2990945221228082757632.0000 - val_loss: 2879640163812504502272.0000\n",
      "Epoch 124/150\n",
      "5/5 [==============================] - 0s 22ms/step - loss: 2936436747563134091264.0000 - val_loss: 2834799511172636737536.0000\n",
      "Epoch 125/150\n",
      "5/5 [==============================] - 0s 23ms/step - loss: 2890973472274782355456.0000 - val_loss: 2789931273985051328512.0000\n",
      "Epoch 126/150\n",
      "5/5 [==============================] - 0s 22ms/step - loss: 2840079700260751933440.0000 - val_loss: 2744933276833202307072.0000\n",
      "Epoch 127/150\n",
      "5/5 [==============================] - 0s 23ms/step - loss: 2792546176518693322752.0000 - val_loss: 2699707566425194364928.0000\n",
      "Epoch 128/150\n",
      "5/5 [==============================] - 0s 23ms/step - loss: 2747467114573551632384.0000 - val_loss: 2656545912021405663232.0000\n",
      "Epoch 129/150\n",
      "5/5 [==============================] - 0s 20ms/step - loss: 2701966403113297379328.0000 - val_loss: 2615907117833874571264.0000\n",
      "Epoch 130/150\n",
      "5/5 [==============================] - 0s 20ms/step - loss: 2657097884450735259648.0000 - val_loss: 2573927939807247335424.0000\n",
      "Epoch 131/150\n",
      "5/5 [==============================] - 0s 20ms/step - loss: 2612555032336227368960.0000 - val_loss: 2532422484166424133632.0000\n",
      "Epoch 132/150\n",
      "5/5 [==============================] - 0s 18ms/step - loss: 2569350875210955358208.0000 - val_loss: 2492029417633561444352.0000\n",
      "Epoch 133/150\n",
      "5/5 [==============================] - 0s 24ms/step - loss: 2524538088593781948416.0000 - val_loss: 2451886300880017817600.0000\n",
      "Epoch 134/150\n",
      "5/5 [==============================] - 0s 24ms/step - loss: 2484398349539958849536.0000 - val_loss: 2412453064017738465280.0000\n",
      "Epoch 135/150\n",
      "5/5 [==============================] - 0s 20ms/step - loss: 2441730683720297349120.0000 - val_loss: 2372529497746029150208.0000\n",
      "Epoch 136/150\n",
      "5/5 [==============================] - 0s 18ms/step - loss: 2403075162218669539328.0000 - val_loss: 2333160437178439827456.0000\n",
      "Epoch 137/150\n",
      "5/5 [==============================] - 0s 22ms/step - loss: 2362632556089905774592.0000 - val_loss: 2296370109609985179648.0000\n",
      "Epoch 138/150\n",
      "5/5 [==============================] - 0s 16ms/step - loss: 2322455521601668513792.0000 - val_loss: 2259756266851928113152.0000\n",
      "Epoch 139/150\n",
      "5/5 [==============================] - 0s 24ms/step - loss: 2284607692545711931392.0000 - val_loss: 2223969538312935309312.0000\n",
      "Epoch 140/150\n",
      "5/5 [==============================] - 0s 27ms/step - loss: 2247089752162460237824.0000 - val_loss: 2189559081672569257984.0000\n",
      "Epoch 141/150\n",
      "5/5 [==============================] - 0s 24ms/step - loss: 2208378217140467007488.0000 - val_loss: 2154878831267026042880.0000\n",
      "Epoch 142/150\n",
      "5/5 [==============================] - 0s 21ms/step - loss: 2170362769735879229440.0000 - val_loss: 2121199787353642631168.0000\n",
      "Epoch 143/150\n",
      "5/5 [==============================] - 0s 21ms/step - loss: 2133997047169792606208.0000 - val_loss: 2085028423258974715904.0000\n",
      "Epoch 144/150\n",
      "5/5 [==============================] - 0s 24ms/step - loss: 2097702819247790489600.0000 - val_loss: 2049999425357286998016.0000\n",
      "Epoch 145/150\n",
      "5/5 [==============================] - 0s 20ms/step - loss: 2060768235753771630592.0000 - val_loss: 2014253369952428883968.0000\n",
      "Epoch 146/150\n",
      "5/5 [==============================] - 0s 20ms/step - loss: 2027411480688721920000.0000 - val_loss: 1978761486451540492288.0000\n",
      "Epoch 147/150\n",
      "5/5 [==============================] - 0s 20ms/step - loss: 1988693471742264344576.0000 - val_loss: 1947353101175281942528.0000\n",
      "Epoch 148/150\n",
      "5/5 [==============================] - 0s 26ms/step - loss: 1954892549163965218816.0000 - val_loss: 1914083321878035824640.0000\n",
      "Epoch 149/150\n",
      "5/5 [==============================] - 0s 20ms/step - loss: 1921782366178514042880.0000 - val_loss: 1881281635467059527680.0000\n",
      "Epoch 150/150\n",
      "5/5 [==============================] - 0s 22ms/step - loss: 1890637300742968311808.0000 - val_loss: 1849179977323162632192.0000\n",
      "4/4 - 0s - loss: 1862674872869089968128.0000\n",
      "Test loss: 1.86267487286909e+21\n"
     ]
    }
   ],
   "source": [
    "history = model.fit(tf_train_features, tf_train_labels, batch_size=batch_size, epochs=epochs, validation_split=validation_split)\n",
    "\n",
    "test_scores = model.evaluate(tf_train_features, tf_train_labels, verbose=2)\n",
    "print(\"Test loss:\", test_scores)"
   ]
  },
  {
   "cell_type": "code",
   "execution_count": 29,
   "id": "3889a137",
   "metadata": {},
   "outputs": [
    {
     "name": "stdout",
     "output_type": "stream",
     "text": [
      "2.0159515084869243e+22\n"
     ]
    },
    {
     "data": {
      "image/png": "[encoded data removed]",
      "text/plain": [
       "<Figure size 432x288 with 1 Axes>"
      ]
     },
     "metadata": {
      "needs_background": "light"
     },
     "output_type": "display_data"
    }
   ],
   "source": [
    "epochs = history.epoch\n",
    "\n",
    "hist = history.history\n",
    "\n",
    "plot_the_loss_curve(epochs, hist[\"loss\"], \n",
    "                    hist[\"val_loss\"])"
   ]
  },
  {
   "cell_type": "code",
   "execution_count": 30,
   "id": "9890df0c",
   "metadata": {},
   "outputs": [
    {
     "data": {
      "text/plain": [
       "<tf.Tensor: shape=(13, 3), dtype=float64, numpy=\n",
       "array([[1.000e+05, 2.550e+11, 1.000e-05],\n",
       "       [5.500e+05, 3.000e+11, 1.000e-05],\n",
       "       [3.250e+05, 2.325e+11, 1.000e-05],\n",
       "       [7.750e+05, 2.775e+11, 3.250e-05],\n",
       "       [1.000e+06, 2.775e+11, 1.000e-04],\n",
       "       [1.000e+06, 2.100e+11, 3.250e-05],\n",
       "       [3.250e+05, 3.000e+11, 3.250e-05],\n",
       "       [3.250e+05, 2.100e+11, 1.000e-05],\n",
       "       [7.750e+05, 3.000e+11, 1.000e-04],\n",
       "       [1.000e+05, 2.100e+11, 7.750e-05],\n",
       "       [3.250e+05, 2.550e+11, 7.750e-05],\n",
       "       [1.000e+05, 3.000e+11, 3.250e-05],\n",
       "       [5.500e+05, 2.325e+11, 3.250e-05]])>"
      ]
     },
     "execution_count": 30,
     "metadata": {},
     "output_type": "execute_result"
    }
   ],
   "source": [
    "tf_test_labels"
   ]
  },
  {
   "cell_type": "code",
   "execution_count": 31,
   "id": "f93a0fe6",
   "metadata": {},
   "outputs": [
    {
     "data": {
      "text/plain": [
       "array([[ 3.8695359e+05,  2.0557555e+11, -1.6217988e+05],\n",
       "       [ 5.4836562e+05,  2.9131964e+11, -2.2982100e+05],\n",
       "       [ 4.9899559e+05,  2.6509550e+11, -2.0913456e+05],\n",
       "       [ 4.3944559e+05,  2.3346142e+11, -1.8417838e+05],\n",
       "       [ 3.8345359e+05,  2.0372057e+11, -1.6071569e+05],\n",
       "       [ 5.0740759e+05,  2.6956616e+11, -2.1266162e+05],\n",
       "       [ 3.8033359e+05,  2.0206223e+11, -1.5940750e+05],\n",
       "       [ 5.1685159e+05,  2.7458113e+11, -2.1661719e+05],\n",
       "       [ 3.7199859e+05,  1.9763151e+11, -1.5591150e+05],\n",
       "       [ 3.4993059e+05,  1.8590743e+11, -1.4666212e+05],\n",
       "       [ 3.6151959e+05,  1.9207019e+11, -1.5152356e+05],\n",
       "       [ 3.5456159e+05,  1.8836953e+11, -1.4860544e+05],\n",
       "       [ 4.2478159e+05,  2.2567207e+11, -1.7803231e+05]], dtype=float32)"
      ]
     },
     "execution_count": 31,
     "metadata": {},
     "output_type": "execute_result"
    }
   ],
   "source": [
    "model.predict(tf_test_features)"
   ]
  },
  {
   "cell_type": "code",
   "execution_count": 32,
   "id": "f1fd9230",
   "metadata": {},
   "outputs": [],
   "source": [
    "# 07/08/2021\n",
    "\n",
    "# There is no point in trying to guess L in this case, as there is only one value for it.\n",
    "\n",
    "# Even for multiple values of L, I think that it doesn't make sense to have [x, y] as inputs and at the same time try to \n",
    "# guess L, at least in the way I was innitially doing, because, (as the x values are linnearly spaced and allways the same\n",
    "# for each L), we could easily check the max value of x and get L from that, without any need for a machine learning method."
   ]
  },
  {
   "cell_type": "code",
   "execution_count": 33,
   "id": "455eab71",
   "metadata": {},
   "outputs": [],
   "source": [
    "# 07/08/2021\n",
    "\n",
    "# Need to improve the way I feed the data to the model (had to extract it from DataFrames and convert the arrays to tensors...)\n",
    "\n",
    "# Will try to figure out the best loss function, the best architecture for the model,\n",
    "# tune the hyperparameters and try to get good results."
   ]
  },
  {
   "cell_type": "code",
   "execution_count": 34,
   "id": "be8a6344",
   "metadata": {},
   "outputs": [],
   "source": [
    "# 12/09/2021\n",
    "\n",
    "# I am now only trying to find 3 parameters: E, q and I, as L was set to 1.0.\n",
    "\n",
    "# After some tunning and experimenting, I'm still not able to say if the problem is with the architecture\n",
    "# of the model being still too simple, if the problem is with the loss function or if it has to due with\n",
    "# the lack of normalization of the features. I've noticed that the model is very bad at guessing\n",
    "# the values for I, which are very small."
   ]
  },
  {
   "cell_type": "code",
   "execution_count": null,
   "id": "92af5625",
   "metadata": {},
   "outputs": [],
   "source": []
  },
  {
   "cell_type": "code",
   "execution_count": null,
   "id": "6c433cbc",
   "metadata": {},
   "outputs": [],
   "source": []
  },
  {
   "cell_type": "code",
   "execution_count": null,
   "id": "bf8451d0",
   "metadata": {},
   "outputs": [],
   "source": []
  },
  {
   "cell_type": "code",
   "execution_count": null,
   "id": "49e33f9f",
   "metadata": {},
   "outputs": [],
   "source": []
  },
  {
   "cell_type": "code",
   "execution_count": null,
   "id": "dba3b7a5",
   "metadata": {},
   "outputs": [],
   "source": []
  }
 ],
 "metadata": {
  "kernelspec": {
   "display_name": "Python 3",
   "language": "python",
   "name": "python3"
  },
  "language_info": {
   "codemirror_mode": {
    "name": "ipython",
    "version": 3
   },
   "file_extension": ".py",
   "mimetype": "text/x-python",
   "name": "python",
   "nbconvert_exporter": "python",
   "pygments_lexer": "ipython3",
   "version": "3.9.5"
  }
 },
 "nbformat": 4,
 "nbformat_minor": 5
}

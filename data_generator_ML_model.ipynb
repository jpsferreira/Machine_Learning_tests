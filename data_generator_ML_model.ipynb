{
 "cells": [
  {
   "cell_type": "code",
   "execution_count": 1,
   "id": "eb75dba5",
   "metadata": {},
   "outputs": [],
   "source": [
    "from matplotlib import pyplot as plt\n",
    "import numpy as np\n",
    "import pandas as pd\n",
    "import ast\n",
    "from sklearn.model_selection import train_test_split\n",
    "import seaborn as sns"
   ]
  },
  {
   "cell_type": "code",
   "execution_count": 2,
   "id": "e9738020",
   "metadata": {},
   "outputs": [],
   "source": [
    "import tensorflow as tf\n",
    "\n",
    "from tensorflow import keras\n",
    "from tensorflow.keras import layers\n",
    "from tensorflow.keras.layers.experimental import preprocessing"
   ]
  },
  {
   "cell_type": "code",
   "execution_count": 3,
   "id": "1cd2e762",
   "metadata": {},
   "outputs": [],
   "source": [
    "def plot_the_loss_curve(epochs, mse_training, mse_validation):\n",
    "\n",
    "  plt.figure()\n",
    "  plt.xlabel(\"Epoch\")\n",
    "  plt.ylabel(\"Loss\")\n",
    "\n",
    "  plt.plot(epochs[0:], mse_training[0:], label=\"Training Loss\")\n",
    "  plt.plot(epochs[0:], mse_validation[0:], label=\"Validation Loss\")\n",
    "  plt.legend()\n",
    "  \n",
    "  # We're not going to plot the first epoch, since the loss on the first epoch\n",
    "  # is often substantially greater than the loss for other epochs.\n",
    "  merged_mse_lists = mse_training[1:] + mse_validation[1:]\n",
    "  highest_loss = max(merged_mse_lists)\n",
    "  lowest_loss = min(merged_mse_lists)\n",
    "  delta = highest_loss - lowest_loss\n",
    "  print(delta)\n",
    "\n",
    "  top_of_y_axis = highest_loss + (delta * 0.05)\n",
    "  bottom_of_y_axis = lowest_loss - (delta * 0.05)\n",
    "   \n",
    "  plt.ylim([bottom_of_y_axis, top_of_y_axis])\n",
    "  plt.show() "
   ]
  },
  {
   "cell_type": "code",
   "execution_count": 4,
   "id": "25134d06",
   "metadata": {},
   "outputs": [],
   "source": [
    "l_min = 1\n",
    "l_max = 1\n",
    "\n",
    "n_l = 1  # defined only one value for L, for now.\n",
    "\n",
    "# q in kN\n",
    "q_min = 100\n",
    "q_max = 200\n",
    "\n",
    "n_q = 10\n",
    "\n",
    "# E in GPa\n",
    "E_min = 210\n",
    "E_max = 300\n",
    "\n",
    "n_E = 10\n",
    "\n",
    "# I in dm^4\n",
    "I_min = 1 * 10 ** 3 \n",
    "I_max = 1.5 * 10 ** 3\n",
    "\n",
    "n_I = 10\n",
    "\n",
    "# Will make the vectors linearly spaced, but it's not necessary\n",
    "l_vec = np.linspace(l_min, l_max, n_l)\n",
    "q_vec = np.linspace(q_min, q_max, n_q)\n",
    "E_vec = np.linspace(E_min, E_max, n_E)\n",
    "I_vec = np.linspace(I_min, I_max, n_I)"
   ]
  },
  {
   "cell_type": "code",
   "execution_count": 5,
   "id": "0d62b2b4",
   "metadata": {},
   "outputs": [],
   "source": [
    "# Compute all possible permutations and arrange them in a matrix\n",
    "\n",
    "per_list = []\n",
    "for i in range(len(l_vec)):\n",
    "    for j in range(len(q_vec)):\n",
    "        for k in range(len(E_vec)):\n",
    "            for l in range(len(I_vec)):\n",
    "                per_list = np.append(per_list, np.array([[l_vec[i], q_vec[j], E_vec[k], I_vec[l]]]))\n",
    "\n",
    "per_list = per_list.reshape(-1, 4)\n",
    "\n",
    "# Shuffle the permutations\n",
    "np.random.shuffle(per_list)\n",
    "\n",
    "np.save('125_combinations', per_list)  # saved as an .npy file to use later using np.load('125_combinations')"
   ]
  },
  {
   "cell_type": "code",
   "execution_count": 6,
   "id": "5c263575",
   "metadata": {},
   "outputs": [],
   "source": [
    "# analytical solution for the beam bending problem\n",
    "\n",
    "def ana_sol(n, param_list):\n",
    "    l=param_list[0]\n",
    "    q=param_list[1]\n",
    "    E=param_list[2]\n",
    "    I=param_list[3]\n",
    "    x_min = 0\n",
    "    x_max = l\n",
    "    x = np.linspace(x_min, x_max, n)\n",
    "    y = np.zeros(len(x))\n",
    "    c_1 = -(q * 10 ** 3 * l ** 3) / (24 * E * 10 ** 9 * I * 10 ** (-8))\n",
    "    y = (1 / (E * 10 ** 9 * I * 10 ** (-8))) * (((q * 10 ** 3 * l) / 12) * x ** 3 - (q * 10 ** 3 / 24) * x ** 4) + c_1 * x\n",
    "\n",
    "    return [x, y]\n",
    "\n",
    "def ana_sol_with_noise(n, param_list,noise):\n",
    "    l=param_list[0]\n",
    "    q=param_list[1]\n",
    "    E=param_list[2]\n",
    "    I=param_list[3]\n",
    "    x_min = 0\n",
    "    x_max = l\n",
    "    x = np.linspace(x_min, x_max, n)\n",
    "    y = np.zeros(len(x))\n",
    "    c_1 = -(q * 10 ** 3 * l ** 3) / (24 * E * 10 ** 9 * I * 10 ** (-8))\n",
    "    y = (1 / (E * 10 ** 9 * I * 10 ** (-8))) * (((q * 10 ** 3 * l) / 12) * x ** 3 - (q * 10 ** 3 / 24) * x ** 4) + c_1 * x\n",
    "    y = y + noise * (np.random.random(len(y)) - 0.5) * (np.max(y) - np.min(y))\n",
    "\n",
    "    return [x, y]"
   ]
  },
  {
   "cell_type": "code",
   "execution_count": null,
   "id": "6225b71c",
   "metadata": {},
   "outputs": [],
   "source": []
  },
  {
   "cell_type": "code",
   "execution_count": null,
   "id": "1a8d1b85",
   "metadata": {},
   "outputs": [],
   "source": []
  },
  {
   "cell_type": "code",
   "execution_count": 7,
   "id": "428f74a0",
   "metadata": {},
   "outputs": [],
   "source": [
    "#alternative way to generate fake data with noise\n",
    "n = 1000\n",
    "# Add noise\n",
    "noise_factor = 0.2\n",
    "#create dictionary with generated data\n",
    "fake_data = {}\n",
    "#dict keys: list of parameters values\n",
    "#dict values: (x,y) array \n",
    "for i in per_list:\n",
    "    fake_data[repr(i.tolist())] = ana_sol_with_noise(n, i, noise_factor)"
   ]
  },
  {
   "cell_type": "code",
   "execution_count": 8,
   "id": "fb0b2ecd",
   "metadata": {},
   "outputs": [
    {
     "data": {
      "text/html": [
       "<div>\n",
       "<style scoped>\n",
       "    .dataframe tbody tr th:only-of-type {\n",
       "        vertical-align: middle;\n",
       "    }\n",
       "\n",
       "    .dataframe tbody tr th {\n",
       "        vertical-align: top;\n",
       "    }\n",
       "\n",
       "    .dataframe thead th {\n",
       "        text-align: right;\n",
       "    }\n",
       "</style>\n",
       "<table border=\"1\" class=\"dataframe\">\n",
       "  <thead>\n",
       "    <tr style=\"text-align: right;\">\n",
       "      <th></th>\n",
       "      <th>x</th>\n",
       "      <th>y</th>\n",
       "      <th>l</th>\n",
       "      <th>q</th>\n",
       "      <th>E</th>\n",
       "      <th>I</th>\n",
       "    </tr>\n",
       "  </thead>\n",
       "  <tbody>\n",
       "    <tr>\n",
       "      <th>0</th>\n",
       "      <td>[0.0, 0.001001001001001001, 0.0020020020020020...</td>\n",
       "      <td>[-3.397440876891834e-05, -2.285000368285243e-0...</td>\n",
       "      <td>1.0</td>\n",
       "      <td>122.222222</td>\n",
       "      <td>290.0</td>\n",
       "      <td>1166.666667</td>\n",
       "    </tr>\n",
       "    <tr>\n",
       "      <th>1</th>\n",
       "      <td>[0.0, 0.001001001001001001, 0.0020020020020020...</td>\n",
       "      <td>[2.4817512140715158e-05, -1.4565085861002302e-...</td>\n",
       "      <td>1.0</td>\n",
       "      <td>122.222222</td>\n",
       "      <td>250.0</td>\n",
       "      <td>1333.333333</td>\n",
       "    </tr>\n",
       "    <tr>\n",
       "      <th>2</th>\n",
       "      <td>[0.0, 0.001001001001001001, 0.0020020020020020...</td>\n",
       "      <td>[1.8797637588449878e-05, 2.0314156446367863e-0...</td>\n",
       "      <td>1.0</td>\n",
       "      <td>166.666667</td>\n",
       "      <td>230.0</td>\n",
       "      <td>1222.222222</td>\n",
       "    </tr>\n",
       "    <tr>\n",
       "      <th>3</th>\n",
       "      <td>[0.0, 0.001001001001001001, 0.0020020020020020...</td>\n",
       "      <td>[4.2987025222002784e-05, -4.174034051106114e-0...</td>\n",
       "      <td>1.0</td>\n",
       "      <td>122.222222</td>\n",
       "      <td>230.0</td>\n",
       "      <td>1277.777778</td>\n",
       "    </tr>\n",
       "    <tr>\n",
       "      <th>4</th>\n",
       "      <td>[0.0, 0.001001001001001001, 0.0020020020020020...</td>\n",
       "      <td>[2.8173244474467057e-05, -3.344234121238589e-0...</td>\n",
       "      <td>1.0</td>\n",
       "      <td>111.111111</td>\n",
       "      <td>230.0</td>\n",
       "      <td>1000.000000</td>\n",
       "    </tr>\n",
       "    <tr>\n",
       "      <th>...</th>\n",
       "      <td>...</td>\n",
       "      <td>...</td>\n",
       "      <td>...</td>\n",
       "      <td>...</td>\n",
       "      <td>...</td>\n",
       "      <td>...</td>\n",
       "    </tr>\n",
       "    <tr>\n",
       "      <th>995</th>\n",
       "      <td>[0.0, 0.001001001001001001, 0.0020020020020020...</td>\n",
       "      <td>[3.5214321128670434e-05, -3.000603790334237e-0...</td>\n",
       "      <td>1.0</td>\n",
       "      <td>111.111111</td>\n",
       "      <td>270.0</td>\n",
       "      <td>1166.666667</td>\n",
       "    </tr>\n",
       "    <tr>\n",
       "      <th>996</th>\n",
       "      <td>[0.0, 0.001001001001001001, 0.0020020020020020...</td>\n",
       "      <td>[7.088425150930636e-05, 3.992665497252798e-05,...</td>\n",
       "      <td>1.0</td>\n",
       "      <td>177.777778</td>\n",
       "      <td>210.0</td>\n",
       "      <td>1444.444444</td>\n",
       "    </tr>\n",
       "    <tr>\n",
       "      <th>997</th>\n",
       "      <td>[0.0, 0.001001001001001001, 0.0020020020020020...</td>\n",
       "      <td>[4.125262784723587e-05, -5.1938889910108375e-0...</td>\n",
       "      <td>1.0</td>\n",
       "      <td>177.777778</td>\n",
       "      <td>220.0</td>\n",
       "      <td>1055.555556</td>\n",
       "    </tr>\n",
       "    <tr>\n",
       "      <th>998</th>\n",
       "      <td>[0.0, 0.001001001001001001, 0.0020020020020020...</td>\n",
       "      <td>[-8.507897296360323e-06, -4.905670511652647e-0...</td>\n",
       "      <td>1.0</td>\n",
       "      <td>155.555556</td>\n",
       "      <td>240.0</td>\n",
       "      <td>1055.555556</td>\n",
       "    </tr>\n",
       "    <tr>\n",
       "      <th>999</th>\n",
       "      <td>[0.0, 0.001001001001001001, 0.0020020020020020...</td>\n",
       "      <td>[-7.841509294488395e-05, -5.137294468074853e-0...</td>\n",
       "      <td>1.0</td>\n",
       "      <td>200.000000</td>\n",
       "      <td>290.0</td>\n",
       "      <td>1111.111111</td>\n",
       "    </tr>\n",
       "  </tbody>\n",
       "</table>\n",
       "<p>1000 rows × 6 columns</p>\n",
       "</div>"
      ],
      "text/plain": [
       "                                                     x  \\\n",
       "0    [0.0, 0.001001001001001001, 0.0020020020020020...   \n",
       "1    [0.0, 0.001001001001001001, 0.0020020020020020...   \n",
       "2    [0.0, 0.001001001001001001, 0.0020020020020020...   \n",
       "3    [0.0, 0.001001001001001001, 0.0020020020020020...   \n",
       "4    [0.0, 0.001001001001001001, 0.0020020020020020...   \n",
       "..                                                 ...   \n",
       "995  [0.0, 0.001001001001001001, 0.0020020020020020...   \n",
       "996  [0.0, 0.001001001001001001, 0.0020020020020020...   \n",
       "997  [0.0, 0.001001001001001001, 0.0020020020020020...   \n",
       "998  [0.0, 0.001001001001001001, 0.0020020020020020...   \n",
       "999  [0.0, 0.001001001001001001, 0.0020020020020020...   \n",
       "\n",
       "                                                     y    l           q  \\\n",
       "0    [-3.397440876891834e-05, -2.285000368285243e-0...  1.0  122.222222   \n",
       "1    [2.4817512140715158e-05, -1.4565085861002302e-...  1.0  122.222222   \n",
       "2    [1.8797637588449878e-05, 2.0314156446367863e-0...  1.0  166.666667   \n",
       "3    [4.2987025222002784e-05, -4.174034051106114e-0...  1.0  122.222222   \n",
       "4    [2.8173244474467057e-05, -3.344234121238589e-0...  1.0  111.111111   \n",
       "..                                                 ...  ...         ...   \n",
       "995  [3.5214321128670434e-05, -3.000603790334237e-0...  1.0  111.111111   \n",
       "996  [7.088425150930636e-05, 3.992665497252798e-05,...  1.0  177.777778   \n",
       "997  [4.125262784723587e-05, -5.1938889910108375e-0...  1.0  177.777778   \n",
       "998  [-8.507897296360323e-06, -4.905670511652647e-0...  1.0  155.555556   \n",
       "999  [-7.841509294488395e-05, -5.137294468074853e-0...  1.0  200.000000   \n",
       "\n",
       "         E            I  \n",
       "0    290.0  1166.666667  \n",
       "1    250.0  1333.333333  \n",
       "2    230.0  1222.222222  \n",
       "3    230.0  1277.777778  \n",
       "4    230.0  1000.000000  \n",
       "..     ...          ...  \n",
       "995  270.0  1166.666667  \n",
       "996  210.0  1444.444444  \n",
       "997  220.0  1055.555556  \n",
       "998  240.0  1055.555556  \n",
       "999  290.0  1111.111111  \n",
       "\n",
       "[1000 rows x 6 columns]"
      ]
     },
     "execution_count": 8,
     "metadata": {},
     "output_type": "execute_result"
    }
   ],
   "source": [
    "#for each entry combination of (l,q,E,I) we have two columns of fake data: both x and noisy y \n",
    "fake_dataframe=pd.DataFrame.from_dict(fake_data,orient='index',columns=['x', 'y'])\n",
    "#I will now dstructure the data in such a way that we are able to immediatly assess \n",
    "# which entry combination of (l,q,E,I) gives a specific (x,Y)\n",
    "#let's clean a little\n",
    "fake_dataframe=fake_dataframe.rename_axis('parameters').reset_index()\n",
    "fake_dataframe.parameters=[eval(fake_dataframe.parameters[i]) for i in range(len(fake_dataframe))]\n",
    "fake_dataframe[['l','q','E','I']] = pd.DataFrame(fake_dataframe.parameters.tolist(), index= fake_dataframe.index)\n",
    "fake_dataframe=fake_dataframe.drop(columns='parameters')\n",
    "#let's see an example of structured data\n",
    "fake_dataframe"
   ]
  },
  {
   "cell_type": "code",
   "execution_count": 9,
   "id": "4d65beeb",
   "metadata": {},
   "outputs": [
    {
     "data": {
      "image/png": "[encoded data removed]",
      "text/plain": [
       "<Figure size 432x288 with 1 Axes>"
      ]
     },
     "metadata": {
      "needs_background": "light"
     },
     "output_type": "display_data"
    }
   ],
   "source": [
    "#plot the 1st entry of the dataframe\n",
    "plt.scatter(fake_dataframe['x'][1],fake_dataframe['y'][1],label=str(fake_dataframe.index[1]))\n",
    "plt.show()"
   ]
  },
  {
   "cell_type": "code",
   "execution_count": null,
   "id": "192bc709",
   "metadata": {},
   "outputs": [],
   "source": []
  },
  {
   "cell_type": "code",
   "execution_count": 10,
   "id": "feca0f09",
   "metadata": {},
   "outputs": [],
   "source": [
    "#with the dataset organized is much easier to split the data.\n",
    "#https://stackoverflow.com/questions/38250710/how-to-split-data-into-3-sets-train-validation-and-test\n",
    "#let's take a look at an example \n",
    "test_split=0.1 #we will use 10% of the data for testing. \n",
    "df = fake_dataframe\n",
    "train_df, test_df = train_test_split(df, test_size = test_split)"
   ]
  },
  {
   "cell_type": "code",
   "execution_count": 11,
   "id": "7a096150",
   "metadata": {},
   "outputs": [
    {
     "name": "stdout",
     "output_type": "stream",
     "text": [
      "Training set:  (900, 6)\n",
      "Test set:  (100, 6)\n"
     ]
    }
   ],
   "source": [
    "#the training data will be spllited automatically by 80/20 during training using keras framework. \n",
    "# no need to split at this stage.\n",
    "#let's check the array shapes: \n",
    "print('Training set: ',train_df.shape)\n",
    "print('Test set: ',test_df.shape)\n",
    "\n",
    "train_size = train_df.shape[0]\n",
    "test_size = test_df.shape[0]"
   ]
  },
  {
   "cell_type": "code",
   "execution_count": 12,
   "id": "1ed9443c",
   "metadata": {},
   "outputs": [
    {
     "name": "stderr",
     "output_type": "stream",
     "text": [
      "C:\\Users\\luisf\\.conda\\envs\\tf\\lib\\site-packages\\seaborn\\distributions.py:306: UserWarning: Dataset has 0 variance; skipping density estimate.\n",
      "  warnings.warn(msg, UserWarning)\n"
     ]
    },
    {
     "data": {
      "text/plain": [
       "<seaborn.axisgrid.PairGrid at 0x2a934fcb1c0>"
      ]
     },
     "execution_count": 12,
     "metadata": {},
     "output_type": "execute_result"
    },
    {
     "data": {
      "image/png": "[encoded data removed]",
      "text/plain": [
       "<Figure size 720x720 with 20 Axes>"
      ]
     },
     "metadata": {
      "needs_background": "light"
     },
     "output_type": "display_data"
    }
   ],
   "source": [
    "#inspect the training dataset\n",
    "sns.pairplot(train_df[['l', 'q', 'E', 'I']], diag_kind='kde')"
   ]
  },
  {
   "cell_type": "code",
   "execution_count": 13,
   "id": "ebe60d1f",
   "metadata": {},
   "outputs": [
    {
     "data": {
      "text/html": [
       "<div>\n",
       "<style scoped>\n",
       "    .dataframe tbody tr th:only-of-type {\n",
       "        vertical-align: middle;\n",
       "    }\n",
       "\n",
       "    .dataframe tbody tr th {\n",
       "        vertical-align: top;\n",
       "    }\n",
       "\n",
       "    .dataframe thead th {\n",
       "        text-align: right;\n",
       "    }\n",
       "</style>\n",
       "<table border=\"1\" class=\"dataframe\">\n",
       "  <thead>\n",
       "    <tr style=\"text-align: right;\">\n",
       "      <th></th>\n",
       "      <th>count</th>\n",
       "      <th>mean</th>\n",
       "      <th>std</th>\n",
       "      <th>min</th>\n",
       "      <th>25%</th>\n",
       "      <th>50%</th>\n",
       "      <th>75%</th>\n",
       "      <th>max</th>\n",
       "    </tr>\n",
       "  </thead>\n",
       "  <tbody>\n",
       "    <tr>\n",
       "      <th>l</th>\n",
       "      <td>900.0</td>\n",
       "      <td>1.000000</td>\n",
       "      <td>0.000000</td>\n",
       "      <td>1.0</td>\n",
       "      <td>1.000000</td>\n",
       "      <td>1.000000</td>\n",
       "      <td>1.000000</td>\n",
       "      <td>1.0</td>\n",
       "    </tr>\n",
       "    <tr>\n",
       "      <th>q</th>\n",
       "      <td>900.0</td>\n",
       "      <td>149.987654</td>\n",
       "      <td>31.914772</td>\n",
       "      <td>100.0</td>\n",
       "      <td>122.222222</td>\n",
       "      <td>150.000000</td>\n",
       "      <td>177.777778</td>\n",
       "      <td>200.0</td>\n",
       "    </tr>\n",
       "    <tr>\n",
       "      <th>E</th>\n",
       "      <td>900.0</td>\n",
       "      <td>254.922222</td>\n",
       "      <td>28.567866</td>\n",
       "      <td>210.0</td>\n",
       "      <td>230.000000</td>\n",
       "      <td>260.000000</td>\n",
       "      <td>280.000000</td>\n",
       "      <td>300.0</td>\n",
       "    </tr>\n",
       "    <tr>\n",
       "      <th>I</th>\n",
       "      <td>900.0</td>\n",
       "      <td>1251.728395</td>\n",
       "      <td>160.358614</td>\n",
       "      <td>1000.0</td>\n",
       "      <td>1111.111111</td>\n",
       "      <td>1277.777778</td>\n",
       "      <td>1388.888889</td>\n",
       "      <td>1500.0</td>\n",
       "    </tr>\n",
       "  </tbody>\n",
       "</table>\n",
       "</div>"
      ],
      "text/plain": [
       "   count         mean         std     min          25%          50%  \\\n",
       "l  900.0     1.000000    0.000000     1.0     1.000000     1.000000   \n",
       "q  900.0   149.987654   31.914772   100.0   122.222222   150.000000   \n",
       "E  900.0   254.922222   28.567866   210.0   230.000000   260.000000   \n",
       "I  900.0  1251.728395  160.358614  1000.0  1111.111111  1277.777778   \n",
       "\n",
       "           75%     max  \n",
       "l     1.000000     1.0  \n",
       "q   177.777778   200.0  \n",
       "E   280.000000   300.0  \n",
       "I  1388.888889  1500.0  "
      ]
     },
     "execution_count": 13,
     "metadata": {},
     "output_type": "execute_result"
    }
   ],
   "source": [
    "train_df.describe().transpose()"
   ]
  },
  {
   "cell_type": "code",
   "execution_count": 14,
   "id": "c1f36898",
   "metadata": {},
   "outputs": [],
   "source": [
    "# follow this tutorial for our data \n",
    "# https://www.tensorflow.org/tutorials/keras/regression\n",
    "# whenever possible, add comments and discussion"
   ]
  },
  {
   "cell_type": "code",
   "execution_count": null,
   "id": "fb9ed742",
   "metadata": {},
   "outputs": [],
   "source": []
  },
  {
   "cell_type": "code",
   "execution_count": 15,
   "id": "ebc012d2",
   "metadata": {},
   "outputs": [
    {
     "data": {
      "text/plain": [
       "0     -0.000516\n",
       "1     -0.000525\n",
       "2     -0.000848\n",
       "3     -0.000595\n",
       "4     -0.000686\n",
       "         ...   \n",
       "995   -0.000504\n",
       "996   -0.000836\n",
       "997   -0.001093\n",
       "998   -0.000875\n",
       "999   -0.000889\n",
       "Name: y, Length: 1000, dtype: float64"
      ]
     },
     "execution_count": 15,
     "metadata": {},
     "output_type": "execute_result"
    }
   ],
   "source": [
    "# get the max \"y\" for each entry\n",
    "df.y.apply(min)\n",
    "# at this point we could plot very interesting stuff such as ymax distributions on the vars (q,l,E,I)...\n",
    "# but let's think about that later"
   ]
  },
  {
   "cell_type": "code",
   "execution_count": null,
   "id": "26314aad",
   "metadata": {},
   "outputs": [],
   "source": []
  },
  {
   "cell_type": "code",
   "execution_count": 16,
   "id": "27a529e5",
   "metadata": {},
   "outputs": [],
   "source": [
    "# I have fixed the value of L as 1.0 for now, so I am not using the values of [x,y] as inputs, only the values of y."
   ]
  },
  {
   "cell_type": "code",
   "execution_count": 17,
   "id": "ee5a9503",
   "metadata": {},
   "outputs": [],
   "source": [
    "# Allocate the features and the labels in different DataFrames.\n",
    "\n",
    "train_features = train_df.copy()\n",
    "test_features = test_df.copy()\n",
    "\n",
    "# train_labels = pd.DataFrame([train_features.pop('l'), train_features.pop('q'), train_features.pop('E'), train_features.pop('I')])\n",
    "# train_labels = train_labels.T\n",
    "# test_labels = pd.DataFrame([test_features.pop('l'), test_features.pop('q'), test_features.pop('E'), test_features.pop('I')])\n",
    "# test_labels = test_labels.T\n",
    "\n",
    "train_labels = pd.DataFrame([train_features.pop('q'), train_features.pop('E'), train_features.pop('I')])\n",
    "train_labels = train_labels.T\n",
    "test_labels = pd.DataFrame([test_features.pop('q'), test_features.pop('E'), test_features.pop('I')])\n",
    "test_labels = test_labels.T"
   ]
  },
  {
   "cell_type": "code",
   "execution_count": 18,
   "id": "c6e6a2fd",
   "metadata": {},
   "outputs": [],
   "source": [
    "feature_columns = []\n",
    "\n",
    "# Will not include the values of x\n",
    "# x_col = tf.feature_column.numeric_column(\"x\")\n",
    "# feature_columns.append(x_col)\n",
    "y_col = tf.feature_column.numeric_column(\"y\")\n",
    "feature_columns.append(y_col)\n",
    "\n",
    "my_feature_layer = tf.keras.layers.DenseFeatures(feature_columns)"
   ]
  },
  {
   "cell_type": "code",
   "execution_count": 19,
   "id": "9fbf1696",
   "metadata": {},
   "outputs": [],
   "source": [
    "# Build the model and define its architecture."
   ]
  },
  {
   "cell_type": "code",
   "execution_count": 20,
   "id": "0c863d30",
   "metadata": {},
   "outputs": [],
   "source": [
    "inputs = keras.Input(shape=n)"
   ]
  },
  {
   "cell_type": "code",
   "execution_count": 21,
   "id": "a610a710",
   "metadata": {},
   "outputs": [],
   "source": [
    "dense = layers.Dense(512, activation=\"relu\")\n",
    "x = dense(inputs)"
   ]
  },
  {
   "cell_type": "code",
   "execution_count": null,
   "id": "462582e4",
   "metadata": {},
   "outputs": [],
   "source": []
  },
  {
   "cell_type": "code",
   "execution_count": 22,
   "id": "936026cb",
   "metadata": {},
   "outputs": [],
   "source": [
    "x = layers.Dense(512, activation=\"relu\")(x)\n",
    "outputs = layers.Dense(3)(x)"
   ]
  },
  {
   "cell_type": "code",
   "execution_count": 23,
   "id": "1b34651d",
   "metadata": {},
   "outputs": [],
   "source": [
    "model = keras.Model(inputs=inputs, outputs=outputs, name=\"model\")"
   ]
  },
  {
   "cell_type": "code",
   "execution_count": 24,
   "id": "179c192f",
   "metadata": {},
   "outputs": [
    {
     "name": "stdout",
     "output_type": "stream",
     "text": [
      "Model: \"model\"\n",
      "_________________________________________________________________\n",
      "Layer (type)                 Output Shape              Param #   \n",
      "=================================================================\n",
      "input_1 (InputLayer)         [(None, 1000)]            0         \n",
      "_________________________________________________________________\n",
      "dense (Dense)                (None, 512)               512512    \n",
      "_________________________________________________________________\n",
      "dense_1 (Dense)              (None, 512)               262656    \n",
      "_________________________________________________________________\n",
      "dense_2 (Dense)              (None, 3)                 1539      \n",
      "=================================================================\n",
      "Total params: 776,707\n",
      "Trainable params: 776,707\n",
      "Non-trainable params: 0\n",
      "_________________________________________________________________\n"
     ]
    }
   ],
   "source": [
    "model.summary()"
   ]
  },
  {
   "cell_type": "code",
   "execution_count": 25,
   "id": "8aebd143",
   "metadata": {},
   "outputs": [],
   "source": [
    "# Set the hyperparameters\n",
    "\n",
    "validation_split=0.2\n",
    "learning_rate = 0.01\n",
    "batch_size = 50\n",
    "epochs = 20"
   ]
  },
  {
   "cell_type": "code",
   "execution_count": 26,
   "id": "99ec666d",
   "metadata": {},
   "outputs": [],
   "source": [
    "model.compile(\n",
    "    loss=\"mean_squared_error\",\n",
    "    optimizer=tf.keras.optimizers.Adam(learning_rate=learning_rate),\n",
    ")\n",
    "\n",
    "# Still need to find what's the best loss function for our model."
   ]
  },
  {
   "cell_type": "code",
   "execution_count": 27,
   "id": "39776b9c",
   "metadata": {},
   "outputs": [],
   "source": [
    "# For some reason I had to manually convert the data into tensors.\n",
    "\n",
    "tf_train_features = tf.constant([train_features['y']], shape=(train_size,n))\n",
    "\n",
    "tf_train_labels = tf.constant([np.array(train_labels)], shape=(train_size,3))\n",
    "\n",
    "tf_test_features = tf.constant([test_features['y']], shape=(test_size,n))\n",
    "\n",
    "tf_test_labels = tf.constant([np.array(test_labels)], shape=(test_size,3))"
   ]
  },
  {
   "cell_type": "code",
   "execution_count": 28,
   "id": "8addf91f",
   "metadata": {},
   "outputs": [
    {
     "name": "stdout",
     "output_type": "stream",
     "text": [
      "Epoch 1/20\n",
      "15/15 [==============================] - 1s 35ms/step - loss: 538276.1875 - val_loss: 427840.6250\n",
      "Epoch 2/20\n",
      "15/15 [==============================] - 0s 16ms/step - loss: 254586.1719 - val_loss: 52095.2109\n",
      "Epoch 3/20\n",
      "15/15 [==============================] - 0s 16ms/step - loss: 36088.0898 - val_loss: 28123.6582\n",
      "Epoch 4/20\n",
      "15/15 [==============================] - 0s 16ms/step - loss: 21952.7520 - val_loss: 18923.8027\n",
      "Epoch 5/20\n",
      "15/15 [==============================] - 0s 15ms/step - loss: 16541.7715 - val_loss: 14907.2246\n",
      "Epoch 6/20\n",
      "15/15 [==============================] - 0s 14ms/step - loss: 14589.6143 - val_loss: 13659.3086\n",
      "Epoch 7/20\n",
      "15/15 [==============================] - 0s 15ms/step - loss: 13324.4541 - val_loss: 13574.2031\n",
      "Epoch 8/20\n",
      "15/15 [==============================] - 0s 15ms/step - loss: 12358.0156 - val_loss: 11796.3350\n",
      "Epoch 9/20\n",
      "15/15 [==============================] - 0s 15ms/step - loss: 11570.9072 - val_loss: 11267.3379\n",
      "Epoch 10/20\n",
      "15/15 [==============================] - 0s 15ms/step - loss: 10756.9902 - val_loss: 10189.5273\n",
      "Epoch 11/20\n",
      "15/15 [==============================] - 0s 14ms/step - loss: 10104.4277 - val_loss: 9554.2510\n",
      "Epoch 12/20\n",
      "15/15 [==============================] - 0s 15ms/step - loss: 9510.5078 - val_loss: 9236.6143\n",
      "Epoch 13/20\n",
      "15/15 [==============================] - 0s 15ms/step - loss: 8977.2588 - val_loss: 8624.8330\n",
      "Epoch 14/20\n",
      "15/15 [==============================] - 0s 15ms/step - loss: 8606.7363 - val_loss: 8448.7227\n",
      "Epoch 15/20\n",
      "15/15 [==============================] - 0s 16ms/step - loss: 8318.7314 - val_loss: 7671.9688\n",
      "Epoch 16/20\n",
      "15/15 [==============================] - 0s 15ms/step - loss: 8003.2749 - val_loss: 7380.9873\n",
      "Epoch 17/20\n",
      "15/15 [==============================] - 0s 15ms/step - loss: 7887.2319 - val_loss: 7235.3828\n",
      "Epoch 18/20\n",
      "15/15 [==============================] - 0s 15ms/step - loss: 7823.4854 - val_loss: 7135.7793\n",
      "Epoch 19/20\n",
      "15/15 [==============================] - 0s 15ms/step - loss: 7769.8423 - val_loss: 7060.3262\n",
      "Epoch 20/20\n",
      "15/15 [==============================] - 0s 15ms/step - loss: 7992.0874 - val_loss: 7064.5557\n",
      "29/29 - 0s - loss: 7504.1484\n",
      "Test loss: 7504.1484375\n"
     ]
    }
   ],
   "source": [
    "history = model.fit(tf_train_features, tf_train_labels, batch_size=batch_size, epochs=epochs, validation_split=validation_split)\n",
    "\n",
    "test_scores = model.evaluate(tf_train_features, tf_train_labels, verbose=2)\n",
    "print(\"Test loss:\", test_scores)"
   ]
  },
  {
   "cell_type": "code",
   "execution_count": 29,
   "id": "3889a137",
   "metadata": {},
   "outputs": [
    {
     "name": "stdout",
     "output_type": "stream",
     "text": [
      "247525.845703125\n"
     ]
    },
    {
     "data": {
      "image/png": "[encoded data removed]",
      "text/plain": [
       "<Figure size 432x288 with 1 Axes>"
      ]
     },
     "metadata": {
      "needs_background": "light"
     },
     "output_type": "display_data"
    }
   ],
   "source": [
    "epochs = history.epoch\n",
    "\n",
    "hist = history.history\n",
    "\n",
    "plot_the_loss_curve(epochs, hist[\"loss\"], \n",
    "                    hist[\"val_loss\"])"
   ]
  },
  {
   "cell_type": "code",
   "execution_count": 30,
   "id": "83c14fd0",
   "metadata": {},
   "outputs": [
    {
     "data": {
      "text/plain": [
       "<tf.Tensor: shape=(5, 3), dtype=float64, numpy=\n",
       "array([[ 155.55555556,  300.        , 1444.44444444],\n",
       "       [ 166.66666667,  270.        , 1055.55555556],\n",
       "       [ 122.22222222,  230.        , 1444.44444444],\n",
       "       [ 100.        ,  280.        , 1000.        ],\n",
       "       [ 155.55555556,  220.        , 1000.        ]])>"
      ]
     },
     "execution_count": 30,
     "metadata": {},
     "output_type": "execute_result"
    }
   ],
   "source": [
    "tf_test_labels[0:5]\n",
    "\n",
    "# q; E; I"
   ]
  },
  {
   "cell_type": "code",
   "execution_count": 31,
   "id": "f93a0fe6",
   "metadata": {},
   "outputs": [
    {
     "data": {
      "text/plain": [
       "array([[ 158.8179 ,  269.25943, 1318.5646 ],\n",
       "       [ 146.74341,  248.77284, 1218.1139 ],\n",
       "       [ 158.25204,  268.29938, 1313.8575 ],\n",
       "       [ 158.75516,  269.15298, 1318.043  ],\n",
       "       [ 140.07695,  237.46193, 1162.6527 ]], dtype=float32)"
      ]
     },
     "execution_count": 31,
     "metadata": {},
     "output_type": "execute_result"
    }
   ],
   "source": [
    "model.predict(tf_test_features)[0:5]\n",
    "\n",
    "# q; E; I"
   ]
  },
  {
   "cell_type": "code",
   "execution_count": 32,
   "id": "5aba7b27",
   "metadata": {},
   "outputs": [
    {
     "data": {
      "text/plain": [
       "<tf.Tensor: shape=(5, 3), dtype=float64, numpy=\n",
       "array([[ 2.09722246, 10.24685669,  8.71476018],\n",
       "       [11.95395508,  7.86191022, 15.40026341],\n",
       "       [29.47894565, 16.65190324,  9.04063157],\n",
       "       [58.75515747,  3.87393406, 31.80429687],\n",
       "       [ 9.9505321 ,  7.9372406 , 16.265271  ]])>"
      ]
     },
     "execution_count": 32,
     "metadata": {},
     "output_type": "execute_result"
    }
   ],
   "source": [
    "# relative error (%)\n",
    "\n",
    "(np.abs(tf_test_labels[0:5] - model.predict(tf_test_features)[0:5]) / tf_test_labels[0:5]) * 100"
   ]
  },
  {
   "cell_type": "code",
   "execution_count": 33,
   "id": "6beafb0d",
   "metadata": {},
   "outputs": [
    {
     "data": {
      "text/plain": [
       "array([23,  9,  9])"
      ]
     },
     "execution_count": 33,
     "metadata": {},
     "output_type": "execute_result"
    }
   ],
   "source": [
    "error_mat = (np.abs(tf_test_labels - model.predict(tf_test_features)) / tf_test_labels) * 100\n",
    "\n",
    "error_avg = np.array([0,0,0])\n",
    "error_avg[0] = np.average(error_mat[:,0])\n",
    "error_avg[1] = np.average(error_mat[:,1])\n",
    "error_avg[2] = np.average(error_mat[:,2])\n",
    "\n",
    "error_avg\n",
    "\n",
    "# average relative error (%) for [q, E, I]"
   ]
  },
  {
   "cell_type": "code",
   "execution_count": 34,
   "id": "1a9c7f8e",
   "metadata": {},
   "outputs": [],
   "source": [
    "def compare_curves(label, guess, n):\n",
    "\n",
    "    label = [1, label[0], label[1],label[2]]\n",
    "    guess = [1, guess[0], guess[1], guess[2]]\n",
    "    \n",
    "    x_vec = np.linspace(0, 1, n)\n",
    "    y_vec = ana_sol(n, label)[1] * 10**3  # [mm]\n",
    "\n",
    "    points = np.zeros((len(x_vec), 2))\n",
    "\n",
    "    for i in range(len(x_vec)):\n",
    "        points[i, 0] = x_vec[i]\n",
    "        points[i, 1] = y_vec[i]\n",
    "    \n",
    "    y_vec_g = ana_sol(n, guess)[1] * 10**3  # [mm]\n",
    "\n",
    "    points = np.zeros((len(x_vec), 2))\n",
    "\n",
    "    for i in range(len(x_vec)):\n",
    "        points[i, 0] = x_vec[i]\n",
    "        points[i, 1] = y_vec[i]\n",
    "\n",
    "\n",
    "    plt.plot(x_vec, y_vec, c='g')\n",
    "    plt.plot(x_vec, y_vec_g, c='r')\n",
    "    plt.show()"
   ]
  },
  {
   "cell_type": "code",
   "execution_count": 35,
   "id": "93c6acac",
   "metadata": {},
   "outputs": [
    {
     "data": {
      "text/plain": [
       "<tf.Tensor: shape=(10,), dtype=float64, numpy=\n",
       "array([ 7.01961311, 11.73870957, 18.39049348, 31.47779614, 11.3843479 ,\n",
       "        9.11514479, 15.61700022, 15.90186927, 26.47475561,  9.69087493])>"
      ]
     },
     "execution_count": 35,
     "metadata": {},
     "output_type": "execute_result"
    }
   ],
   "source": [
    "# error_col will contain the average of the relative errors (%) for q, E and I for each guess.\n",
    "\n",
    "error_col = (error_mat[:,0] + error_mat[:,1] + error_mat[:,2])/3\n",
    "\n",
    "error_col[0:10]"
   ]
  },
  {
   "cell_type": "code",
   "execution_count": 36,
   "id": "15bbf434",
   "metadata": {},
   "outputs": [
    {
     "data": {
      "text/plain": [
       "2.4952045890855454"
      ]
     },
     "execution_count": 36,
     "metadata": {},
     "output_type": "execute_result"
    }
   ],
   "source": [
    "np.min(error_col)"
   ]
  },
  {
   "cell_type": "code",
   "execution_count": 37,
   "id": "16c330ee",
   "metadata": {},
   "outputs": [
    {
     "data": {
      "text/plain": [
       "array([0.65047782, 6.42585754, 0.40927841])"
      ]
     },
     "execution_count": 37,
     "metadata": {},
     "output_type": "execute_result"
    }
   ],
   "source": [
    "# Relative errors (%) for q, E, I for our best curve.\n",
    "np.array(error_mat[np.argmin(error_col),:])"
   ]
  },
  {
   "cell_type": "code",
   "execution_count": 38,
   "id": "e6c12e60",
   "metadata": {},
   "outputs": [
    {
     "data": {
      "image/png": "[encoded data removed]",
      "text/plain": [
       "<Figure size 432x288 with 1 Axes>"
      ]
     },
     "metadata": {
      "needs_background": "light"
     },
     "output_type": "display_data"
    }
   ],
   "source": [
    "# This is the best guess (the guess which as the minimum average error)\n",
    "# \"True\" curve is in green, whereas the \"guessed\" curve is in red.\n",
    "\n",
    "min_label = np.array(tf_test_labels[np.argmin(error_col),:])\n",
    "min_guess = model.predict(tf_test_features)[np.argmin(error_col),:]\n",
    "\n",
    "compare_curves(min_label, min_guess, n)"
   ]
  },
  {
   "cell_type": "code",
   "execution_count": 39,
   "id": "d84bbb6c",
   "metadata": {},
   "outputs": [
    {
     "data": {
      "text/plain": [
       "34.14220954047309"
      ]
     },
     "execution_count": 39,
     "metadata": {},
     "output_type": "execute_result"
    }
   ],
   "source": [
    "np.max(error_col)"
   ]
  },
  {
   "cell_type": "code",
   "execution_count": 40,
   "id": "9b04876d",
   "metadata": {},
   "outputs": [
    {
     "data": {
      "text/plain": [
       "array([60.00663757,  9.57454427, 32.84544678])"
      ]
     },
     "execution_count": 40,
     "metadata": {},
     "output_type": "execute_result"
    }
   ],
   "source": [
    "# Relative errors (%) for q, E, I for our worst curve.\n",
    "np.array(error_mat[np.argmax(error_col),:])"
   ]
  },
  {
   "cell_type": "code",
   "execution_count": 41,
   "id": "bdf4d103",
   "metadata": {},
   "outputs": [
    {
     "data": {
      "image/png": "[encoded data removed]",
      "text/plain": [
       "<Figure size 432x288 with 1 Axes>"
      ]
     },
     "metadata": {
      "needs_background": "light"
     },
     "output_type": "display_data"
    }
   ],
   "source": [
    "# This is the worst guess (the guess which as the maximum average error)\n",
    "# \"True\" curve is in green, whereas the \"guessed\" curve is in red.\n",
    "\n",
    "max_label = tf_test_labels[np.argmax(error_col),:]\n",
    "max_guess = model.predict(tf_test_features)[np.argmax(error_col),:]\n",
    "\n",
    "compare_curves(max_label, max_guess, n)"
   ]
  },
  {
   "cell_type": "code",
   "execution_count": null,
   "id": "670cff64",
   "metadata": {},
   "outputs": [],
   "source": []
  },
  {
   "cell_type": "code",
   "execution_count": 42,
   "id": "4d5de202",
   "metadata": {},
   "outputs": [
    {
     "name": "stdout",
     "output_type": "stream",
     "text": [
      "The errors for q, E and I (%) are: [ 0.02856328 16.63924444  7.93987183]\n"
     ]
    },
    {
     "data": {
      "image/png": "[encoded data removed]",
      "text/plain": [
       "<Figure size 432x288 with 1 Axes>"
      ]
     },
     "metadata": {
      "needs_background": "light"
     },
     "output_type": "display_data"
    }
   ],
   "source": [
    "# The curve with less error for q.\n",
    "i_min_q = np.argmin(error_mat, axis=0)[0]\n",
    "\n",
    "print('The errors for q, E and I (%) are:', np.array(error_mat[i_min_q,:]))\n",
    "\n",
    "min_q_label = tf_test_labels[i_min_q,:]\n",
    "min_q_guess = model.predict(tf_test_features)[i_min_q ,:]\n",
    "\n",
    "compare_curves(min_q_label, min_q_guess, n)"
   ]
  },
  {
   "cell_type": "code",
   "execution_count": 43,
   "id": "21a680c9",
   "metadata": {},
   "outputs": [
    {
     "name": "stdout",
     "output_type": "stream",
     "text": [
      "The errors for q, E and I (%) are: [11.67980957  0.1807312   4.73557478]\n"
     ]
    },
    {
     "data": {
      "image/png": "[encoded data removed]",
      "text/plain": [
       "<Figure size 432x288 with 1 Axes>"
      ]
     },
     "metadata": {
      "needs_background": "light"
     },
     "output_type": "display_data"
    }
   ],
   "source": [
    "# The curve with less error for E.\n",
    "i_min_E = np.argmin(error_mat, axis=0)[1]\n",
    "\n",
    "print('The errors for q, E and I (%) are:', np.array(error_mat[i_min_E,:]))\n",
    "\n",
    "min_E_label = tf_test_labels[i_min_E,:]\n",
    "min_E_guess = model.predict(tf_test_features)[i_min_E ,:]\n",
    "\n",
    "compare_curves(min_E_label, min_E_guess, n)"
   ]
  },
  {
   "cell_type": "code",
   "execution_count": 44,
   "id": "d16ff8fc",
   "metadata": {},
   "outputs": [
    {
     "name": "stdout",
     "output_type": "stream",
     "text": [
      "The errors for q, E and I (%) are: [60.47654724 18.29288649  0.0727356 ]\n"
     ]
    },
    {
     "data": {
      "image/png": "[encoded data removed]",
      "text/plain": [
       "<Figure size 432x288 with 1 Axes>"
      ]
     },
     "metadata": {
      "needs_background": "light"
     },
     "output_type": "display_data"
    }
   ],
   "source": [
    "# The curve with less error for I.\n",
    "i_min_I = np.argmin(error_mat, axis=0)[2]\n",
    "\n",
    "print('The errors for q, E and I (%) are:', np.array(error_mat[i_min_I,:]))\n",
    "\n",
    "min_I_label = tf_test_labels[i_min_I,:]\n",
    "min_I_guess = model.predict(tf_test_features)[i_min_I ,:]\n",
    "\n",
    "compare_curves(min_I_label, min_I_guess, n)"
   ]
  },
  {
   "cell_type": "code",
   "execution_count": 45,
   "id": "f1fd9230",
   "metadata": {},
   "outputs": [],
   "source": [
    "# 07/08/2021\n",
    "\n",
    "# There is no point in trying to guess L in this case, as there is only one value for it.\n",
    "\n",
    "# Even for multiple values of L, I think that it doesn't make sense to have [x, y] as inputs and at the same time try to \n",
    "# guess L, at least in the way I was innitially doing, because, (as the x values are linnearly spaced and allways the same\n",
    "# for each L), we could easily check the max value of x and get L from that, without any need for a machine learning method."
   ]
  },
  {
   "cell_type": "code",
   "execution_count": 46,
   "id": "455eab71",
   "metadata": {},
   "outputs": [],
   "source": [
    "# 07/08/2021\n",
    "\n",
    "# Need to improve the way I feed the data to the model (had to extract it from DataFrames and convert the arrays to tensors...)\n",
    "\n",
    "# Will try to figure out the best loss function, the best architecture for the model,\n",
    "# tune the hyperparameters and try to get good results."
   ]
  },
  {
   "cell_type": "code",
   "execution_count": 47,
   "id": "be8a6344",
   "metadata": {},
   "outputs": [],
   "source": [
    "# 12/09/2021\n",
    "\n",
    "# I am now only trying to find 3 parameters: E, q and I, as L was set to 1.0.\n",
    "\n",
    "# After some tunning and experimenting, I'm still not able to say if the problem is with the architecture\n",
    "# of the model being still too simple, if the problem is with the loss function or if it has to due with\n",
    "# the lack of normalization of the features. I've noticed that the model is very bad at guessing\n",
    "# the values for I, which are very small."
   ]
  },
  {
   "cell_type": "code",
   "execution_count": 48,
   "id": "92af5625",
   "metadata": {},
   "outputs": [],
   "source": [
    "# 18/09/2021\n",
    "\n",
    "# Adjusted the units of q, E and I. This way the values of the loss function don't get too high, they were\n",
    "# often turning into NaN when I tryed to adjust the model or increase the number of [x,y] inputs.\n",
    "# This way it is also easier to read the resuts."
   ]
  },
  {
   "cell_type": "code",
   "execution_count": null,
   "id": "6c433cbc",
   "metadata": {},
   "outputs": [],
   "source": []
  },
  {
   "cell_type": "code",
   "execution_count": null,
   "id": "bf8451d0",
   "metadata": {},
   "outputs": [],
   "source": []
  },
  {
   "cell_type": "code",
   "execution_count": null,
   "id": "49e33f9f",
   "metadata": {},
   "outputs": [],
   "source": []
  },
  {
   "cell_type": "code",
   "execution_count": null,
   "id": "dba3b7a5",
   "metadata": {},
   "outputs": [],
   "source": []
  }
 ],
 "metadata": {
  "kernelspec": {
   "display_name": "Python 3",
   "language": "python",
   "name": "python3"
  },
  "language_info": {
   "codemirror_mode": {
    "name": "ipython",
    "version": 3
   },
   "file_extension": ".py",
   "mimetype": "text/x-python",
   "name": "python",
   "nbconvert_exporter": "python",
   "pygments_lexer": "ipython3",
   "version": "3.9.5"
  }
 },
 "nbformat": 4,
 "nbformat_minor": 5
}

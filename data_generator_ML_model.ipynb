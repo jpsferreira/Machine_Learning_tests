{
 "cells": [
  {
   "cell_type": "code",
   "execution_count": 1,
   "id": "eb75dba5",
   "metadata": {},
   "outputs": [],
   "source": [
    "from matplotlib import pyplot as plt\n",
    "import numpy as np\n",
    "import pandas as pd\n",
    "import ast\n",
    "from sklearn.model_selection import train_test_split\n",
    "import seaborn as sns"
   ]
  },
  {
   "cell_type": "code",
   "execution_count": 2,
   "id": "e9738020",
   "metadata": {},
   "outputs": [],
   "source": [
    "import tensorflow as tf\n",
    "\n",
    "from tensorflow import keras\n",
    "from tensorflow.keras import layers\n",
    "from tensorflow.keras.layers.experimental import preprocessing"
   ]
  },
  {
   "cell_type": "code",
   "execution_count": 3,
   "id": "1cd2e762",
   "metadata": {},
   "outputs": [],
   "source": [
    "def plot_the_loss_curve(epochs, mse_training, mse_validation):\n",
    "\n",
    "  plt.figure()\n",
    "  plt.xlabel(\"Epoch\")\n",
    "  plt.ylabel(\"Loss\")\n",
    "\n",
    "  plt.plot(epochs[1:], mse_training[1:], label=\"Training Loss\")\n",
    "  plt.plot(epochs[1:], mse_validation[1:], label=\"Validation Loss\")\n",
    "  plt.legend()\n",
    "  \n",
    "  # We're not going to plot the first epoch, since the loss on the first epoch\n",
    "  # is often substantially greater than the loss for other epochs.\n",
    "  merged_mse_lists = mse_training[1:] + mse_validation[1:]\n",
    "  highest_loss = max(merged_mse_lists)\n",
    "  lowest_loss = min(merged_mse_lists)\n",
    "  delta = highest_loss - lowest_loss\n",
    "  print(delta)\n",
    "\n",
    "  top_of_y_axis = highest_loss + (delta * 0.05)\n",
    "  bottom_of_y_axis = lowest_loss - (delta * 0.05)\n",
    "   \n",
    "  plt.ylim([bottom_of_y_axis, top_of_y_axis])\n",
    "  plt.show() "
   ]
  },
  {
   "cell_type": "code",
   "execution_count": 4,
   "id": "25134d06",
   "metadata": {},
   "outputs": [],
   "source": [
    "l_min = 1\n",
    "l_max = 1\n",
    "\n",
    "n_l = 1  # defined only one value for L, for now.\n",
    "\n",
    "# q in kN\n",
    "q_min = 100\n",
    "q_max = 1000\n",
    "\n",
    "n_q = 10\n",
    "\n",
    "# E in GPa\n",
    "E_min = 210\n",
    "E_max = 300\n",
    "\n",
    "n_E = 10\n",
    "\n",
    "# I in cm^4\n",
    "I_min = 1 * 10 ** (3) \n",
    "I_max = 10 * 10 ** (3)\n",
    "\n",
    "n_I = 10\n",
    "\n",
    "# Will make the vectors linearly spaced, but it's not necessary\n",
    "l_vec = np.linspace(l_min, l_max, n_l)\n",
    "q_vec = np.linspace(q_min, q_max, n_q)\n",
    "E_vec = np.linspace(E_min, E_max, n_E)\n",
    "I_vec = np.linspace(I_min, I_max, n_I)"
   ]
  },
  {
   "cell_type": "code",
   "execution_count": 5,
   "id": "0d62b2b4",
   "metadata": {},
   "outputs": [],
   "source": [
    "# Compute all possible permutations and arrange them in a matrix\n",
    "\n",
    "per_list = []\n",
    "for i in range(len(l_vec)):\n",
    "    for j in range(len(q_vec)):\n",
    "        for k in range(len(E_vec)):\n",
    "            for l in range(len(I_vec)):\n",
    "                per_list = np.append(per_list, np.array([[l_vec[i], q_vec[j], E_vec[k], I_vec[l]]]))\n",
    "\n",
    "per_list = per_list.reshape(-1, 4)\n",
    "\n",
    "# Shuffle the permutations\n",
    "np.random.shuffle(per_list)\n",
    "\n",
    "np.save('125_combinations', per_list)  # saved as an .npy file to use later using np.load('125_combinations')"
   ]
  },
  {
   "cell_type": "code",
   "execution_count": 6,
   "id": "5c263575",
   "metadata": {},
   "outputs": [],
   "source": [
    "# analytical solution for the beam bending problem\n",
    "\n",
    "def ana_sol(n, l, q, E, I):\n",
    "    x_min = 0\n",
    "    x_max = l\n",
    "    x = np.linspace(x_min, x_max, n)\n",
    "    y = np.zeros(len(x))\n",
    "    c_1 = -(q * 10 ** 3 * l ** 3) / (24 * E * 10 ** 9 * I * 10 ** (-8))\n",
    "    y = (1 / (E * 10 ** 9 * I * 10 ** (-8))) * (((q * 10 ** 3 * l) / 12) * x ** 3 - (q * 10 ** 3 / 24) * x ** 4) + c_1 * x\n",
    "\n",
    "    return [x, y]\n",
    "\n",
    "def ana_sol_with_noise(n, param_list,noise):\n",
    "    l=param_list[0]\n",
    "    q=param_list[1]\n",
    "    E=param_list[2]\n",
    "    I=param_list[3]\n",
    "    x_min = 0\n",
    "    x_max = l\n",
    "    x = np.linspace(x_min, x_max, n)\n",
    "    y = np.zeros(len(x))\n",
    "    c_1 = -(q * 10 ** 3 * l ** 3) / (24 * E * 10 ** 9 * I * 10 ** (-8))\n",
    "    y = (1 / (E * 10 ** 9 * I * 10 ** (-8))) * (((q * 10 ** 3 * l) / 12) * x ** 3 - (q * 10 ** 3 / 24) * x ** 4) + c_1 * x\n",
    "    y = y + noise * (np.random.random(len(y)) - 0.5) * (np.max(y) - np.min(y))\n",
    "\n",
    "    return [x, y]"
   ]
  },
  {
   "cell_type": "code",
   "execution_count": null,
   "id": "6225b71c",
   "metadata": {},
   "outputs": [],
   "source": []
  },
  {
   "cell_type": "code",
   "execution_count": null,
   "id": "1a8d1b85",
   "metadata": {},
   "outputs": [],
   "source": []
  },
  {
   "cell_type": "code",
   "execution_count": 7,
   "id": "428f74a0",
   "metadata": {},
   "outputs": [],
   "source": [
    "#alternative way to generate fake data with noise\n",
    "n = 1000\n",
    "# Add noise\n",
    "noise_factor = 0.2\n",
    "#create dictionary with generated data\n",
    "fake_data = {}\n",
    "#dict keys: list of parameters values\n",
    "#dict values: (x,y) array \n",
    "for i in per_list:\n",
    "    fake_data[repr(i.tolist())] = ana_sol_with_noise(n, i, noise_factor)"
   ]
  },
  {
   "cell_type": "code",
   "execution_count": 8,
   "id": "fb0b2ecd",
   "metadata": {},
   "outputs": [
    {
     "data": {
      "text/html": [
       "<div>\n",
       "<style scoped>\n",
       "    .dataframe tbody tr th:only-of-type {\n",
       "        vertical-align: middle;\n",
       "    }\n",
       "\n",
       "    .dataframe tbody tr th {\n",
       "        vertical-align: top;\n",
       "    }\n",
       "\n",
       "    .dataframe thead th {\n",
       "        text-align: right;\n",
       "    }\n",
       "</style>\n",
       "<table border=\"1\" class=\"dataframe\">\n",
       "  <thead>\n",
       "    <tr style=\"text-align: right;\">\n",
       "      <th></th>\n",
       "      <th>x</th>\n",
       "      <th>y</th>\n",
       "      <th>l</th>\n",
       "      <th>q</th>\n",
       "      <th>E</th>\n",
       "      <th>I</th>\n",
       "    </tr>\n",
       "  </thead>\n",
       "  <tbody>\n",
       "    <tr>\n",
       "      <th>0</th>\n",
       "      <td>[0.0, 0.001001001001001001, 0.0020020020020020...</td>\n",
       "      <td>[0.00013189396541500646, -5.9411802677386266e-...</td>\n",
       "      <td>1.0</td>\n",
       "      <td>500.0</td>\n",
       "      <td>290.0</td>\n",
       "      <td>1000.0</td>\n",
       "    </tr>\n",
       "    <tr>\n",
       "      <th>1</th>\n",
       "      <td>[0.0, 0.001001001001001001, 0.0020020020020020...</td>\n",
       "      <td>[8.19643094453805e-06, -6.689340110456274e-06,...</td>\n",
       "      <td>1.0</td>\n",
       "      <td>300.0</td>\n",
       "      <td>270.0</td>\n",
       "      <td>9000.0</td>\n",
       "    </tr>\n",
       "    <tr>\n",
       "      <th>2</th>\n",
       "      <td>[0.0, 0.001001001001001001, 0.0020020020020020...</td>\n",
       "      <td>[-1.8289954964505114e-05, 2.3297927017285903e-...</td>\n",
       "      <td>1.0</td>\n",
       "      <td>400.0</td>\n",
       "      <td>300.0</td>\n",
       "      <td>7000.0</td>\n",
       "    </tr>\n",
       "    <tr>\n",
       "      <th>3</th>\n",
       "      <td>[0.0, 0.001001001001001001, 0.0020020020020020...</td>\n",
       "      <td>[-5.209178407618828e-06, -8.2038410330914e-06,...</td>\n",
       "      <td>1.0</td>\n",
       "      <td>200.0</td>\n",
       "      <td>220.0</td>\n",
       "      <td>8000.0</td>\n",
       "    </tr>\n",
       "    <tr>\n",
       "      <th>4</th>\n",
       "      <td>[0.0, 0.001001001001001001, 0.0020020020020020...</td>\n",
       "      <td>[-1.1914606048802612e-05, -5.044492792873286e-...</td>\n",
       "      <td>1.0</td>\n",
       "      <td>700.0</td>\n",
       "      <td>240.0</td>\n",
       "      <td>9000.0</td>\n",
       "    </tr>\n",
       "    <tr>\n",
       "      <th>...</th>\n",
       "      <td>...</td>\n",
       "      <td>...</td>\n",
       "      <td>...</td>\n",
       "      <td>...</td>\n",
       "      <td>...</td>\n",
       "      <td>...</td>\n",
       "    </tr>\n",
       "    <tr>\n",
       "      <th>995</th>\n",
       "      <td>[0.0, 0.001001001001001001, 0.0020020020020020...</td>\n",
       "      <td>[3.3232651142468154e-05, -1.6382932811589727e-...</td>\n",
       "      <td>1.0</td>\n",
       "      <td>1000.0</td>\n",
       "      <td>270.0</td>\n",
       "      <td>9000.0</td>\n",
       "    </tr>\n",
       "    <tr>\n",
       "      <th>996</th>\n",
       "      <td>[0.0, 0.001001001001001001, 0.0020020020020020...</td>\n",
       "      <td>[-5.416743892636422e-05, -1.6604213650810908e-...</td>\n",
       "      <td>1.0</td>\n",
       "      <td>400.0</td>\n",
       "      <td>270.0</td>\n",
       "      <td>3000.0</td>\n",
       "    </tr>\n",
       "    <tr>\n",
       "      <th>997</th>\n",
       "      <td>[0.0, 0.001001001001001001, 0.0020020020020020...</td>\n",
       "      <td>[1.132082356275916e-05, -9.721635814213549e-06...</td>\n",
       "      <td>1.0</td>\n",
       "      <td>400.0</td>\n",
       "      <td>250.0</td>\n",
       "      <td>8000.0</td>\n",
       "    </tr>\n",
       "    <tr>\n",
       "      <th>998</th>\n",
       "      <td>[0.0, 0.001001001001001001, 0.0020020020020020...</td>\n",
       "      <td>[6.622738147318052e-05, 8.780321251509569e-05,...</td>\n",
       "      <td>1.0</td>\n",
       "      <td>400.0</td>\n",
       "      <td>280.0</td>\n",
       "      <td>2000.0</td>\n",
       "    </tr>\n",
       "    <tr>\n",
       "      <th>999</th>\n",
       "      <td>[0.0, 0.001001001001001001, 0.0020020020020020...</td>\n",
       "      <td>[-7.562949657963413e-06, 7.638021910456746e-06...</td>\n",
       "      <td>1.0</td>\n",
       "      <td>300.0</td>\n",
       "      <td>280.0</td>\n",
       "      <td>10000.0</td>\n",
       "    </tr>\n",
       "  </tbody>\n",
       "</table>\n",
       "<p>1000 rows × 6 columns</p>\n",
       "</div>"
      ],
      "text/plain": [
       "                                                     x  \\\n",
       "0    [0.0, 0.001001001001001001, 0.0020020020020020...   \n",
       "1    [0.0, 0.001001001001001001, 0.0020020020020020...   \n",
       "2    [0.0, 0.001001001001001001, 0.0020020020020020...   \n",
       "3    [0.0, 0.001001001001001001, 0.0020020020020020...   \n",
       "4    [0.0, 0.001001001001001001, 0.0020020020020020...   \n",
       "..                                                 ...   \n",
       "995  [0.0, 0.001001001001001001, 0.0020020020020020...   \n",
       "996  [0.0, 0.001001001001001001, 0.0020020020020020...   \n",
       "997  [0.0, 0.001001001001001001, 0.0020020020020020...   \n",
       "998  [0.0, 0.001001001001001001, 0.0020020020020020...   \n",
       "999  [0.0, 0.001001001001001001, 0.0020020020020020...   \n",
       "\n",
       "                                                     y    l       q      E  \\\n",
       "0    [0.00013189396541500646, -5.9411802677386266e-...  1.0   500.0  290.0   \n",
       "1    [8.19643094453805e-06, -6.689340110456274e-06,...  1.0   300.0  270.0   \n",
       "2    [-1.8289954964505114e-05, 2.3297927017285903e-...  1.0   400.0  300.0   \n",
       "3    [-5.209178407618828e-06, -8.2038410330914e-06,...  1.0   200.0  220.0   \n",
       "4    [-1.1914606048802612e-05, -5.044492792873286e-...  1.0   700.0  240.0   \n",
       "..                                                 ...  ...     ...    ...   \n",
       "995  [3.3232651142468154e-05, -1.6382932811589727e-...  1.0  1000.0  270.0   \n",
       "996  [-5.416743892636422e-05, -1.6604213650810908e-...  1.0   400.0  270.0   \n",
       "997  [1.132082356275916e-05, -9.721635814213549e-06...  1.0   400.0  250.0   \n",
       "998  [6.622738147318052e-05, 8.780321251509569e-05,...  1.0   400.0  280.0   \n",
       "999  [-7.562949657963413e-06, 7.638021910456746e-06...  1.0   300.0  280.0   \n",
       "\n",
       "           I  \n",
       "0     1000.0  \n",
       "1     9000.0  \n",
       "2     7000.0  \n",
       "3     8000.0  \n",
       "4     9000.0  \n",
       "..       ...  \n",
       "995   9000.0  \n",
       "996   3000.0  \n",
       "997   8000.0  \n",
       "998   2000.0  \n",
       "999  10000.0  \n",
       "\n",
       "[1000 rows x 6 columns]"
      ]
     },
     "execution_count": 8,
     "metadata": {},
     "output_type": "execute_result"
    }
   ],
   "source": [
    "#for each entry combination of (l,q,E,I) we have two columns of fake data: both x and noisy y \n",
    "fake_dataframe=pd.DataFrame.from_dict(fake_data,orient='index',columns=['x', 'y'])\n",
    "#I will now dstructure the data in such a way that we are able to immediatly assess \n",
    "# which entry combination of (l,q,E,I) gives a specific (x,Y)\n",
    "#let's clean a little\n",
    "fake_dataframe=fake_dataframe.rename_axis('parameters').reset_index()\n",
    "fake_dataframe.parameters=[eval(fake_dataframe.parameters[i]) for i in range(len(fake_dataframe))]\n",
    "fake_dataframe[['l','q','E','I']] = pd.DataFrame(fake_dataframe.parameters.tolist(), index= fake_dataframe.index)\n",
    "fake_dataframe=fake_dataframe.drop(columns='parameters')\n",
    "#let's see an example of structured data\n",
    "fake_dataframe"
   ]
  },
  {
   "cell_type": "code",
   "execution_count": 9,
   "id": "4d65beeb",
   "metadata": {},
   "outputs": [
    {
     "data": {
      "image/png": "[encoded data removed]",
      "text/plain": [
       "<Figure size 432x288 with 1 Axes>"
      ]
     },
     "metadata": {
      "needs_background": "light"
     },
     "output_type": "display_data"
    }
   ],
   "source": [
    "#plot the 1st entry of the dataframe\n",
    "plt.scatter(fake_dataframe['x'][1],fake_dataframe['y'][1],label=str(fake_dataframe.index[1]))\n",
    "plt.show()"
   ]
  },
  {
   "cell_type": "code",
   "execution_count": null,
   "id": "192bc709",
   "metadata": {},
   "outputs": [],
   "source": []
  },
  {
   "cell_type": "code",
   "execution_count": 10,
   "id": "feca0f09",
   "metadata": {},
   "outputs": [],
   "source": [
    "#with the dataset organized is much easier to split the data.\n",
    "#https://stackoverflow.com/questions/38250710/how-to-split-data-into-3-sets-train-validation-and-test\n",
    "#let's take a look at an example \n",
    "test_split=0.1 #we will use 10% of the data for testing. \n",
    "df = fake_dataframe\n",
    "train_df, test_df = train_test_split(df, test_size = test_split)"
   ]
  },
  {
   "cell_type": "code",
   "execution_count": 11,
   "id": "7a096150",
   "metadata": {},
   "outputs": [
    {
     "name": "stdout",
     "output_type": "stream",
     "text": [
      "Training set:  (900, 6)\n",
      "Test set:  (100, 6)\n"
     ]
    }
   ],
   "source": [
    "#the training data will be spllited automatically by 80/20 during training using keras framework. \n",
    "# no need to split at this stage.\n",
    "#let's check the array shapes: \n",
    "print('Training set: ',train_df.shape)\n",
    "print('Test set: ',test_df.shape)\n",
    "\n",
    "train_size = train_df.shape[0]\n",
    "test_size = test_df.shape[0]"
   ]
  },
  {
   "cell_type": "code",
   "execution_count": 12,
   "id": "1ed9443c",
   "metadata": {},
   "outputs": [
    {
     "name": "stderr",
     "output_type": "stream",
     "text": [
      "C:\\Users\\luisf\\.conda\\envs\\tf\\lib\\site-packages\\seaborn\\distributions.py:306: UserWarning: Dataset has 0 variance; skipping density estimate.\n",
      "  warnings.warn(msg, UserWarning)\n"
     ]
    },
    {
     "data": {
      "text/plain": [
       "<seaborn.axisgrid.PairGrid at 0x1aed39a1df0>"
      ]
     },
     "execution_count": 12,
     "metadata": {},
     "output_type": "execute_result"
    },
    {
     "data": {
      "image/png": "[encoded data removed]",
      "text/plain": [
       "<Figure size 720x720 with 20 Axes>"
      ]
     },
     "metadata": {
      "needs_background": "light"
     },
     "output_type": "display_data"
    }
   ],
   "source": [
    "#inspect the training dataset\n",
    "sns.pairplot(train_df[['l', 'q', 'E', 'I']], diag_kind='kde')"
   ]
  },
  {
   "cell_type": "code",
   "execution_count": 13,
   "id": "ebe60d1f",
   "metadata": {},
   "outputs": [
    {
     "data": {
      "text/html": [
       "<div>\n",
       "<style scoped>\n",
       "    .dataframe tbody tr th:only-of-type {\n",
       "        vertical-align: middle;\n",
       "    }\n",
       "\n",
       "    .dataframe tbody tr th {\n",
       "        vertical-align: top;\n",
       "    }\n",
       "\n",
       "    .dataframe thead th {\n",
       "        text-align: right;\n",
       "    }\n",
       "</style>\n",
       "<table border=\"1\" class=\"dataframe\">\n",
       "  <thead>\n",
       "    <tr style=\"text-align: right;\">\n",
       "      <th></th>\n",
       "      <th>count</th>\n",
       "      <th>mean</th>\n",
       "      <th>std</th>\n",
       "      <th>min</th>\n",
       "      <th>25%</th>\n",
       "      <th>50%</th>\n",
       "      <th>75%</th>\n",
       "      <th>max</th>\n",
       "    </tr>\n",
       "  </thead>\n",
       "  <tbody>\n",
       "    <tr>\n",
       "      <th>l</th>\n",
       "      <td>900.0</td>\n",
       "      <td>1.000000</td>\n",
       "      <td>0.000000</td>\n",
       "      <td>1.0</td>\n",
       "      <td>1.0</td>\n",
       "      <td>1.0</td>\n",
       "      <td>1.0</td>\n",
       "      <td>1.0</td>\n",
       "    </tr>\n",
       "    <tr>\n",
       "      <th>q</th>\n",
       "      <td>900.0</td>\n",
       "      <td>552.111111</td>\n",
       "      <td>287.147741</td>\n",
       "      <td>100.0</td>\n",
       "      <td>300.0</td>\n",
       "      <td>600.0</td>\n",
       "      <td>800.0</td>\n",
       "      <td>1000.0</td>\n",
       "    </tr>\n",
       "    <tr>\n",
       "      <th>E</th>\n",
       "      <td>900.0</td>\n",
       "      <td>254.877778</td>\n",
       "      <td>28.950623</td>\n",
       "      <td>210.0</td>\n",
       "      <td>230.0</td>\n",
       "      <td>260.0</td>\n",
       "      <td>280.0</td>\n",
       "      <td>300.0</td>\n",
       "    </tr>\n",
       "    <tr>\n",
       "      <th>I</th>\n",
       "      <td>900.0</td>\n",
       "      <td>5492.222222</td>\n",
       "      <td>2859.899878</td>\n",
       "      <td>1000.0</td>\n",
       "      <td>3000.0</td>\n",
       "      <td>6000.0</td>\n",
       "      <td>8000.0</td>\n",
       "      <td>10000.0</td>\n",
       "    </tr>\n",
       "  </tbody>\n",
       "</table>\n",
       "</div>"
      ],
      "text/plain": [
       "   count         mean          std     min     25%     50%     75%      max\n",
       "l  900.0     1.000000     0.000000     1.0     1.0     1.0     1.0      1.0\n",
       "q  900.0   552.111111   287.147741   100.0   300.0   600.0   800.0   1000.0\n",
       "E  900.0   254.877778    28.950623   210.0   230.0   260.0   280.0    300.0\n",
       "I  900.0  5492.222222  2859.899878  1000.0  3000.0  6000.0  8000.0  10000.0"
      ]
     },
     "execution_count": 13,
     "metadata": {},
     "output_type": "execute_result"
    }
   ],
   "source": [
    "train_df.describe().transpose()"
   ]
  },
  {
   "cell_type": "code",
   "execution_count": 14,
   "id": "c1f36898",
   "metadata": {},
   "outputs": [],
   "source": [
    "# follow this tutorial for our data \n",
    "# https://www.tensorflow.org/tutorials/keras/regression\n",
    "# whenever possible, add comments and discussion"
   ]
  },
  {
   "cell_type": "code",
   "execution_count": null,
   "id": "fb9ed742",
   "metadata": {},
   "outputs": [],
   "source": []
  },
  {
   "cell_type": "code",
   "execution_count": 15,
   "id": "ebc012d2",
   "metadata": {},
   "outputs": [
    {
     "data": {
      "text/plain": [
       "0     -0.002461\n",
       "1     -0.000176\n",
       "2     -0.000272\n",
       "3     -0.000162\n",
       "4     -0.000462\n",
       "         ...   \n",
       "995   -0.000587\n",
       "996   -0.000706\n",
       "997   -0.000285\n",
       "998   -0.001020\n",
       "999   -0.000153\n",
       "Name: y, Length: 1000, dtype: float64"
      ]
     },
     "execution_count": 15,
     "metadata": {},
     "output_type": "execute_result"
    }
   ],
   "source": [
    "# get the max \"y\" for each entry\n",
    "df.y.apply(min)\n",
    "# at this point we could plot very interesting stuff such as ymax distributions on the vars (q,l,E,I)...\n",
    "# but let's think about that later"
   ]
  },
  {
   "cell_type": "code",
   "execution_count": 16,
   "id": "27a529e5",
   "metadata": {},
   "outputs": [],
   "source": [
    "# I have fixed the value of L as 1.0 for now, so I am not using the values of [x,y] as inputs, only the values of y."
   ]
  },
  {
   "cell_type": "code",
   "execution_count": 17,
   "id": "ee5a9503",
   "metadata": {},
   "outputs": [],
   "source": [
    "# Allocate the features and the labels in different DataFrames.\n",
    "\n",
    "train_features = train_df.copy()\n",
    "test_features = test_df.copy()\n",
    "\n",
    "# train_labels = pd.DataFrame([train_features.pop('l'), train_features.pop('q'), train_features.pop('E'), train_features.pop('I')])\n",
    "# train_labels = train_labels.T\n",
    "# test_labels = pd.DataFrame([test_features.pop('l'), test_features.pop('q'), test_features.pop('E'), test_features.pop('I')])\n",
    "# test_labels = test_labels.T\n",
    "\n",
    "train_labels = pd.DataFrame([train_features.pop('q'), train_features.pop('E'), train_features.pop('I')])\n",
    "train_labels = train_labels.T\n",
    "test_labels = pd.DataFrame([test_features.pop('q'), test_features.pop('E'), test_features.pop('I')])\n",
    "test_labels = test_labels.T"
   ]
  },
  {
   "cell_type": "code",
   "execution_count": 18,
   "id": "43496047",
   "metadata": {},
   "outputs": [],
   "source": [
    "# I'm not yet sure what would be the correct way to normalize the values of y, as they are in the shape of vectors."
   ]
  },
  {
   "cell_type": "code",
   "execution_count": 19,
   "id": "c6e6a2fd",
   "metadata": {},
   "outputs": [],
   "source": [
    "feature_columns = []\n",
    "\n",
    "# Will not include the values of x\n",
    "# x_col = tf.feature_column.numeric_column(\"x\")\n",
    "# feature_columns.append(x_col)\n",
    "y_col = tf.feature_column.numeric_column(\"y\")\n",
    "feature_columns.append(y_col)\n",
    "\n",
    "my_feature_layer = tf.keras.layers.DenseFeatures(feature_columns)"
   ]
  },
  {
   "cell_type": "code",
   "execution_count": 20,
   "id": "9fbf1696",
   "metadata": {},
   "outputs": [],
   "source": [
    "# Build the model and define its architecture."
   ]
  },
  {
   "cell_type": "code",
   "execution_count": 21,
   "id": "0c863d30",
   "metadata": {},
   "outputs": [],
   "source": [
    "inputs = keras.Input(shape=(n))"
   ]
  },
  {
   "cell_type": "code",
   "execution_count": 22,
   "id": "a610a710",
   "metadata": {},
   "outputs": [],
   "source": [
    "dense = layers.Dense(256, activation=\"relu\")\n",
    "x = dense(inputs)"
   ]
  },
  {
   "cell_type": "code",
   "execution_count": 23,
   "id": "3393e4d4",
   "metadata": {},
   "outputs": [],
   "source": [
    "dense = layers.Dense(128, activation=\"relu\")\n",
    "x = dense(x)\n",
    "\n",
    "dense = layers.Dense(64, activation=\"relu\")\n",
    "x = dense(x)\n",
    "\n",
    "dense = layers.Dense(32, activation=\"relu\")\n",
    "x = dense(x)\n",
    "\n",
    "dense = layers.Dense(16, activation=\"relu\")\n",
    "x = dense(x)"
   ]
  },
  {
   "cell_type": "code",
   "execution_count": 24,
   "id": "936026cb",
   "metadata": {},
   "outputs": [],
   "source": [
    "x = layers.Dense(16, activation=\"relu\")(x)\n",
    "outputs = layers.Dense(3)(x)"
   ]
  },
  {
   "cell_type": "code",
   "execution_count": 25,
   "id": "1b34651d",
   "metadata": {},
   "outputs": [],
   "source": [
    "model = keras.Model(inputs=inputs, outputs=outputs, name=\"model\")"
   ]
  },
  {
   "cell_type": "code",
   "execution_count": 26,
   "id": "179c192f",
   "metadata": {},
   "outputs": [
    {
     "name": "stdout",
     "output_type": "stream",
     "text": [
      "Model: \"model\"\n",
      "_________________________________________________________________\n",
      "Layer (type)                 Output Shape              Param #   \n",
      "=================================================================\n",
      "input_1 (InputLayer)         [(None, 1000)]            0         \n",
      "_________________________________________________________________\n",
      "dense (Dense)                (None, 256)               256256    \n",
      "_________________________________________________________________\n",
      "dense_1 (Dense)              (None, 128)               32896     \n",
      "_________________________________________________________________\n",
      "dense_2 (Dense)              (None, 64)                8256      \n",
      "_________________________________________________________________\n",
      "dense_3 (Dense)              (None, 32)                2080      \n",
      "_________________________________________________________________\n",
      "dense_4 (Dense)              (None, 16)                528       \n",
      "_________________________________________________________________\n",
      "dense_5 (Dense)              (None, 16)                272       \n",
      "_________________________________________________________________\n",
      "dense_6 (Dense)              (None, 3)                 51        \n",
      "=================================================================\n",
      "Total params: 300,339\n",
      "Trainable params: 300,339\n",
      "Non-trainable params: 0\n",
      "_________________________________________________________________\n"
     ]
    }
   ],
   "source": [
    "model.summary()"
   ]
  },
  {
   "cell_type": "code",
   "execution_count": 27,
   "id": "8aebd143",
   "metadata": {},
   "outputs": [],
   "source": [
    "# Set the hyperparameters\n",
    "\n",
    "validation_split=0.2\n",
    "learning_rate = 0.01\n",
    "batch_size = 80\n",
    "epochs = 25"
   ]
  },
  {
   "cell_type": "code",
   "execution_count": 28,
   "id": "99ec666d",
   "metadata": {},
   "outputs": [],
   "source": [
    "model.compile(\n",
    "    loss=\"mean_squared_error\",\n",
    "    optimizer=tf.keras.optimizers.Adam(learning_rate=learning_rate),\n",
    ")\n",
    "\n",
    "# Still need to find what's the best loss function for our model."
   ]
  },
  {
   "cell_type": "code",
   "execution_count": 29,
   "id": "39776b9c",
   "metadata": {},
   "outputs": [],
   "source": [
    "# For some reason I had to manually convert the data into tensors.\n",
    "\n",
    "tf_train_features = tf.constant([train_features['y']], shape=(train_size,n))\n",
    "\n",
    "tf_train_labels = tf.constant([np.array(train_labels)], shape=(train_size,3))\n",
    "\n",
    "tf_test_features = tf.constant([test_features['y']], shape=(test_size,n))\n",
    "\n",
    "tf_test_labels = tf.constant([np.array(test_labels)], shape=(test_size,3))"
   ]
  },
  {
   "cell_type": "code",
   "execution_count": 30,
   "id": "8addf91f",
   "metadata": {},
   "outputs": [
    {
     "name": "stdout",
     "output_type": "stream",
     "text": [
      "Epoch 1/25\n",
      "9/9 [==============================] - 1s 31ms/step - loss: 13023280.0000 - val_loss: 12414805.0000\n",
      "Epoch 2/25\n",
      "9/9 [==============================] - 0s 11ms/step - loss: 12265243.0000 - val_loss: 9681086.0000\n",
      "Epoch 3/25\n",
      "9/9 [==============================] - 0s 10ms/step - loss: 7559351.5000 - val_loss: 6336356.5000\n",
      "Epoch 4/25\n",
      "9/9 [==============================] - 0s 7ms/step - loss: 4950076.5000 - val_loss: 3672879.2500\n",
      "Epoch 5/25\n",
      "9/9 [==============================] - 0s 10ms/step - loss: 3165762.5000 - val_loss: 2579666.5000\n",
      "Epoch 6/25\n",
      "9/9 [==============================] - 0s 10ms/step - loss: 2328240.5000 - val_loss: 1884295.5000\n",
      "Epoch 7/25\n",
      "9/9 [==============================] - 0s 9ms/step - loss: 1954085.1250 - val_loss: 1307984.6250\n",
      "Epoch 8/25\n",
      "9/9 [==============================] - 0s 10ms/step - loss: 1625024.5000 - val_loss: 1326876.6250\n",
      "Epoch 9/25\n",
      "9/9 [==============================] - 0s 9ms/step - loss: 1539662.3750 - val_loss: 1206425.8750\n",
      "Epoch 10/25\n",
      "9/9 [==============================] - 0s 8ms/step - loss: 1481520.2500 - val_loss: 1190800.1250\n",
      "Epoch 11/25\n",
      "9/9 [==============================] - 0s 10ms/step - loss: 1484983.8750 - val_loss: 1232021.7500\n",
      "Epoch 12/25\n",
      "9/9 [==============================] - 0s 10ms/step - loss: 1517865.1250 - val_loss: 1266094.8750\n",
      "Epoch 13/25\n",
      "9/9 [==============================] - 0s 8ms/step - loss: 1487619.3750 - val_loss: 1181158.7500\n",
      "Epoch 14/25\n",
      "9/9 [==============================] - 0s 9ms/step - loss: 1451186.8750 - val_loss: 1184221.7500\n",
      "Epoch 15/25\n",
      "9/9 [==============================] - 0s 9ms/step - loss: 1453050.8750 - val_loss: 1173739.3750\n",
      "Epoch 16/25\n",
      "9/9 [==============================] - 0s 9ms/step - loss: 1458097.3750 - val_loss: 1206011.8750\n",
      "Epoch 17/25\n",
      "9/9 [==============================] - 0s 9ms/step - loss: 1456457.2500 - val_loss: 1197874.8750\n",
      "Epoch 18/25\n",
      "9/9 [==============================] - 0s 11ms/step - loss: 1430524.0000 - val_loss: 1170527.7500\n",
      "Epoch 19/25\n",
      "9/9 [==============================] - 0s 11ms/step - loss: 1451164.8750 - val_loss: 1248597.1250\n",
      "Epoch 20/25\n",
      "9/9 [==============================] - 0s 10ms/step - loss: 1447574.5000 - val_loss: 1178133.3750\n",
      "Epoch 21/25\n",
      "9/9 [==============================] - 0s 9ms/step - loss: 1434870.8750 - val_loss: 1184213.2500\n",
      "Epoch 22/25\n",
      "9/9 [==============================] - 0s 11ms/step - loss: 1438050.7500 - val_loss: 1191388.7500\n",
      "Epoch 23/25\n",
      "9/9 [==============================] - 0s 11ms/step - loss: 1439472.7500 - val_loss: 1190829.3750\n",
      "Epoch 24/25\n",
      "9/9 [==============================] - 0s 10ms/step - loss: 1451947.3750 - val_loss: 1225213.3750\n",
      "Epoch 25/25\n",
      "9/9 [==============================] - 0s 10ms/step - loss: 1447958.7500 - val_loss: 1173296.8750\n",
      "29/29 - 0s - loss: 1377435.6250\n",
      "Test loss: 1377435.625\n"
     ]
    }
   ],
   "source": [
    "history = model.fit(tf_train_features, tf_train_labels, batch_size=batch_size, epochs=epochs, validation_split=validation_split)\n",
    "\n",
    "test_scores = model.evaluate(tf_train_features, tf_train_labels, verbose=2)\n",
    "print(\"Test loss:\", test_scores)"
   ]
  },
  {
   "cell_type": "code",
   "execution_count": 31,
   "id": "3889a137",
   "metadata": {},
   "outputs": [
    {
     "name": "stdout",
     "output_type": "stream",
     "text": [
      "11094715.25\n"
     ]
    },
    {
     "data": {
      "image/png": "[encoded data removed]",
      "text/plain": [
       "<Figure size 432x288 with 1 Axes>"
      ]
     },
     "metadata": {
      "needs_background": "light"
     },
     "output_type": "display_data"
    }
   ],
   "source": [
    "epochs = history.epoch\n",
    "\n",
    "hist = history.history\n",
    "\n",
    "plot_the_loss_curve(epochs, hist[\"loss\"], \n",
    "                    hist[\"val_loss\"])"
   ]
  },
  {
   "cell_type": "code",
   "execution_count": 38,
   "id": "9890df0c",
   "metadata": {},
   "outputs": [
    {
     "data": {
      "text/plain": [
       "<tf.Tensor: shape=(10, 3), dtype=float64, numpy=\n",
       "array([[ 200.,  260., 6000.],\n",
       "       [ 600.,  300., 1000.],\n",
       "       [ 200.,  230., 8000.],\n",
       "       [ 900.,  270., 9000.],\n",
       "       [1000.,  250., 1000.],\n",
       "       [ 500.,  280., 2000.],\n",
       "       [ 500.,  300., 3000.],\n",
       "       [1000.,  240., 4000.],\n",
       "       [ 700.,  230., 5000.],\n",
       "       [ 600.,  280., 8000.]])>"
      ]
     },
     "execution_count": 38,
     "metadata": {},
     "output_type": "execute_result"
    }
   ],
   "source": [
    "tf_test_labels[0:10]"
   ]
  },
  {
   "cell_type": "code",
   "execution_count": 39,
   "id": "f93a0fe6",
   "metadata": {},
   "outputs": [
    {
     "data": {
      "text/plain": [
       "array([[ 596.01855 ,  315.66315 , 7616.221   ],\n",
       "       [ 116.53331 ,   62.01381 , 1484.1176  ],\n",
       "       [ 604.54834 ,  320.17615 , 7725.299   ],\n",
       "       [ 491.21564 ,  260.21313 , 6276.017   ],\n",
       "       [ 101.7347  ,   54.181065, 1294.8856  ],\n",
       "       [ 267.27808 ,  141.73055 , 3412.335   ],\n",
       "       [ 411.79636 ,  218.1934  , 5260.414   ],\n",
       "       [ 216.74922 ,  114.99669 , 2766.144   ],\n",
       "       [ 388.89642 ,  206.07735 , 4967.5737  ],\n",
       "       [ 536.0404  ,  283.92938 , 6849.2285  ]], dtype=float32)"
      ]
     },
     "execution_count": 39,
     "metadata": {},
     "output_type": "execute_result"
    }
   ],
   "source": [
    "model.predict(tf_test_features)[0:10]"
   ]
  },
  {
   "cell_type": "code",
   "execution_count": 34,
   "id": "f1fd9230",
   "metadata": {},
   "outputs": [],
   "source": [
    "# 07/08/2021\n",
    "\n",
    "# There is no point in trying to guess L in this case, as there is only one value for it.\n",
    "\n",
    "# Even for multiple values of L, I think that it doesn't make sense to have [x, y] as inputs and at the same time try to \n",
    "# guess L, at least in the way I was innitially doing, because, (as the x values are linnearly spaced and allways the same\n",
    "# for each L), we could easily check the max value of x and get L from that, without any need for a machine learning method."
   ]
  },
  {
   "cell_type": "code",
   "execution_count": 35,
   "id": "455eab71",
   "metadata": {},
   "outputs": [],
   "source": [
    "# 07/08/2021\n",
    "\n",
    "# Need to improve the way I feed the data to the model (had to extract it from DataFrames and convert the arrays to tensors...)\n",
    "\n",
    "# Will try to figure out the best loss function, the best architecture for the model,\n",
    "# tune the hyperparameters and try to get good results."
   ]
  },
  {
   "cell_type": "code",
   "execution_count": 36,
   "id": "be8a6344",
   "metadata": {},
   "outputs": [],
   "source": [
    "# 12/09/2021\n",
    "\n",
    "# I am now only trying to find 3 parameters: E, q and I, as L was set to 1.0.\n",
    "\n",
    "# After some tunning and experimenting, I'm still not able to say if the problem is with the architecture\n",
    "# of the model being still too simple, if the problem is with the loss function or if it has to due with\n",
    "# the lack of normalization of the features. I've noticed that the model is very bad at guessing\n",
    "# the values for I, which are very small."
   ]
  },
  {
   "cell_type": "code",
   "execution_count": 37,
   "id": "92af5625",
   "metadata": {},
   "outputs": [],
   "source": [
    "# 18/09/2021\n",
    "\n",
    "# Adjusted the units of q, E and I. This way the values of the loss function don't get too high, they were\n",
    "# often turning into NaN when I tryed to adjust the model or increase the number of [x,y] inputs.\n",
    "# This way it is also easier to read the resuts."
   ]
  },
  {
   "cell_type": "code",
   "execution_count": null,
   "id": "6c433cbc",
   "metadata": {},
   "outputs": [],
   "source": []
  },
  {
   "cell_type": "code",
   "execution_count": null,
   "id": "bf8451d0",
   "metadata": {},
   "outputs": [],
   "source": []
  },
  {
   "cell_type": "code",
   "execution_count": null,
   "id": "49e33f9f",
   "metadata": {},
   "outputs": [],
   "source": []
  },
  {
   "cell_type": "code",
   "execution_count": null,
   "id": "dba3b7a5",
   "metadata": {},
   "outputs": [],
   "source": []
  }
 ],
 "metadata": {
  "kernelspec": {
   "display_name": "Python 3",
   "language": "python",
   "name": "python3"
  },
  "language_info": {
   "codemirror_mode": {
    "name": "ipython",
    "version": 3
   },
   "file_extension": ".py",
   "mimetype": "text/x-python",
   "name": "python",
   "nbconvert_exporter": "python",
   "pygments_lexer": "ipython3",
   "version": "3.9.5"
  }
 },
 "nbformat": 4,
 "nbformat_minor": 5
}

{
 "cells": [
  {
   "cell_type": "code",
   "execution_count": 1,
   "id": "eb75dba5",
   "metadata": {},
   "outputs": [],
   "source": [
    "from matplotlib import pyplot as plt\n",
    "import numpy as np\n",
    "import pandas as pd\n",
    "import ast\n",
    "from sklearn.model_selection import train_test_split\n",
    "import seaborn as sns"
   ]
  },
  {
   "cell_type": "code",
   "execution_count": 2,
   "id": "e9738020",
   "metadata": {},
   "outputs": [],
   "source": [
    "import tensorflow as tf\n",
    "\n",
    "from tensorflow import keras\n",
    "from tensorflow.keras import layers\n",
    "from tensorflow.keras.layers.experimental import preprocessing"
   ]
  },
  {
   "cell_type": "code",
   "execution_count": 3,
   "id": "1cd2e762",
   "metadata": {},
   "outputs": [],
   "source": [
    "def plot_the_loss_curve(epochs, mae_training, mae_validation):\n",
    "\n",
    "  plt.figure()\n",
    "  plt.xlabel(\"Epoch\")\n",
    "  plt.ylabel(\"Loss\")\n",
    "\n",
    "  plt.plot(epochs[1:], mae_training[1:], label=\"Training Loss\")\n",
    "  plt.plot(epochs[1:], mae_validation[1:], label=\"Validation Loss\")\n",
    "  plt.legend()\n",
    "  \n",
    "  # We're not going to plot the first epoch, since the loss on the first epoch\n",
    "  # is often substantially greater than the loss for other epochs.\n",
    "  merged_mae_lists = mae_training[1:] + mae_validation[1:]\n",
    "  highest_loss = max(merged_mae_lists)\n",
    "  lowest_loss = min(merged_mae_lists)\n",
    "  delta = highest_loss - lowest_loss\n",
    "  print(delta)\n",
    "\n",
    "  top_of_y_axis = highest_loss + (delta * 0.05)\n",
    "  bottom_of_y_axis = lowest_loss - (delta * 0.05)\n",
    "   \n",
    "  plt.ylim([bottom_of_y_axis, top_of_y_axis])\n",
    "  plt.show() "
   ]
  },
  {
   "cell_type": "code",
   "execution_count": 4,
   "id": "25134d06",
   "metadata": {},
   "outputs": [],
   "source": [
    "l_min = 1\n",
    "l_max = 1\n",
    "\n",
    "n_l = 1  # defined only one value for L, for now.\n",
    "\n",
    "q_min = 10 * 10 ** 4\n",
    "q_max = 100 * 10 ** 4\n",
    "\n",
    "n_q = 5\n",
    "\n",
    "E_min = 210 * 10 ** 9\n",
    "E_max = 300 * 10 ** 9\n",
    "n_E = 5\n",
    "\n",
    "I_min = 1 * 10 ** (-5)\n",
    "I_max = 10 * 10 ** (-5)\n",
    "\n",
    "n_I = 5\n",
    "\n",
    "# Will make the vectors linearly spaced, but it's not necessary\n",
    "l_vec = np.linspace(l_min, l_max, n_l)\n",
    "q_vec = np.linspace(q_min, q_max, n_q)\n",
    "E_vec = np.linspace(E_min, E_max, n_E)\n",
    "I_vec = np.linspace(I_min, I_max, n_I)"
   ]
  },
  {
   "cell_type": "code",
   "execution_count": 5,
   "id": "0d62b2b4",
   "metadata": {},
   "outputs": [],
   "source": [
    "# Compute all possible permutations and arrange them in a matrix\n",
    "\n",
    "per_list = []\n",
    "for i in range(len(l_vec)):\n",
    "    for j in range(len(q_vec)):\n",
    "        for k in range(len(E_vec)):\n",
    "            for l in range(len(I_vec)):\n",
    "                per_list = np.append(per_list, np.array([[l_vec[i], q_vec[j], E_vec[k], I_vec[l]]]))\n",
    "\n",
    "per_list = per_list.reshape(-1, 4)\n",
    "\n",
    "# Shuffle the permutations\n",
    "np.random.shuffle(per_list)\n",
    "\n",
    "np.save('125_combinations', per_list)  # saved as an .npy file to use later using np.load('125_combinations')"
   ]
  },
  {
   "cell_type": "code",
   "execution_count": 6,
   "id": "5c263575",
   "metadata": {},
   "outputs": [],
   "source": [
    "# analytical solution for the beam bending problem\n",
    "\n",
    "def ana_sol(n, l, q, E, I):\n",
    "    x_min = 0\n",
    "    x_max = l\n",
    "    x = np.linspace(x_min, x_max, n)\n",
    "    y = np.zeros(len(x))\n",
    "    c_1 = -(q * l ** 3) / (24 * E * I)\n",
    "    y = (1 / (E * I)) * (((q * l) / 12) * x ** 3 - (q / 24) * x ** 4) + c_1 * x\n",
    "\n",
    "    return [x, y]\n",
    "\n",
    "def ana_sol_with_noise(n, param_list,noise):\n",
    "    l=param_list[0]\n",
    "    q=param_list[1]\n",
    "    E=param_list[2]\n",
    "    I=param_list[3]\n",
    "    x_min = 0\n",
    "    x_max = l\n",
    "    x = np.linspace(x_min, x_max, n)\n",
    "    y = np.zeros(len(x))\n",
    "    c_1 = -(q * l ** 3) / (24 * E * I)\n",
    "    y = (1 / (E * I)) * (((q * l) / 12) * x ** 3 - (q / 24) * x ** 4) + c_1 * x\n",
    "    y = y + noise * (np.random.random(len(y)) - 0.5) * (np.max(y) - np.min(y))\n",
    "\n",
    "    return [x, y]"
   ]
  },
  {
   "cell_type": "code",
   "execution_count": null,
   "id": "6225b71c",
   "metadata": {},
   "outputs": [],
   "source": []
  },
  {
   "cell_type": "code",
   "execution_count": null,
   "id": "1a8d1b85",
   "metadata": {},
   "outputs": [],
   "source": []
  },
  {
   "cell_type": "code",
   "execution_count": 7,
   "id": "428f74a0",
   "metadata": {},
   "outputs": [],
   "source": [
    "#alternative way to generate fake data with noise\n",
    "n = 1000\n",
    "# Add noise\n",
    "noise_factor = 0.2\n",
    "#create dictionary with generated data\n",
    "fake_data = {}\n",
    "#dict keys: list of parameters values\n",
    "#dict values: (x,y) array \n",
    "for i in per_list:\n",
    "    fake_data[repr(i.tolist())] = ana_sol_with_noise(n, i, noise_factor)"
   ]
  },
  {
   "cell_type": "code",
   "execution_count": 8,
   "id": "fb0b2ecd",
   "metadata": {},
   "outputs": [
    {
     "data": {
      "text/html": [
       "<div>\n",
       "<style scoped>\n",
       "    .dataframe tbody tr th:only-of-type {\n",
       "        vertical-align: middle;\n",
       "    }\n",
       "\n",
       "    .dataframe tbody tr th {\n",
       "        vertical-align: top;\n",
       "    }\n",
       "\n",
       "    .dataframe thead th {\n",
       "        text-align: right;\n",
       "    }\n",
       "</style>\n",
       "<table border=\"1\" class=\"dataframe\">\n",
       "  <thead>\n",
       "    <tr style=\"text-align: right;\">\n",
       "      <th></th>\n",
       "      <th>x</th>\n",
       "      <th>y</th>\n",
       "      <th>l</th>\n",
       "      <th>q</th>\n",
       "      <th>E</th>\n",
       "      <th>I</th>\n",
       "    </tr>\n",
       "  </thead>\n",
       "  <tbody>\n",
       "    <tr>\n",
       "      <th>0</th>\n",
       "      <td>[0.0, 0.001001001001001001, 0.0020020020020020...</td>\n",
       "      <td>[0.00013451238206437988, 4.9755682304513446e-0...</td>\n",
       "      <td>1.0</td>\n",
       "      <td>325000.0</td>\n",
       "      <td>2.775000e+11</td>\n",
       "      <td>0.000010</td>\n",
       "    </tr>\n",
       "    <tr>\n",
       "      <th>1</th>\n",
       "      <td>[0.0, 0.001001001001001001, 0.0020020020020020...</td>\n",
       "      <td>[9.810139495072157e-05, 0.0004097058877013989,...</td>\n",
       "      <td>1.0</td>\n",
       "      <td>1000000.0</td>\n",
       "      <td>3.000000e+11</td>\n",
       "      <td>0.000010</td>\n",
       "    </tr>\n",
       "    <tr>\n",
       "      <th>2</th>\n",
       "      <td>[0.0, 0.001001001001001001, 0.0020020020020020...</td>\n",
       "      <td>[2.2304314541108175e-05, -6.34430518563096e-05...</td>\n",
       "      <td>1.0</td>\n",
       "      <td>550000.0</td>\n",
       "      <td>2.100000e+11</td>\n",
       "      <td>0.000055</td>\n",
       "    </tr>\n",
       "    <tr>\n",
       "      <th>3</th>\n",
       "      <td>[0.0, 0.001001001001001001, 0.0020020020020020...</td>\n",
       "      <td>[2.4945159613077813e-05, -1.1524755338355856e-...</td>\n",
       "      <td>1.0</td>\n",
       "      <td>325000.0</td>\n",
       "      <td>2.100000e+11</td>\n",
       "      <td>0.000077</td>\n",
       "    </tr>\n",
       "    <tr>\n",
       "      <th>4</th>\n",
       "      <td>[0.0, 0.001001001001001001, 0.0020020020020020...</td>\n",
       "      <td>[1.2913620792433909e-05, 5.95816651392349e-05,...</td>\n",
       "      <td>1.0</td>\n",
       "      <td>1000000.0</td>\n",
       "      <td>2.325000e+11</td>\n",
       "      <td>0.000077</td>\n",
       "    </tr>\n",
       "    <tr>\n",
       "      <th>...</th>\n",
       "      <td>...</td>\n",
       "      <td>...</td>\n",
       "      <td>...</td>\n",
       "      <td>...</td>\n",
       "      <td>...</td>\n",
       "      <td>...</td>\n",
       "    </tr>\n",
       "    <tr>\n",
       "      <th>120</th>\n",
       "      <td>[0.0, 0.001001001001001001, 0.0020020020020020...</td>\n",
       "      <td>[3.5416041291682476e-06, -4.472799740289019e-0...</td>\n",
       "      <td>1.0</td>\n",
       "      <td>100000.0</td>\n",
       "      <td>3.000000e+11</td>\n",
       "      <td>0.000100</td>\n",
       "    </tr>\n",
       "    <tr>\n",
       "      <th>121</th>\n",
       "      <td>[0.0, 0.001001001001001001, 0.0020020020020020...</td>\n",
       "      <td>[3.418501899980857e-06, 1.2233082625744945e-05...</td>\n",
       "      <td>1.0</td>\n",
       "      <td>325000.0</td>\n",
       "      <td>3.000000e+11</td>\n",
       "      <td>0.000100</td>\n",
       "    </tr>\n",
       "    <tr>\n",
       "      <th>122</th>\n",
       "      <td>[0.0, 0.001001001001001001, 0.0020020020020020...</td>\n",
       "      <td>[-1.8011296653376174e-05, 4.785212020260561e-0...</td>\n",
       "      <td>1.0</td>\n",
       "      <td>1000000.0</td>\n",
       "      <td>2.775000e+11</td>\n",
       "      <td>0.000077</td>\n",
       "    </tr>\n",
       "    <tr>\n",
       "      <th>123</th>\n",
       "      <td>[0.0, 0.001001001001001001, 0.0020020020020020...</td>\n",
       "      <td>[-3.906800551014844e-06, 2.367469409210811e-06...</td>\n",
       "      <td>1.0</td>\n",
       "      <td>100000.0</td>\n",
       "      <td>2.775000e+11</td>\n",
       "      <td>0.000077</td>\n",
       "    </tr>\n",
       "    <tr>\n",
       "      <th>124</th>\n",
       "      <td>[0.0, 0.001001001001001001, 0.0020020020020020...</td>\n",
       "      <td>[-5.3556328533585556e-05, 4.3317653783475246e-...</td>\n",
       "      <td>1.0</td>\n",
       "      <td>1000000.0</td>\n",
       "      <td>2.100000e+11</td>\n",
       "      <td>0.000100</td>\n",
       "    </tr>\n",
       "  </tbody>\n",
       "</table>\n",
       "<p>125 rows × 6 columns</p>\n",
       "</div>"
      ],
      "text/plain": [
       "                                                     x  \\\n",
       "0    [0.0, 0.001001001001001001, 0.0020020020020020...   \n",
       "1    [0.0, 0.001001001001001001, 0.0020020020020020...   \n",
       "2    [0.0, 0.001001001001001001, 0.0020020020020020...   \n",
       "3    [0.0, 0.001001001001001001, 0.0020020020020020...   \n",
       "4    [0.0, 0.001001001001001001, 0.0020020020020020...   \n",
       "..                                                 ...   \n",
       "120  [0.0, 0.001001001001001001, 0.0020020020020020...   \n",
       "121  [0.0, 0.001001001001001001, 0.0020020020020020...   \n",
       "122  [0.0, 0.001001001001001001, 0.0020020020020020...   \n",
       "123  [0.0, 0.001001001001001001, 0.0020020020020020...   \n",
       "124  [0.0, 0.001001001001001001, 0.0020020020020020...   \n",
       "\n",
       "                                                     y    l          q  \\\n",
       "0    [0.00013451238206437988, 4.9755682304513446e-0...  1.0   325000.0   \n",
       "1    [9.810139495072157e-05, 0.0004097058877013989,...  1.0  1000000.0   \n",
       "2    [2.2304314541108175e-05, -6.34430518563096e-05...  1.0   550000.0   \n",
       "3    [2.4945159613077813e-05, -1.1524755338355856e-...  1.0   325000.0   \n",
       "4    [1.2913620792433909e-05, 5.95816651392349e-05,...  1.0  1000000.0   \n",
       "..                                                 ...  ...        ...   \n",
       "120  [3.5416041291682476e-06, -4.472799740289019e-0...  1.0   100000.0   \n",
       "121  [3.418501899980857e-06, 1.2233082625744945e-05...  1.0   325000.0   \n",
       "122  [-1.8011296653376174e-05, 4.785212020260561e-0...  1.0  1000000.0   \n",
       "123  [-3.906800551014844e-06, 2.367469409210811e-06...  1.0   100000.0   \n",
       "124  [-5.3556328533585556e-05, 4.3317653783475246e-...  1.0  1000000.0   \n",
       "\n",
       "                E         I  \n",
       "0    2.775000e+11  0.000010  \n",
       "1    3.000000e+11  0.000010  \n",
       "2    2.100000e+11  0.000055  \n",
       "3    2.100000e+11  0.000077  \n",
       "4    2.325000e+11  0.000077  \n",
       "..            ...       ...  \n",
       "120  3.000000e+11  0.000100  \n",
       "121  3.000000e+11  0.000100  \n",
       "122  2.775000e+11  0.000077  \n",
       "123  2.775000e+11  0.000077  \n",
       "124  2.100000e+11  0.000100  \n",
       "\n",
       "[125 rows x 6 columns]"
      ]
     },
     "execution_count": 8,
     "metadata": {},
     "output_type": "execute_result"
    }
   ],
   "source": [
    "#for each entry combination of (l,q,E,I) we have two columns of fake data: both x and noisy y \n",
    "fake_dataframe=pd.DataFrame.from_dict(fake_data,orient='index',columns=['x', 'y'])\n",
    "#I will now dstructure the data in such a way that we are able to immediatly assess \n",
    "# which entry combination of (l,q,E,I) gives a specific (x,Y)\n",
    "#let's clean a little\n",
    "fake_dataframe=fake_dataframe.rename_axis('parameters').reset_index()\n",
    "fake_dataframe.parameters=[eval(fake_dataframe.parameters[i]) for i in range(len(fake_dataframe))]\n",
    "fake_dataframe[['l','q','E','I']] = pd.DataFrame(fake_dataframe.parameters.tolist(), index= fake_dataframe.index)\n",
    "fake_dataframe=fake_dataframe.drop(columns='parameters')\n",
    "#let's see an example of structured data\n",
    "fake_dataframe"
   ]
  },
  {
   "cell_type": "code",
   "execution_count": 9,
   "id": "4d65beeb",
   "metadata": {},
   "outputs": [
    {
     "data": {
      "image/png": "[encoded data removed]",
      "text/plain": [
       "<Figure size 432x288 with 1 Axes>"
      ]
     },
     "metadata": {
      "needs_background": "light"
     },
     "output_type": "display_data"
    }
   ],
   "source": [
    "#plot the 1st entry of the dataframe\n",
    "plt.scatter(fake_dataframe['x'][1],fake_dataframe['y'][1],label=str(fake_dataframe.index[1]))\n",
    "plt.show()"
   ]
  },
  {
   "cell_type": "code",
   "execution_count": null,
   "id": "192bc709",
   "metadata": {},
   "outputs": [],
   "source": []
  },
  {
   "cell_type": "code",
   "execution_count": 10,
   "id": "feca0f09",
   "metadata": {},
   "outputs": [],
   "source": [
    "#with the dataset organized is much easier to split the data.\n",
    "#https://stackoverflow.com/questions/38250710/how-to-split-data-into-3-sets-train-validation-and-test\n",
    "#let's take a look at an example \n",
    "test_split=0.1 #we will use 10% of the data for testing. \n",
    "df = fake_dataframe\n",
    "train_df, test_df = train_test_split(df, test_size = test_split)"
   ]
  },
  {
   "cell_type": "code",
   "execution_count": 11,
   "id": "7a096150",
   "metadata": {},
   "outputs": [
    {
     "name": "stdout",
     "output_type": "stream",
     "text": [
      "Training set:  (112, 6)\n",
      "Test set:  (13, 6)\n"
     ]
    }
   ],
   "source": [
    "#the training data will be spllited automatically by 80/20 during training using keras framework. \n",
    "# no need to split at this stage.\n",
    "#let's check the array shapes: \n",
    "print('Training set: ',train_df.shape)\n",
    "print('Test set: ',test_df.shape)\n",
    "\n",
    "train_size = train_df.shape[0]\n",
    "test_size = test_df.shape[0]"
   ]
  },
  {
   "cell_type": "code",
   "execution_count": 12,
   "id": "1ed9443c",
   "metadata": {},
   "outputs": [
    {
     "name": "stderr",
     "output_type": "stream",
     "text": [
      "C:\\Users\\luisf\\.conda\\envs\\tf\\lib\\site-packages\\seaborn\\distributions.py:306: UserWarning: Dataset has 0 variance; skipping density estimate.\n",
      "  warnings.warn(msg, UserWarning)\n"
     ]
    },
    {
     "data": {
      "text/plain": [
       "<seaborn.axisgrid.PairGrid at 0x229bdfd5490>"
      ]
     },
     "execution_count": 12,
     "metadata": {},
     "output_type": "execute_result"
    },
    {
     "data": {
      "image/png": "[encoded data removed]",
      "text/plain": [
       "<Figure size 720x720 with 20 Axes>"
      ]
     },
     "metadata": {
      "needs_background": "light"
     },
     "output_type": "display_data"
    }
   ],
   "source": [
    "#inspect the training dataset\n",
    "sns.pairplot(train_df[['l', 'q', 'E', 'I']], diag_kind='kde')"
   ]
  },
  {
   "cell_type": "code",
   "execution_count": 13,
   "id": "ebe60d1f",
   "metadata": {},
   "outputs": [
    {
     "data": {
      "text/html": [
       "<div>\n",
       "<style scoped>\n",
       "    .dataframe tbody tr th:only-of-type {\n",
       "        vertical-align: middle;\n",
       "    }\n",
       "\n",
       "    .dataframe tbody tr th {\n",
       "        vertical-align: top;\n",
       "    }\n",
       "\n",
       "    .dataframe thead th {\n",
       "        text-align: right;\n",
       "    }\n",
       "</style>\n",
       "<table border=\"1\" class=\"dataframe\">\n",
       "  <thead>\n",
       "    <tr style=\"text-align: right;\">\n",
       "      <th></th>\n",
       "      <th>count</th>\n",
       "      <th>mean</th>\n",
       "      <th>std</th>\n",
       "      <th>min</th>\n",
       "      <th>25%</th>\n",
       "      <th>50%</th>\n",
       "      <th>75%</th>\n",
       "      <th>max</th>\n",
       "    </tr>\n",
       "  </thead>\n",
       "  <tbody>\n",
       "    <tr>\n",
       "      <th>l</th>\n",
       "      <td>112.0</td>\n",
       "      <td>1.000000e+00</td>\n",
       "      <td>0.000000e+00</td>\n",
       "      <td>1.000000e+00</td>\n",
       "      <td>1.000000e+00</td>\n",
       "      <td>1.000000e+00</td>\n",
       "      <td>1.000000e+00</td>\n",
       "      <td>1.000000e+00</td>\n",
       "    </tr>\n",
       "    <tr>\n",
       "      <th>q</th>\n",
       "      <td>112.0</td>\n",
       "      <td>5.600446e+05</td>\n",
       "      <td>3.173202e+05</td>\n",
       "      <td>1.000000e+05</td>\n",
       "      <td>3.250000e+05</td>\n",
       "      <td>5.500000e+05</td>\n",
       "      <td>7.750000e+05</td>\n",
       "      <td>1.000000e+06</td>\n",
       "    </tr>\n",
       "    <tr>\n",
       "      <th>E</th>\n",
       "      <td>112.0</td>\n",
       "      <td>2.560045e+11</td>\n",
       "      <td>3.201819e+10</td>\n",
       "      <td>2.100000e+11</td>\n",
       "      <td>2.325000e+11</td>\n",
       "      <td>2.550000e+11</td>\n",
       "      <td>2.775000e+11</td>\n",
       "      <td>3.000000e+11</td>\n",
       "    </tr>\n",
       "    <tr>\n",
       "      <th>I</th>\n",
       "      <td>112.0</td>\n",
       "      <td>5.500000e-05</td>\n",
       "      <td>3.153184e-05</td>\n",
       "      <td>1.000000e-05</td>\n",
       "      <td>3.250000e-05</td>\n",
       "      <td>5.500000e-05</td>\n",
       "      <td>7.750000e-05</td>\n",
       "      <td>1.000000e-04</td>\n",
       "    </tr>\n",
       "  </tbody>\n",
       "</table>\n",
       "</div>"
      ],
      "text/plain": [
       "   count          mean           std           min           25%  \\\n",
       "l  112.0  1.000000e+00  0.000000e+00  1.000000e+00  1.000000e+00   \n",
       "q  112.0  5.600446e+05  3.173202e+05  1.000000e+05  3.250000e+05   \n",
       "E  112.0  2.560045e+11  3.201819e+10  2.100000e+11  2.325000e+11   \n",
       "I  112.0  5.500000e-05  3.153184e-05  1.000000e-05  3.250000e-05   \n",
       "\n",
       "            50%           75%           max  \n",
       "l  1.000000e+00  1.000000e+00  1.000000e+00  \n",
       "q  5.500000e+05  7.750000e+05  1.000000e+06  \n",
       "E  2.550000e+11  2.775000e+11  3.000000e+11  \n",
       "I  5.500000e-05  7.750000e-05  1.000000e-04  "
      ]
     },
     "execution_count": 13,
     "metadata": {},
     "output_type": "execute_result"
    }
   ],
   "source": [
    "train_df.describe().transpose()"
   ]
  },
  {
   "cell_type": "code",
   "execution_count": 14,
   "id": "c1f36898",
   "metadata": {},
   "outputs": [],
   "source": [
    "# follow this tutorial for our data \n",
    "# https://www.tensorflow.org/tutorials/keras/regression\n",
    "# whenever possible, add comments and discussion"
   ]
  },
  {
   "cell_type": "code",
   "execution_count": null,
   "id": "fb9ed742",
   "metadata": {},
   "outputs": [],
   "source": []
  },
  {
   "cell_type": "code",
   "execution_count": 15,
   "id": "ebc012d2",
   "metadata": {},
   "outputs": [
    {
     "data": {
      "text/plain": [
       "0     -0.001670\n",
       "1     -0.004761\n",
       "2     -0.000680\n",
       "3     -0.000285\n",
       "4     -0.000793\n",
       "         ...   \n",
       "120   -0.000048\n",
       "121   -0.000155\n",
       "122   -0.000662\n",
       "123   -0.000066\n",
       "124   -0.000681\n",
       "Name: y, Length: 125, dtype: float64"
      ]
     },
     "execution_count": 15,
     "metadata": {},
     "output_type": "execute_result"
    }
   ],
   "source": [
    "# get the max \"y\" for each entry\n",
    "df.y.apply(min)\n",
    "# at this point we could plot very interesting stuff such as ymax distributions on the vars (q,l,E,I)...\n",
    "# but let's think about that later"
   ]
  },
  {
   "cell_type": "code",
   "execution_count": 16,
   "id": "27a529e5",
   "metadata": {},
   "outputs": [],
   "source": [
    "# I have fixed the value of L as 1.0 for now, so I am not using the values of [x,y] as inputs, only the values of y."
   ]
  },
  {
   "cell_type": "code",
   "execution_count": 17,
   "id": "ee5a9503",
   "metadata": {},
   "outputs": [],
   "source": [
    "# Allocate the features and the labels in different DataFrames.\n",
    "\n",
    "train_features = train_df.copy()\n",
    "test_features = test_df.copy()\n",
    "\n",
    "train_labels = pd.DataFrame([train_features.pop('l'), train_features.pop('q'), train_features.pop('E'), train_features.pop('I')])\n",
    "train_labels = train_labels.T\n",
    "test_labels = pd.DataFrame([test_features.pop('l'), test_features.pop('q'), test_features.pop('E'), test_features.pop('I')])\n",
    "test_labels = test_labels.T"
   ]
  },
  {
   "cell_type": "code",
   "execution_count": 18,
   "id": "c6e6a2fd",
   "metadata": {},
   "outputs": [],
   "source": [
    "feature_columns = []\n",
    "# x_col = tf.feature_column.numeric_column(\"x\")\n",
    "# feature_columns.append(x_col)\n",
    "y_col = tf.feature_column.numeric_column(\"y\")\n",
    "feature_columns.append(y_col)\n",
    "\n",
    "my_feature_layer = tf.keras.layers.DenseFeatures(feature_columns)"
   ]
  },
  {
   "cell_type": "code",
   "execution_count": 19,
   "id": "9fbf1696",
   "metadata": {},
   "outputs": [],
   "source": [
    "# Build the model and define its architecture."
   ]
  },
  {
   "cell_type": "code",
   "execution_count": 20,
   "id": "0c863d30",
   "metadata": {},
   "outputs": [],
   "source": [
    "inputs = keras.Input(shape=(1000))"
   ]
  },
  {
   "cell_type": "code",
   "execution_count": 21,
   "id": "a610a710",
   "metadata": {},
   "outputs": [],
   "source": [
    "dense = layers.Dense(256, activation=\"relu\")\n",
    "x = dense(inputs)"
   ]
  },
  {
   "cell_type": "code",
   "execution_count": 22,
   "id": "936026cb",
   "metadata": {},
   "outputs": [],
   "source": [
    "x = layers.Dense(256, activation=\"relu\")(x)\n",
    "outputs = layers.Dense(4)(x)"
   ]
  },
  {
   "cell_type": "code",
   "execution_count": 23,
   "id": "1b34651d",
   "metadata": {},
   "outputs": [],
   "source": [
    "model = keras.Model(inputs=inputs, outputs=outputs, name=\"model\")"
   ]
  },
  {
   "cell_type": "code",
   "execution_count": 24,
   "id": "179c192f",
   "metadata": {},
   "outputs": [
    {
     "name": "stdout",
     "output_type": "stream",
     "text": [
      "Model: \"model\"\n",
      "_________________________________________________________________\n",
      "Layer (type)                 Output Shape              Param #   \n",
      "=================================================================\n",
      "input_1 (InputLayer)         [(None, 1000)]            0         \n",
      "_________________________________________________________________\n",
      "dense (Dense)                (None, 256)               256256    \n",
      "_________________________________________________________________\n",
      "dense_1 (Dense)              (None, 256)               65792     \n",
      "_________________________________________________________________\n",
      "dense_2 (Dense)              (None, 4)                 1028      \n",
      "=================================================================\n",
      "Total params: 323,076\n",
      "Trainable params: 323,076\n",
      "Non-trainable params: 0\n",
      "_________________________________________________________________\n"
     ]
    }
   ],
   "source": [
    "model.summary()"
   ]
  },
  {
   "cell_type": "code",
   "execution_count": 34,
   "id": "8aebd143",
   "metadata": {},
   "outputs": [],
   "source": [
    "# Set the hyperparameters\n",
    "\n",
    "validation_split=0.2\n",
    "learning_rate = 0.2\n",
    "batch_size = 10\n",
    "epochs = 100"
   ]
  },
  {
   "cell_type": "code",
   "execution_count": 35,
   "id": "99ec666d",
   "metadata": {},
   "outputs": [],
   "source": [
    "model.compile(\n",
    "    loss=\"mean_squared_error\",\n",
    "    optimizer=tf.keras.optimizers.Adam(learning_rate=learning_rate),\n",
    ")\n",
    "\n",
    "# Still need to find what's the best loss function for our model."
   ]
  },
  {
   "cell_type": "code",
   "execution_count": 36,
   "id": "39776b9c",
   "metadata": {},
   "outputs": [],
   "source": [
    "# For some reason I had to manually convert the data into tensors.\n",
    "\n",
    "tf_train_features = tf.constant([train_features['y']], shape=(train_size,n))\n",
    "\n",
    "tf_train_labels = tf.constant([np.array(train_labels)], shape=(train_size,4))\n",
    "\n",
    "tf_test_features = tf.constant([test_features['y']], shape=(test_size,n))\n",
    "\n",
    "tf_test_labels = tf.constant([np.array(test_labels)], shape=(test_size,4))"
   ]
  },
  {
   "cell_type": "code",
   "execution_count": 37,
   "id": "8addf91f",
   "metadata": {},
   "outputs": [
    {
     "name": "stdout",
     "output_type": "stream",
     "text": [
      "Epoch 1/100\n",
      "9/9 [==============================] - 1s 35ms/step - loss: 575901180049722703872.0000 - val_loss: 359595717668791910400.0000\n",
      "Epoch 2/100\n",
      "9/9 [==============================] - 0s 15ms/step - loss: 561858006433535098880.0000 - val_loss: 343953871738004045824.0000\n",
      "Epoch 3/100\n",
      "9/9 [==============================] - 0s 13ms/step - loss: 551343825337857343488.0000 - val_loss: 332823823393283375104.0000\n",
      "Epoch 4/100\n",
      "9/9 [==============================] - 0s 13ms/step - loss: 540417529691903098880.0000 - val_loss: 324296855633182851072.0000\n",
      "Epoch 5/100\n",
      "9/9 [==============================] - 0s 14ms/step - loss: 530413275700908785664.0000 - val_loss: 314344428222275387392.0000\n",
      "Epoch 6/100\n",
      "9/9 [==============================] - 0s 14ms/step - loss: 521620384456560869376.0000 - val_loss: 308461073443441344512.0000\n",
      "Epoch 7/100\n",
      "9/9 [==============================] - 0s 14ms/step - loss: 511122951121997398016.0000 - val_loss: 302128871629870071808.0000\n",
      "Epoch 8/100\n",
      "9/9 [==============================] - 0s 12ms/step - loss: 503563870253688553472.0000 - val_loss: 297701551721188163584.0000\n",
      "Epoch 9/100\n",
      "9/9 [==============================] - 0s 12ms/step - loss: 493227335052687310848.0000 - val_loss: 289967973959504756736.0000\n",
      "Epoch 10/100\n",
      "9/9 [==============================] - 0s 13ms/step - loss: 485059951575334649856.0000 - val_loss: 283608891285657616384.0000\n",
      "Epoch 11/100\n",
      "9/9 [==============================] - 0s 12ms/step - loss: 476576893911600988160.0000 - val_loss: 279258308492501450752.0000\n",
      "Epoch 12/100\n",
      "9/9 [==============================] - 0s 14ms/step - loss: 468621038879246385152.0000 - val_loss: 273403417870687272960.0000\n",
      "Epoch 13/100\n",
      "9/9 [==============================] - 0s 12ms/step - loss: 461082118656144441344.0000 - val_loss: 269487326888456093696.0000\n",
      "Epoch 14/100\n",
      "9/9 [==============================] - 0s 13ms/step - loss: 454043238729168977920.0000 - val_loss: 267036823333399166976.0000\n",
      "Epoch 15/100\n",
      "9/9 [==============================] - 0s 15ms/step - loss: 445225401765010079744.0000 - val_loss: 263426607689922248704.0000\n",
      "Epoch 16/100\n",
      "9/9 [==============================] - 0s 15ms/step - loss: 439357422556778856448.0000 - val_loss: 261662181798411501568.0000\n",
      "Epoch 17/100\n",
      "9/9 [==============================] - 0s 14ms/step - loss: 432023064273001381888.0000 - val_loss: 258153508252782952448.0000\n",
      "Epoch 18/100\n",
      "9/9 [==============================] - 0s 13ms/step - loss: 424872825808364765184.0000 - val_loss: 251848222483859636224.0000\n",
      "Epoch 19/100\n",
      "9/9 [==============================] - 0s 13ms/step - loss: 418471064491173871616.0000 - val_loss: 248223211811919364096.0000\n",
      "Epoch 20/100\n",
      "9/9 [==============================] - 0s 15ms/step - loss: 412705894018186215424.0000 - val_loss: 242584159720684126208.0000\n",
      "Epoch 21/100\n",
      "9/9 [==============================] - 0s 15ms/step - loss: 406031453817306873856.0000 - val_loss: 239435123234361573376.0000\n",
      "Epoch 22/100\n",
      "9/9 [==============================] - 0s 15ms/step - loss: 402102766829867892736.0000 - val_loss: 237879639736500355072.0000\n",
      "Epoch 23/100\n",
      "9/9 [==============================] - 0s 14ms/step - loss: 394160141121418690560.0000 - val_loss: 234081891389789962240.0000\n",
      "Epoch 24/100\n",
      "9/9 [==============================] - 0s 14ms/step - loss: 389455040595095453696.0000 - val_loss: 230303705553960960000.0000\n",
      "Epoch 25/100\n",
      "9/9 [==============================] - 0s 15ms/step - loss: 384306018846127423488.0000 - val_loss: 228339801864892579840.0000\n",
      "Epoch 26/100\n",
      "9/9 [==============================] - 0s 9ms/step - loss: 378502814066911739904.0000 - val_loss: 225036798566309298176.0000\n",
      "Epoch 27/100\n",
      "9/9 [==============================] - 0s 15ms/step - loss: 374284841172158382080.0000 - val_loss: 222953707816789999616.0000\n",
      "Epoch 28/100\n",
      "9/9 [==============================] - 0s 15ms/step - loss: 368637714267528757248.0000 - val_loss: 219746722669637140480.0000\n",
      "Epoch 29/100\n",
      "9/9 [==============================] - 0s 14ms/step - loss: 364736119246598176768.0000 - val_loss: 216804095302173720576.0000\n",
      "Epoch 30/100\n",
      "9/9 [==============================] - 0s 14ms/step - loss: 359908999317870870528.0000 - val_loss: 214563765593789431808.0000\n",
      "Epoch 31/100\n",
      "9/9 [==============================] - 0s 13ms/step - loss: 356007158006335668224.0000 - val_loss: 210601266424773083136.0000\n",
      "Epoch 32/100\n",
      "9/9 [==============================] - 0s 14ms/step - loss: 353369104155859222528.0000 - val_loss: 212024896488231403520.0000\n",
      "Epoch 33/100\n",
      "9/9 [==============================] - 0s 15ms/step - loss: 347995113531755200512.0000 - val_loss: 207240560755964116992.0000\n",
      "Epoch 34/100\n",
      "9/9 [==============================] - 0s 14ms/step - loss: 343628310743066083328.0000 - val_loss: 206063749062708953088.0000\n",
      "Epoch 35/100\n",
      "9/9 [==============================] - 0s 14ms/step - loss: 340325694472575778816.0000 - val_loss: 203054500086695329792.0000\n",
      "Epoch 36/100\n",
      "9/9 [==============================] - 0s 12ms/step - loss: 336569446092744163328.0000 - val_loss: 201847271503769370624.0000\n",
      "Epoch 37/100\n",
      "9/9 [==============================] - 0s 14ms/step - loss: 333463440093486252032.0000 - val_loss: 199442331710567481344.0000\n",
      "Epoch 38/100\n",
      "9/9 [==============================] - 0s 14ms/step - loss: 331042016421960744960.0000 - val_loss: 201010798241729478656.0000\n",
      "Epoch 39/100\n",
      "9/9 [==============================] - 0s 15ms/step - loss: 327301741747057459200.0000 - val_loss: 197541372863166021632.0000\n",
      "Epoch 40/100\n",
      "9/9 [==============================] - 0s 15ms/step - loss: 324376794526568677376.0000 - val_loss: 194862628286368841728.0000\n",
      "Epoch 41/100\n",
      "9/9 [==============================] - 0s 14ms/step - loss: 321935737975417602048.0000 - val_loss: 194341917171640172544.0000\n",
      "Epoch 42/100\n",
      "9/9 [==============================] - 0s 15ms/step - loss: 318390138431281823744.0000 - val_loss: 192298549578209165312.0000\n",
      "Epoch 43/100\n",
      "9/9 [==============================] - 0s 14ms/step - loss: 315992569764032544768.0000 - val_loss: 190750525167230779392.0000\n",
      "Epoch 44/100\n",
      "9/9 [==============================] - 0s 15ms/step - loss: 313618398704222339072.0000 - val_loss: 189703983611634515968.0000\n",
      "Epoch 45/100\n",
      "9/9 [==============================] - 0s 15ms/step - loss: 311048391429365694464.0000 - val_loss: 187706179780058546176.0000\n",
      "Epoch 46/100\n",
      "9/9 [==============================] - 0s 15ms/step - loss: 309359647122218024960.0000 - val_loss: 187061215055298166784.0000\n",
      "Epoch 47/100\n",
      "9/9 [==============================] - 0s 14ms/step - loss: 307043600645098569728.0000 - val_loss: 183989355489152466944.0000\n",
      "Epoch 48/100\n",
      "9/9 [==============================] - 0s 14ms/step - loss: 304883561673820995584.0000 - val_loss: 183607675420732817408.0000\n",
      "Epoch 49/100\n",
      "9/9 [==============================] - 0s 16ms/step - loss: 303437659902830444544.0000 - val_loss: 183437453428567048192.0000\n",
      "Epoch 50/100\n",
      "9/9 [==============================] - 0s 15ms/step - loss: 301185332323563864064.0000 - val_loss: 181415741816156717056.0000\n",
      "Epoch 51/100\n",
      "9/9 [==============================] - 0s 11ms/step - loss: 299177676867803021312.0000 - val_loss: 180158393095190216704.0000\n",
      "Epoch 52/100\n",
      "9/9 [==============================] - 0s 14ms/step - loss: 297815795377360601088.0000 - val_loss: 180054335314737496064.0000\n",
      "Epoch 53/100\n",
      "9/9 [==============================] - 0s 13ms/step - loss: 296426505261060980736.0000 - val_loss: 179091690894387052544.0000\n",
      "Epoch 54/100\n",
      "9/9 [==============================] - 0s 12ms/step - loss: 294554397598772363264.0000 - val_loss: 178089323317948317696.0000\n",
      "Epoch 55/100\n",
      "9/9 [==============================] - 0s 14ms/step - loss: 293364901939379175424.0000 - val_loss: 176861758167955013632.0000\n",
      "Epoch 56/100\n",
      "9/9 [==============================] - 0s 13ms/step - loss: 292356025254104006656.0000 - val_loss: 175840179924355776512.0000\n",
      "Epoch 57/100\n",
      "9/9 [==============================] - 0s 12ms/step - loss: 290839191788982370304.0000 - val_loss: 175978771166013685760.0000\n",
      "Epoch 58/100\n",
      "9/9 [==============================] - 0s 13ms/step - loss: 289454088612961320960.0000 - val_loss: 174996106837944696832.0000\n",
      "Epoch 59/100\n",
      "9/9 [==============================] - 0s 12ms/step - loss: 288151492789488582656.0000 - val_loss: 173873936474543489024.0000\n",
      "Epoch 60/100\n"
     ]
    },
    {
     "name": "stdout",
     "output_type": "stream",
     "text": [
      "9/9 [==============================] - 0s 13ms/step - loss: 287508938194216288256.0000 - val_loss: 174049928703731826688.0000\n",
      "Epoch 61/100\n",
      "9/9 [==============================] - 0s 15ms/step - loss: 286654907930504069120.0000 - val_loss: 172033758629925486592.0000\n",
      "Epoch 62/100\n",
      "9/9 [==============================] - 0s 14ms/step - loss: 285317356433361076224.0000 - val_loss: 171633958609880088576.0000\n",
      "Epoch 63/100\n",
      "9/9 [==============================] - 0s 13ms/step - loss: 284655151366277169152.0000 - val_loss: 170817804322721497088.0000\n",
      "Epoch 64/100\n",
      "9/9 [==============================] - 0s 12ms/step - loss: 283540932670968037376.0000 - val_loss: 170802850964583743488.0000\n",
      "Epoch 65/100\n",
      "9/9 [==============================] - 0s 15ms/step - loss: 283132917100039897088.0000 - val_loss: 169936189511291633664.0000\n",
      "Epoch 66/100\n",
      "9/9 [==============================] - 0s 14ms/step - loss: 282421031699566559232.0000 - val_loss: 171606215732488044544.0000\n",
      "Epoch 67/100\n",
      "9/9 [==============================] - 0s 13ms/step - loss: 281369370817831370752.0000 - val_loss: 171198939033373769728.0000\n",
      "Epoch 68/100\n",
      "9/9 [==============================] - 0s 12ms/step - loss: 281170473562413203456.0000 - val_loss: 169294021944112316416.0000\n",
      "Epoch 69/100\n",
      "9/9 [==============================] - 0s 16ms/step - loss: 280373213283066314752.0000 - val_loss: 170331749814500327424.0000\n",
      "Epoch 70/100\n",
      "9/9 [==============================] - 0s 15ms/step - loss: 279660184390500089856.0000 - val_loss: 169070196561069211648.0000\n",
      "Epoch 71/100\n",
      "9/9 [==============================] - 0s 14ms/step - loss: 279050368853456453632.0000 - val_loss: 169058251466745053184.0000\n",
      "Epoch 72/100\n",
      "9/9 [==============================] - 0s 13ms/step - loss: 278743033363260506112.0000 - val_loss: 169139316260037722112.0000\n",
      "Epoch 73/100\n",
      "9/9 [==============================] - 0s 13ms/step - loss: 278720849616658497536.0000 - val_loss: 167242931381007810560.0000\n",
      "Epoch 74/100\n",
      "9/9 [==============================] - 0s 13ms/step - loss: 277580858368794296320.0000 - val_loss: 167160881425296654336.0000\n",
      "Epoch 75/100\n",
      "9/9 [==============================] - 0s 12ms/step - loss: 277297201961014132736.0000 - val_loss: 167523280457811623936.0000\n",
      "Epoch 76/100\n",
      "9/9 [==============================] - 0s 14ms/step - loss: 277498913966199406592.0000 - val_loss: 168191924264987787264.0000\n",
      "Epoch 77/100\n",
      "9/9 [==============================] - 0s 15ms/step - loss: 276720160666571243520.0000 - val_loss: 166723803563023138816.0000\n",
      "Epoch 78/100\n",
      "9/9 [==============================] - 0s 15ms/step - loss: 276377324144937664512.0000 - val_loss: 167021005954057502720.0000\n",
      "Epoch 79/100\n",
      "9/9 [==============================] - 0s 14ms/step - loss: 276083517045809872896.0000 - val_loss: 165660531838498635776.0000\n",
      "Epoch 80/100\n",
      "9/9 [==============================] - 0s 13ms/step - loss: 275813389029097865216.0000 - val_loss: 164745315951723937792.0000\n",
      "Epoch 81/100\n",
      "9/9 [==============================] - 0s 15ms/step - loss: 275390736759380770816.0000 - val_loss: 165142107707955740672.0000\n",
      "Epoch 82/100\n",
      "9/9 [==============================] - 0s 14ms/step - loss: 275636939403072372736.0000 - val_loss: 165740963313093705728.0000\n",
      "Epoch 83/100\n",
      "9/9 [==============================] - 0s 14ms/step - loss: 275451992751187427328.0000 - val_loss: 164353819443491504128.0000\n",
      "Epoch 84/100\n",
      "9/9 [==============================] - 0s 14ms/step - loss: 274925177147901345792.0000 - val_loss: 165513988928748650496.0000\n",
      "Epoch 85/100\n",
      "9/9 [==============================] - 0s 18ms/step - loss: 274688157625324929024.0000 - val_loss: 165462355862708289536.0000\n",
      "Epoch 86/100\n",
      "9/9 [==============================] - 0s 16ms/step - loss: 274524057713902616576.0000 - val_loss: 165750445501371645952.0000\n",
      "Epoch 87/100\n",
      "9/9 [==============================] - 0s 13ms/step - loss: 275149336782479294464.0000 - val_loss: 163967055233305018368.0000\n",
      "Epoch 88/100\n",
      "9/9 [==============================] - 0s 15ms/step - loss: 274074577360467787776.0000 - val_loss: 164248829277178429440.0000\n",
      "Epoch 89/100\n",
      "9/9 [==============================] - 0s 14ms/step - loss: 273889472378908442624.0000 - val_loss: 164277346210756427776.0000\n",
      "Epoch 90/100\n",
      "9/9 [==============================] - 0s 17ms/step - loss: 273790322818362114048.0000 - val_loss: 164358446188421185536.0000\n",
      "Epoch 91/100\n",
      "9/9 [==============================] - 0s 14ms/step - loss: 273821003590823575552.0000 - val_loss: 165282528536962269184.0000\n",
      "Epoch 92/100\n",
      "9/9 [==============================] - 0s 11ms/step - loss: 273572179711411355648.0000 - val_loss: 165086868243776274432.0000\n",
      "Epoch 93/100\n",
      "9/9 [==============================] - 0s 15ms/step - loss: 273669270986190487552.0000 - val_loss: 163995519390324883456.0000\n",
      "Epoch 94/100\n",
      "9/9 [==============================] - 0s 13ms/step - loss: 273556628218948091904.0000 - val_loss: 163545177019773878272.0000\n",
      "Epoch 95/100\n",
      "9/9 [==============================] - 0s 13ms/step - loss: 273307364534884761600.0000 - val_loss: 163771043096398135296.0000\n",
      "Epoch 96/100\n",
      "9/9 [==============================] - 0s 13ms/step - loss: 273536573126857457664.0000 - val_loss: 164441692412783362048.0000\n",
      "Epoch 97/100\n",
      "9/9 [==============================] - 0s 13ms/step - loss: 273391244077944537088.0000 - val_loss: 163834990692669587456.0000\n",
      "Epoch 98/100\n",
      "9/9 [==============================] - 0s 15ms/step - loss: 273077768914819088384.0000 - val_loss: 163616161490463096832.0000\n",
      "Epoch 99/100\n",
      "9/9 [==============================] - 0s 13ms/step - loss: 272988013581620477952.0000 - val_loss: 162980995613329457152.0000\n",
      "Epoch 100/100\n",
      "9/9 [==============================] - 0s 15ms/step - loss: 273230398720940441600.0000 - val_loss: 162311085168758095872.0000\n",
      "4/4 - 0s - loss: 250097958302114643968.0000\n",
      "Test loss: 2.5009795830211464e+20\n"
     ]
    }
   ],
   "source": [
    "history = model.fit(tf_train_features, tf_train_labels, batch_size=batch_size, epochs=epochs, validation_split=validation_split)\n",
    "\n",
    "test_scores = model.evaluate(tf_train_features, tf_train_labels, verbose=2)\n",
    "print(\"Test loss:\", test_scores)"
   ]
  },
  {
   "cell_type": "code",
   "execution_count": 38,
   "id": "3889a137",
   "metadata": {},
   "outputs": [
    {
     "name": "stdout",
     "output_type": "stream",
     "text": [
      "3.99546921264777e+20\n"
     ]
    },
    {
     "data": {
      "image/png": "[encoded data removed]",
      "text/plain": [
       "<Figure size 432x288 with 1 Axes>"
      ]
     },
     "metadata": {
      "needs_background": "light"
     },
     "output_type": "display_data"
    }
   ],
   "source": [
    "epochs = history.epoch\n",
    "\n",
    "hist = history.history\n",
    "\n",
    "plot_the_loss_curve(epochs, hist[\"loss\"], \n",
    "                    hist[\"val_loss\"])"
   ]
  },
  {
   "cell_type": "code",
   "execution_count": 39,
   "id": "9890df0c",
   "metadata": {},
   "outputs": [
    {
     "data": {
      "text/plain": [
       "<tf.Tensor: shape=(13, 4), dtype=float64, numpy=\n",
       "array([[1.000e+00, 3.250e+05, 2.325e+11, 1.000e-04],\n",
       "       [1.000e+00, 1.000e+05, 2.550e+11, 1.000e-05],\n",
       "       [1.000e+00, 1.000e+05, 2.550e+11, 5.500e-05],\n",
       "       [1.000e+00, 1.000e+06, 2.775e+11, 1.000e-05],\n",
       "       [1.000e+00, 5.500e+05, 2.325e+11, 1.000e-05],\n",
       "       [1.000e+00, 7.750e+05, 2.100e+11, 3.250e-05],\n",
       "       [1.000e+00, 1.000e+05, 2.325e+11, 7.750e-05],\n",
       "       [1.000e+00, 1.000e+06, 2.550e+11, 3.250e-05],\n",
       "       [1.000e+00, 7.750e+05, 3.000e+11, 1.000e-04],\n",
       "       [1.000e+00, 3.250e+05, 2.100e+11, 5.500e-05],\n",
       "       [1.000e+00, 3.250e+05, 3.000e+11, 3.250e-05],\n",
       "       [1.000e+00, 1.000e+05, 2.100e+11, 1.000e-04],\n",
       "       [1.000e+00, 5.500e+05, 2.325e+11, 1.000e-04]])>"
      ]
     },
     "execution_count": 39,
     "metadata": {},
     "output_type": "execute_result"
    }
   ],
   "source": [
    "tf_test_labels"
   ]
  },
  {
   "cell_type": "code",
   "execution_count": 40,
   "id": "f93a0fe6",
   "metadata": {},
   "outputs": [
    {
     "data": {
      "text/plain": [
       "array([[6.4791737e+00, 5.2461850e+05, 2.5671464e+11, 1.4608860e-02],\n",
       "       [7.9791737e+00, 5.2328047e+05, 2.5605551e+11, 1.2646089e+00],\n",
       "       [5.4791737e+00, 5.2501050e+05, 2.5689811e+11, 1.5771089e+00],\n",
       "       [1.1979174e+01, 5.0629647e+05, 2.4771428e+11, 9.3896084e+00],\n",
       "       [1.1979174e+01, 5.1278847e+05, 2.5089517e+11, 5.9521089e+00],\n",
       "       [9.4791737e+00, 5.1934647e+05, 2.5411715e+11, 3.0771089e+00],\n",
       "       [3.4791739e+00, 5.2508250e+05, 2.5693559e+11, 2.5771089e+00],\n",
       "       [9.9791737e+00, 5.1908247e+05, 2.5398867e+11, 4.8271089e+00],\n",
       "       [5.4791737e+00, 5.2400647e+05, 2.5641250e+11, 1.7021089e+00],\n",
       "       [5.4791737e+00, 5.2390047e+05, 2.5635462e+11, 1.5771089e+00],\n",
       "       [8.9791737e+00, 5.2359447e+05, 2.5620962e+11, 1.9521089e+00],\n",
       "       [4.9791737e+00, 5.2511650e+05, 2.5695512e+11, 7.6460886e-01],\n",
       "       [5.9791737e+00, 5.2411847e+05, 2.5646504e+11, 1.5146089e+00]],\n",
       "      dtype=float32)"
      ]
     },
     "execution_count": 40,
     "metadata": {},
     "output_type": "execute_result"
    }
   ],
   "source": [
    "model.predict(tf_test_features)"
   ]
  },
  {
   "cell_type": "code",
   "execution_count": 41,
   "id": "f1fd9230",
   "metadata": {},
   "outputs": [],
   "source": [
    "# There is no point in trying to guess L in this case, as there is only one value for it.\n",
    "\n",
    "# Even for multiple values of L, I think that it doesn't make sense to have [x, y] as inputs and at the same time try to \n",
    "# guess L, at least in the way I was innitially doing, because, (as the x values are linnearly spaced and allways the same\n",
    "# for each L), we could easily check the max value of x and get L from that, without any need for a machine learning method."
   ]
  },
  {
   "cell_type": "code",
   "execution_count": 42,
   "id": "455eab71",
   "metadata": {},
   "outputs": [],
   "source": [
    "# Need to improve the way I feed the data to the model (had to extract it from DataFrames and convert the arrays to tensors...)\n",
    "\n",
    "# Will try to figure out the best loss function, the best architecture for the model,\n",
    "# tune the hyperparameters and try to get good results."
   ]
  }
 ],
 "metadata": {
  "kernelspec": {
   "display_name": "Python 3",
   "language": "python",
   "name": "python3"
  },
  "language_info": {
   "codemirror_mode": {
    "name": "ipython",
    "version": 3
   },
   "file_extension": ".py",
   "mimetype": "text/x-python",
   "name": "python",
   "nbconvert_exporter": "python",
   "pygments_lexer": "ipython3",
   "version": "3.9.5"
  }
 },
 "nbformat": 4,
 "nbformat_minor": 5
}
